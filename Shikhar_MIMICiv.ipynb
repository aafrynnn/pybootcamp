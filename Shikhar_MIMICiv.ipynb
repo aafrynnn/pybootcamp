{
  "nbformat": 4,
  "nbformat_minor": 0,
  "metadata": {
    "colab": {
      "provenance": [],
      "authorship_tag": "ABX9TyMyQHm/BhgsDpyBanhS0UFV",
      "include_colab_link": true
    },
    "kernelspec": {
      "name": "python3",
      "display_name": "Python 3"
    },
    "language_info": {
      "name": "python"
    }
  },
  "cells": [
    {
      "cell_type": "markdown",
      "metadata": {
        "id": "view-in-github",
        "colab_type": "text"
      },
      "source": [
        "<a href=\"https://colab.research.google.com/github/iupui-soic/pybootcamp/blob/main/Shikhar_MIMICiv.ipynb\" target=\"_parent\"><img src=\"https://colab.research.google.com/assets/colab-badge.svg\" alt=\"Open In Colab\"/></a>"
      ]
    },
    {
      "cell_type": "code",
      "execution_count": 1,
      "metadata": {
        "colab": {
          "base_uri": "https://localhost:8080/"
        },
        "id": "EqNkE_1vUBJ5",
        "outputId": "9e03f17e-9736-43dd-f2b4-b18666275339"
      },
      "outputs": [
        {
          "output_type": "stream",
          "name": "stdout",
          "text": [
            "Mounted at /content/gdrive\n"
          ]
        }
      ],
      "source": [
        "\n",
        "from google.colab import drive\n",
        "drive.mount('/content/gdrive')"
      ]
    },
    {
      "cell_type": "code",
      "source": [
        "import pandas as pd\n",
        "import matplotlib.pyplot as plt\n",
        "df_patients = pd.read_csv('/content/gdrive/MyDrive/mimic-iv/patients.csv.gz')\n",
        "df_patients"
      ],
      "metadata": {
        "colab": {
          "base_uri": "https://localhost:8080/",
          "height": 423
        },
        "id": "kd_SUnsAUChp",
        "outputId": "17af7d9a-26a1-413c-fa8e-02b407ebb91d"
      },
      "execution_count": 2,
      "outputs": [
        {
          "output_type": "execute_result",
          "data": {
            "text/plain": [
              "        subject_id gender  anchor_age  anchor_year anchor_year_group  \\\n",
              "0         10000032      F          52         2180       2014 - 2016   \n",
              "1         10000048      F          23         2126       2008 - 2010   \n",
              "2         10000068      F          19         2160       2008 - 2010   \n",
              "3         10000084      M          72         2160       2017 - 2019   \n",
              "4         10000102      F          27         2136       2008 - 2010   \n",
              "...            ...    ...         ...          ...               ...   \n",
              "299772    19999828      F          46         2147       2017 - 2019   \n",
              "299773    19999829      F          28         2186       2008 - 2010   \n",
              "299774    19999840      M          58         2164       2008 - 2010   \n",
              "299775    19999914      F          49         2158       2017 - 2019   \n",
              "299776    19999987      F          57         2145       2011 - 2013   \n",
              "\n",
              "               dod  \n",
              "0       2180-09-09  \n",
              "1              NaN  \n",
              "2              NaN  \n",
              "3       2161-02-13  \n",
              "4              NaN  \n",
              "...            ...  \n",
              "299772         NaN  \n",
              "299773         NaN  \n",
              "299774  2164-09-17  \n",
              "299775         NaN  \n",
              "299776         NaN  \n",
              "\n",
              "[299777 rows x 6 columns]"
            ],
            "text/html": [
              "\n",
              "  <div id=\"df-98f57f3c-2a32-4343-9a58-048a7406d1e6\">\n",
              "    <div class=\"colab-df-container\">\n",
              "      <div>\n",
              "<style scoped>\n",
              "    .dataframe tbody tr th:only-of-type {\n",
              "        vertical-align: middle;\n",
              "    }\n",
              "\n",
              "    .dataframe tbody tr th {\n",
              "        vertical-align: top;\n",
              "    }\n",
              "\n",
              "    .dataframe thead th {\n",
              "        text-align: right;\n",
              "    }\n",
              "</style>\n",
              "<table border=\"1\" class=\"dataframe\">\n",
              "  <thead>\n",
              "    <tr style=\"text-align: right;\">\n",
              "      <th></th>\n",
              "      <th>subject_id</th>\n",
              "      <th>gender</th>\n",
              "      <th>anchor_age</th>\n",
              "      <th>anchor_year</th>\n",
              "      <th>anchor_year_group</th>\n",
              "      <th>dod</th>\n",
              "    </tr>\n",
              "  </thead>\n",
              "  <tbody>\n",
              "    <tr>\n",
              "      <th>0</th>\n",
              "      <td>10000032</td>\n",
              "      <td>F</td>\n",
              "      <td>52</td>\n",
              "      <td>2180</td>\n",
              "      <td>2014 - 2016</td>\n",
              "      <td>2180-09-09</td>\n",
              "    </tr>\n",
              "    <tr>\n",
              "      <th>1</th>\n",
              "      <td>10000048</td>\n",
              "      <td>F</td>\n",
              "      <td>23</td>\n",
              "      <td>2126</td>\n",
              "      <td>2008 - 2010</td>\n",
              "      <td>NaN</td>\n",
              "    </tr>\n",
              "    <tr>\n",
              "      <th>2</th>\n",
              "      <td>10000068</td>\n",
              "      <td>F</td>\n",
              "      <td>19</td>\n",
              "      <td>2160</td>\n",
              "      <td>2008 - 2010</td>\n",
              "      <td>NaN</td>\n",
              "    </tr>\n",
              "    <tr>\n",
              "      <th>3</th>\n",
              "      <td>10000084</td>\n",
              "      <td>M</td>\n",
              "      <td>72</td>\n",
              "      <td>2160</td>\n",
              "      <td>2017 - 2019</td>\n",
              "      <td>2161-02-13</td>\n",
              "    </tr>\n",
              "    <tr>\n",
              "      <th>4</th>\n",
              "      <td>10000102</td>\n",
              "      <td>F</td>\n",
              "      <td>27</td>\n",
              "      <td>2136</td>\n",
              "      <td>2008 - 2010</td>\n",
              "      <td>NaN</td>\n",
              "    </tr>\n",
              "    <tr>\n",
              "      <th>...</th>\n",
              "      <td>...</td>\n",
              "      <td>...</td>\n",
              "      <td>...</td>\n",
              "      <td>...</td>\n",
              "      <td>...</td>\n",
              "      <td>...</td>\n",
              "    </tr>\n",
              "    <tr>\n",
              "      <th>299772</th>\n",
              "      <td>19999828</td>\n",
              "      <td>F</td>\n",
              "      <td>46</td>\n",
              "      <td>2147</td>\n",
              "      <td>2017 - 2019</td>\n",
              "      <td>NaN</td>\n",
              "    </tr>\n",
              "    <tr>\n",
              "      <th>299773</th>\n",
              "      <td>19999829</td>\n",
              "      <td>F</td>\n",
              "      <td>28</td>\n",
              "      <td>2186</td>\n",
              "      <td>2008 - 2010</td>\n",
              "      <td>NaN</td>\n",
              "    </tr>\n",
              "    <tr>\n",
              "      <th>299774</th>\n",
              "      <td>19999840</td>\n",
              "      <td>M</td>\n",
              "      <td>58</td>\n",
              "      <td>2164</td>\n",
              "      <td>2008 - 2010</td>\n",
              "      <td>2164-09-17</td>\n",
              "    </tr>\n",
              "    <tr>\n",
              "      <th>299775</th>\n",
              "      <td>19999914</td>\n",
              "      <td>F</td>\n",
              "      <td>49</td>\n",
              "      <td>2158</td>\n",
              "      <td>2017 - 2019</td>\n",
              "      <td>NaN</td>\n",
              "    </tr>\n",
              "    <tr>\n",
              "      <th>299776</th>\n",
              "      <td>19999987</td>\n",
              "      <td>F</td>\n",
              "      <td>57</td>\n",
              "      <td>2145</td>\n",
              "      <td>2011 - 2013</td>\n",
              "      <td>NaN</td>\n",
              "    </tr>\n",
              "  </tbody>\n",
              "</table>\n",
              "<p>299777 rows × 6 columns</p>\n",
              "</div>\n",
              "      <button class=\"colab-df-convert\" onclick=\"convertToInteractive('df-98f57f3c-2a32-4343-9a58-048a7406d1e6')\"\n",
              "              title=\"Convert this dataframe to an interactive table.\"\n",
              "              style=\"display:none;\">\n",
              "        \n",
              "  <svg xmlns=\"http://www.w3.org/2000/svg\" height=\"24px\"viewBox=\"0 0 24 24\"\n",
              "       width=\"24px\">\n",
              "    <path d=\"M0 0h24v24H0V0z\" fill=\"none\"/>\n",
              "    <path d=\"M18.56 5.44l.94 2.06.94-2.06 2.06-.94-2.06-.94-.94-2.06-.94 2.06-2.06.94zm-11 1L8.5 8.5l.94-2.06 2.06-.94-2.06-.94L8.5 2.5l-.94 2.06-2.06.94zm10 10l.94 2.06.94-2.06 2.06-.94-2.06-.94-.94-2.06-.94 2.06-2.06.94z\"/><path d=\"M17.41 7.96l-1.37-1.37c-.4-.4-.92-.59-1.43-.59-.52 0-1.04.2-1.43.59L10.3 9.45l-7.72 7.72c-.78.78-.78 2.05 0 2.83L4 21.41c.39.39.9.59 1.41.59.51 0 1.02-.2 1.41-.59l7.78-7.78 2.81-2.81c.8-.78.8-2.07 0-2.86zM5.41 20L4 18.59l7.72-7.72 1.47 1.35L5.41 20z\"/>\n",
              "  </svg>\n",
              "      </button>\n",
              "      \n",
              "  <style>\n",
              "    .colab-df-container {\n",
              "      display:flex;\n",
              "      flex-wrap:wrap;\n",
              "      gap: 12px;\n",
              "    }\n",
              "\n",
              "    .colab-df-convert {\n",
              "      background-color: #E8F0FE;\n",
              "      border: none;\n",
              "      border-radius: 50%;\n",
              "      cursor: pointer;\n",
              "      display: none;\n",
              "      fill: #1967D2;\n",
              "      height: 32px;\n",
              "      padding: 0 0 0 0;\n",
              "      width: 32px;\n",
              "    }\n",
              "\n",
              "    .colab-df-convert:hover {\n",
              "      background-color: #E2EBFA;\n",
              "      box-shadow: 0px 1px 2px rgba(60, 64, 67, 0.3), 0px 1px 3px 1px rgba(60, 64, 67, 0.15);\n",
              "      fill: #174EA6;\n",
              "    }\n",
              "\n",
              "    [theme=dark] .colab-df-convert {\n",
              "      background-color: #3B4455;\n",
              "      fill: #D2E3FC;\n",
              "    }\n",
              "\n",
              "    [theme=dark] .colab-df-convert:hover {\n",
              "      background-color: #434B5C;\n",
              "      box-shadow: 0px 1px 3px 1px rgba(0, 0, 0, 0.15);\n",
              "      filter: drop-shadow(0px 1px 2px rgba(0, 0, 0, 0.3));\n",
              "      fill: #FFFFFF;\n",
              "    }\n",
              "  </style>\n",
              "\n",
              "      <script>\n",
              "        const buttonEl =\n",
              "          document.querySelector('#df-98f57f3c-2a32-4343-9a58-048a7406d1e6 button.colab-df-convert');\n",
              "        buttonEl.style.display =\n",
              "          google.colab.kernel.accessAllowed ? 'block' : 'none';\n",
              "\n",
              "        async function convertToInteractive(key) {\n",
              "          const element = document.querySelector('#df-98f57f3c-2a32-4343-9a58-048a7406d1e6');\n",
              "          const dataTable =\n",
              "            await google.colab.kernel.invokeFunction('convertToInteractive',\n",
              "                                                     [key], {});\n",
              "          if (!dataTable) return;\n",
              "\n",
              "          const docLinkHtml = 'Like what you see? Visit the ' +\n",
              "            '<a target=\"_blank\" href=https://colab.research.google.com/notebooks/data_table.ipynb>data table notebook</a>'\n",
              "            + ' to learn more about interactive tables.';\n",
              "          element.innerHTML = '';\n",
              "          dataTable['output_type'] = 'display_data';\n",
              "          await google.colab.output.renderOutput(dataTable, element);\n",
              "          const docLink = document.createElement('div');\n",
              "          docLink.innerHTML = docLinkHtml;\n",
              "          element.appendChild(docLink);\n",
              "        }\n",
              "      </script>\n",
              "    </div>\n",
              "  </div>\n",
              "  "
            ]
          },
          "metadata": {},
          "execution_count": 2
        }
      ]
    },
    {
      "cell_type": "code",
      "source": [
        "#breakdown of gender\n",
        "#descriptive visualization\n",
        "import matplotlib.pyplot as plt\n",
        "import numpy as np\n",
        "\n",
        "my_data = df_patients['gender'].value_counts(normalize=True)*100\n",
        "my_labels = 'female', 'male'\n",
        "explode = (0.1,0.1)\n",
        "plt.pie(my_data, labels=my_labels, autopct='%1.1f%%')\n",
        "plt.title('Gender')\n",
        "plt.axis('equal')\n",
        "plt.show()"
      ],
      "metadata": {
        "colab": {
          "base_uri": "https://localhost:8080/",
          "height": 267
        },
        "id": "nLdqk4AovwT9",
        "outputId": "1ae7b551-cc04-4c90-c4ff-5b4d147473b9"
      },
      "execution_count": null,
      "outputs": [
        {
          "output_type": "display_data",
          "data": {
            "text/plain": [
              "<Figure size 432x288 with 1 Axes>"
            ],
            "image/png": "[encoded data removed]"
          },
          "metadata": {}
        }
      ]
    },
    {
      "cell_type": "code",
      "source": [
        "print(df_patients['gender'].value_counts())"
      ],
      "metadata": {
        "id": "aoJXkW1PeXEE",
        "outputId": "f90e8110-ff75-4ae4-e857-68660ea1f706",
        "colab": {
          "base_uri": "https://localhost:8080/"
        }
      },
      "execution_count": 4,
      "outputs": [
        {
          "output_type": "stream",
          "name": "stdout",
          "text": [
            "F    158550\n",
            "M    141227\n",
            "Name: gender, dtype: int64\n"
          ]
        }
      ]
    },
    {
      "cell_type": "code",
      "source": [
        "plt.hist(df_patients['anchor_age'], color='blue', edgecolor='black')\n",
        "plt.xlabel('Anchor Age')\n",
        "plt.ylabel('Frequency')\n",
        "plt.title('Approx age distribution of the patients')"
      ],
      "metadata": {
        "colab": {
          "base_uri": "https://localhost:8080/",
          "height": 313
        },
        "id": "yAmG9de527HN",
        "outputId": "2031d689-6c1e-4193-b0a1-c1506cc7037b"
      },
      "execution_count": null,
      "outputs": [
        {
          "output_type": "execute_result",
          "data": {
            "text/plain": [
              "Text(0.5, 1.0, 'Approx age distribution of the patients')"
            ]
          },
          "metadata": {},
          "execution_count": 13
        },
        {
          "output_type": "display_data",
          "data": {
            "text/plain": [
              "<Figure size 432x288 with 1 Axes>"
            ],
            "image/png": "[encoded data removed]"
          },
          "metadata": {
            "needs_background": "light"
          }
        }
      ]
    },
    {
      "cell_type": "markdown",
      "source": [
        "The histogram only for the rows in df_patients where the dod (date of death) is not null, which means the rows where the patient has a recorded date of death. This is indicated by the expression df_patients['dod'].notnull(), which returns a boolean mask indicating which rows satisfy the condition.\n",
        "\n",
        "The final result is a histogram showing the distribution of anchor_age values among patients who have a recorded date of death."
      ],
      "metadata": {
        "id": "sVzq6bQC8_NF"
      }
    },
    {
      "cell_type": "code",
      "source": [
        "# approx age distribution of dead patients\n",
        "plt.hist(df_patients[df_patients['dod'].notnull()]['anchor_age'])"
      ],
      "metadata": {
        "colab": {
          "base_uri": "https://localhost:8080/",
          "height": 338
        },
        "id": "I6yPMUVf5jkX",
        "outputId": "2ea8556a-3544-44dd-e056-5df678872ce3"
      },
      "execution_count": 3,
      "outputs": [
        {
          "output_type": "execute_result",
          "data": {
            "text/plain": [
              "(array([ 220.,  351.,  457., 1077., 2016., 3054., 4580., 4500., 5226.,\n",
              "        7607.]),\n",
              " array([18. , 25.3, 32.6, 39.9, 47.2, 54.5, 61.8, 69.1, 76.4, 83.7, 91. ]),\n",
              " <a list of 10 Patch objects>)"
            ]
          },
          "metadata": {},
          "execution_count": 3
        },
        {
          "output_type": "display_data",
          "data": {
            "text/plain": [
              "<Figure size 432x288 with 1 Axes>"
            ],
            "image/png": "[encoded data removed]"
          },
          "metadata": {
            "needs_background": "light"
          }
        }
      ]
    },
    {
      "cell_type": "code",
      "source": [
        "df_admissions = pd.read_csv('/content/gdrive/MyDrive/mimic-iv/admissions.csv.gz')\n",
        "df_admissions"
      ],
      "metadata": {
        "colab": {
          "base_uri": "https://localhost:8080/",
          "height": 834
        },
        "id": "CHMB-_gy8XAJ",
        "outputId": "e82c68c6-2642-4a91-8829-ef5812a8399a"
      },
      "execution_count": 4,
      "outputs": [
        {
          "output_type": "execute_result",
          "data": {
            "text/plain": [
              "        subject_id   hadm_id            admittime            dischtime  \\\n",
              "0         10000032  22595853  2180-05-06 22:23:00  2180-05-07 17:15:00   \n",
              "1         10000032  22841357  2180-06-26 18:27:00  2180-06-27 18:49:00   \n",
              "2         10000032  25742920  2180-08-05 23:44:00  2180-08-07 17:50:00   \n",
              "3         10000032  29079034  2180-07-23 12:35:00  2180-07-25 17:55:00   \n",
              "4         10000068  25022803  2160-03-03 23:16:00  2160-03-04 06:26:00   \n",
              "...            ...       ...                  ...                  ...   \n",
              "431083    19999828  25744818  2149-01-08 16:44:00  2149-01-18 17:00:00   \n",
              "431084    19999828  29734428  2147-07-18 16:23:00  2147-08-04 18:10:00   \n",
              "431085    19999840  21033226  2164-09-10 13:47:00  2164-09-17 13:42:00   \n",
              "431086    19999840  26071774  2164-07-25 00:27:00  2164-07-28 12:15:00   \n",
              "431087    19999987  23865745  2145-11-02 21:38:00  2145-11-11 12:57:00   \n",
              "\n",
              "                  deathtime  admission_type      admission_location  \\\n",
              "0                       NaN          URGENT  TRANSFER FROM HOSPITAL   \n",
              "1                       NaN        EW EMER.          EMERGENCY ROOM   \n",
              "2                       NaN        EW EMER.          EMERGENCY ROOM   \n",
              "3                       NaN        EW EMER.          EMERGENCY ROOM   \n",
              "4                       NaN  EU OBSERVATION          EMERGENCY ROOM   \n",
              "...                     ...             ...                     ...   \n",
              "431083                  NaN        EW EMER.  TRANSFER FROM HOSPITAL   \n",
              "431084                  NaN        EW EMER.      PHYSICIAN REFERRAL   \n",
              "431085  2164-09-17 13:42:00        EW EMER.          EMERGENCY ROOM   \n",
              "431086                  NaN        EW EMER.          EMERGENCY ROOM   \n",
              "431087                  NaN        EW EMER.          EMERGENCY ROOM   \n",
              "\n",
              "       discharge_location insurance language marital_status     race  \\\n",
              "0                    HOME     Other  ENGLISH        WIDOWED    WHITE   \n",
              "1                    HOME  Medicaid  ENGLISH        WIDOWED    WHITE   \n",
              "2                 HOSPICE  Medicaid  ENGLISH        WIDOWED    WHITE   \n",
              "3                    HOME  Medicaid  ENGLISH        WIDOWED    WHITE   \n",
              "4                     NaN     Other  ENGLISH         SINGLE    WHITE   \n",
              "...                   ...       ...      ...            ...      ...   \n",
              "431083   HOME HEALTH CARE     Other  ENGLISH         SINGLE    WHITE   \n",
              "431084   HOME HEALTH CARE     Other  ENGLISH         SINGLE    WHITE   \n",
              "431085               DIED     Other  ENGLISH        WIDOWED    WHITE   \n",
              "431086               HOME     Other  ENGLISH        WIDOWED    WHITE   \n",
              "431087              REHAB     Other  ENGLISH            NaN  UNKNOWN   \n",
              "\n",
              "                  edregtime            edouttime  hospital_expire_flag  \n",
              "0       2180-05-06 19:17:00  2180-05-06 23:30:00                     0  \n",
              "1       2180-06-26 15:54:00  2180-06-26 21:31:00                     0  \n",
              "2       2180-08-05 20:58:00  2180-08-06 01:44:00                     0  \n",
              "3       2180-07-23 05:54:00  2180-07-23 14:00:00                     0  \n",
              "4       2160-03-03 21:55:00  2160-03-04 06:26:00                     0  \n",
              "...                     ...                  ...                   ...  \n",
              "431083  2149-01-08 09:11:00  2149-01-08 18:12:00                     0  \n",
              "431084  2147-07-17 17:18:00  2147-07-18 17:34:00                     0  \n",
              "431085  2164-09-10 11:09:00  2164-09-10 14:46:00                     1  \n",
              "431086  2164-07-24 21:16:00  2164-07-25 01:20:00                     0  \n",
              "431087  2145-11-02 19:28:00  2145-11-02 22:59:00                     0  \n",
              "\n",
              "[431088 rows x 15 columns]"
            ],
            "text/html": [
              "\n",
              "  <div id=\"df-b19a4659-e2f8-4a42-b3df-6d066a43f554\">\n",
              "    <div class=\"colab-df-container\">\n",
              "      <div>\n",
              "<style scoped>\n",
              "    .dataframe tbody tr th:only-of-type {\n",
              "        vertical-align: middle;\n",
              "    }\n",
              "\n",
              "    .dataframe tbody tr th {\n",
              "        vertical-align: top;\n",
              "    }\n",
              "\n",
              "    .dataframe thead th {\n",
              "        text-align: right;\n",
              "    }\n",
              "</style>\n",
              "<table border=\"1\" class=\"dataframe\">\n",
              "  <thead>\n",
              "    <tr style=\"text-align: right;\">\n",
              "      <th></th>\n",
              "      <th>subject_id</th>\n",
              "      <th>hadm_id</th>\n",
              "      <th>admittime</th>\n",
              "      <th>dischtime</th>\n",
              "      <th>deathtime</th>\n",
              "      <th>admission_type</th>\n",
              "      <th>admission_location</th>\n",
              "      <th>discharge_location</th>\n",
              "      <th>insurance</th>\n",
              "      <th>language</th>\n",
              "      <th>marital_status</th>\n",
              "      <th>race</th>\n",
              "      <th>edregtime</th>\n",
              "      <th>edouttime</th>\n",
              "      <th>hospital_expire_flag</th>\n",
              "    </tr>\n",
              "  </thead>\n",
              "  <tbody>\n",
              "    <tr>\n",
              "      <th>0</th>\n",
              "      <td>10000032</td>\n",
              "      <td>22595853</td>\n",
              "      <td>2180-05-06 22:23:00</td>\n",
              "      <td>2180-05-07 17:15:00</td>\n",
              "      <td>NaN</td>\n",
              "      <td>URGENT</td>\n",
              "      <td>TRANSFER FROM HOSPITAL</td>\n",
              "      <td>HOME</td>\n",
              "      <td>Other</td>\n",
              "      <td>ENGLISH</td>\n",
              "      <td>WIDOWED</td>\n",
              "      <td>WHITE</td>\n",
              "      <td>2180-05-06 19:17:00</td>\n",
              "      <td>2180-05-06 23:30:00</td>\n",
              "      <td>0</td>\n",
              "    </tr>\n",
              "    <tr>\n",
              "      <th>1</th>\n",
              "      <td>10000032</td>\n",
              "      <td>22841357</td>\n",
              "      <td>2180-06-26 18:27:00</td>\n",
              "      <td>2180-06-27 18:49:00</td>\n",
              "      <td>NaN</td>\n",
              "      <td>EW EMER.</td>\n",
              "      <td>EMERGENCY ROOM</td>\n",
              "      <td>HOME</td>\n",
              "      <td>Medicaid</td>\n",
              "      <td>ENGLISH</td>\n",
              "      <td>WIDOWED</td>\n",
              "      <td>WHITE</td>\n",
              "      <td>2180-06-26 15:54:00</td>\n",
              "      <td>2180-06-26 21:31:00</td>\n",
              "      <td>0</td>\n",
              "    </tr>\n",
              "    <tr>\n",
              "      <th>2</th>\n",
              "      <td>10000032</td>\n",
              "      <td>25742920</td>\n",
              "      <td>2180-08-05 23:44:00</td>\n",
              "      <td>2180-08-07 17:50:00</td>\n",
              "      <td>NaN</td>\n",
              "      <td>EW EMER.</td>\n",
              "      <td>EMERGENCY ROOM</td>\n",
              "      <td>HOSPICE</td>\n",
              "      <td>Medicaid</td>\n",
              "      <td>ENGLISH</td>\n",
              "      <td>WIDOWED</td>\n",
              "      <td>WHITE</td>\n",
              "      <td>2180-08-05 20:58:00</td>\n",
              "      <td>2180-08-06 01:44:00</td>\n",
              "      <td>0</td>\n",
              "    </tr>\n",
              "    <tr>\n",
              "      <th>3</th>\n",
              "      <td>10000032</td>\n",
              "      <td>29079034</td>\n",
              "      <td>2180-07-23 12:35:00</td>\n",
              "      <td>2180-07-25 17:55:00</td>\n",
              "      <td>NaN</td>\n",
              "      <td>EW EMER.</td>\n",
              "      <td>EMERGENCY ROOM</td>\n",
              "      <td>HOME</td>\n",
              "      <td>Medicaid</td>\n",
              "      <td>ENGLISH</td>\n",
              "      <td>WIDOWED</td>\n",
              "      <td>WHITE</td>\n",
              "      <td>2180-07-23 05:54:00</td>\n",
              "      <td>2180-07-23 14:00:00</td>\n",
              "      <td>0</td>\n",
              "    </tr>\n",
              "    <tr>\n",
              "      <th>4</th>\n",
              "      <td>10000068</td>\n",
              "      <td>25022803</td>\n",
              "      <td>2160-03-03 23:16:00</td>\n",
              "      <td>2160-03-04 06:26:00</td>\n",
              "      <td>NaN</td>\n",
              "      <td>EU OBSERVATION</td>\n",
              "      <td>EMERGENCY ROOM</td>\n",
              "      <td>NaN</td>\n",
              "      <td>Other</td>\n",
              "      <td>ENGLISH</td>\n",
              "      <td>SINGLE</td>\n",
              "      <td>WHITE</td>\n",
              "      <td>2160-03-03 21:55:00</td>\n",
              "      <td>2160-03-04 06:26:00</td>\n",
              "      <td>0</td>\n",
              "    </tr>\n",
              "    <tr>\n",
              "      <th>...</th>\n",
              "      <td>...</td>\n",
              "      <td>...</td>\n",
              "      <td>...</td>\n",
              "      <td>...</td>\n",
              "      <td>...</td>\n",
              "      <td>...</td>\n",
              "      <td>...</td>\n",
              "      <td>...</td>\n",
              "      <td>...</td>\n",
              "      <td>...</td>\n",
              "      <td>...</td>\n",
              "      <td>...</td>\n",
              "      <td>...</td>\n",
              "      <td>...</td>\n",
              "      <td>...</td>\n",
              "    </tr>\n",
              "    <tr>\n",
              "      <th>431083</th>\n",
              "      <td>19999828</td>\n",
              "      <td>25744818</td>\n",
              "      <td>2149-01-08 16:44:00</td>\n",
              "      <td>2149-01-18 17:00:00</td>\n",
              "      <td>NaN</td>\n",
              "      <td>EW EMER.</td>\n",
              "      <td>TRANSFER FROM HOSPITAL</td>\n",
              "      <td>HOME HEALTH CARE</td>\n",
              "      <td>Other</td>\n",
              "      <td>ENGLISH</td>\n",
              "      <td>SINGLE</td>\n",
              "      <td>WHITE</td>\n",
              "      <td>2149-01-08 09:11:00</td>\n",
              "      <td>2149-01-08 18:12:00</td>\n",
              "      <td>0</td>\n",
              "    </tr>\n",
              "    <tr>\n",
              "      <th>431084</th>\n",
              "      <td>19999828</td>\n",
              "      <td>29734428</td>\n",
              "      <td>2147-07-18 16:23:00</td>\n",
              "      <td>2147-08-04 18:10:00</td>\n",
              "      <td>NaN</td>\n",
              "      <td>EW EMER.</td>\n",
              "      <td>PHYSICIAN REFERRAL</td>\n",
              "      <td>HOME HEALTH CARE</td>\n",
              "      <td>Other</td>\n",
              "      <td>ENGLISH</td>\n",
              "      <td>SINGLE</td>\n",
              "      <td>WHITE</td>\n",
              "      <td>2147-07-17 17:18:00</td>\n",
              "      <td>2147-07-18 17:34:00</td>\n",
              "      <td>0</td>\n",
              "    </tr>\n",
              "    <tr>\n",
              "      <th>431085</th>\n",
              "      <td>19999840</td>\n",
              "      <td>21033226</td>\n",
              "      <td>2164-09-10 13:47:00</td>\n",
              "      <td>2164-09-17 13:42:00</td>\n",
              "      <td>2164-09-17 13:42:00</td>\n",
              "      <td>EW EMER.</td>\n",
              "      <td>EMERGENCY ROOM</td>\n",
              "      <td>DIED</td>\n",
              "      <td>Other</td>\n",
              "      <td>ENGLISH</td>\n",
              "      <td>WIDOWED</td>\n",
              "      <td>WHITE</td>\n",
              "      <td>2164-09-10 11:09:00</td>\n",
              "      <td>2164-09-10 14:46:00</td>\n",
              "      <td>1</td>\n",
              "    </tr>\n",
              "    <tr>\n",
              "      <th>431086</th>\n",
              "      <td>19999840</td>\n",
              "      <td>26071774</td>\n",
              "      <td>2164-07-25 00:27:00</td>\n",
              "      <td>2164-07-28 12:15:00</td>\n",
              "      <td>NaN</td>\n",
              "      <td>EW EMER.</td>\n",
              "      <td>EMERGENCY ROOM</td>\n",
              "      <td>HOME</td>\n",
              "      <td>Other</td>\n",
              "      <td>ENGLISH</td>\n",
              "      <td>WIDOWED</td>\n",
              "      <td>WHITE</td>\n",
              "      <td>2164-07-24 21:16:00</td>\n",
              "      <td>2164-07-25 01:20:00</td>\n",
              "      <td>0</td>\n",
              "    </tr>\n",
              "    <tr>\n",
              "      <th>431087</th>\n",
              "      <td>19999987</td>\n",
              "      <td>23865745</td>\n",
              "      <td>2145-11-02 21:38:00</td>\n",
              "      <td>2145-11-11 12:57:00</td>\n",
              "      <td>NaN</td>\n",
              "      <td>EW EMER.</td>\n",
              "      <td>EMERGENCY ROOM</td>\n",
              "      <td>REHAB</td>\n",
              "      <td>Other</td>\n",
              "      <td>ENGLISH</td>\n",
              "      <td>NaN</td>\n",
              "      <td>UNKNOWN</td>\n",
              "      <td>2145-11-02 19:28:00</td>\n",
              "      <td>2145-11-02 22:59:00</td>\n",
              "      <td>0</td>\n",
              "    </tr>\n",
              "  </tbody>\n",
              "</table>\n",
              "<p>431088 rows × 15 columns</p>\n",
              "</div>\n",
              "      <button class=\"colab-df-convert\" onclick=\"convertToInteractive('df-b19a4659-e2f8-4a42-b3df-6d066a43f554')\"\n",
              "              title=\"Convert this dataframe to an interactive table.\"\n",
              "              style=\"display:none;\">\n",
              "        \n",
              "  <svg xmlns=\"http://www.w3.org/2000/svg\" height=\"24px\"viewBox=\"0 0 24 24\"\n",
              "       width=\"24px\">\n",
              "    <path d=\"M0 0h24v24H0V0z\" fill=\"none\"/>\n",
              "    <path d=\"M18.56 5.44l.94 2.06.94-2.06 2.06-.94-2.06-.94-.94-2.06-.94 2.06-2.06.94zm-11 1L8.5 8.5l.94-2.06 2.06-.94-2.06-.94L8.5 2.5l-.94 2.06-2.06.94zm10 10l.94 2.06.94-2.06 2.06-.94-2.06-.94-.94-2.06-.94 2.06-2.06.94z\"/><path d=\"M17.41 7.96l-1.37-1.37c-.4-.4-.92-.59-1.43-.59-.52 0-1.04.2-1.43.59L10.3 9.45l-7.72 7.72c-.78.78-.78 2.05 0 2.83L4 21.41c.39.39.9.59 1.41.59.51 0 1.02-.2 1.41-.59l7.78-7.78 2.81-2.81c.8-.78.8-2.07 0-2.86zM5.41 20L4 18.59l7.72-7.72 1.47 1.35L5.41 20z\"/>\n",
              "  </svg>\n",
              "      </button>\n",
              "      \n",
              "  <style>\n",
              "    .colab-df-container {\n",
              "      display:flex;\n",
              "      flex-wrap:wrap;\n",
              "      gap: 12px;\n",
              "    }\n",
              "\n",
              "    .colab-df-convert {\n",
              "      background-color: #E8F0FE;\n",
              "      border: none;\n",
              "      border-radius: 50%;\n",
              "      cursor: pointer;\n",
              "      display: none;\n",
              "      fill: #1967D2;\n",
              "      height: 32px;\n",
              "      padding: 0 0 0 0;\n",
              "      width: 32px;\n",
              "    }\n",
              "\n",
              "    .colab-df-convert:hover {\n",
              "      background-color: #E2EBFA;\n",
              "      box-shadow: 0px 1px 2px rgba(60, 64, 67, 0.3), 0px 1px 3px 1px rgba(60, 64, 67, 0.15);\n",
              "      fill: #174EA6;\n",
              "    }\n",
              "\n",
              "    [theme=dark] .colab-df-convert {\n",
              "      background-color: #3B4455;\n",
              "      fill: #D2E3FC;\n",
              "    }\n",
              "\n",
              "    [theme=dark] .colab-df-convert:hover {\n",
              "      background-color: #434B5C;\n",
              "      box-shadow: 0px 1px 3px 1px rgba(0, 0, 0, 0.15);\n",
              "      filter: drop-shadow(0px 1px 2px rgba(0, 0, 0, 0.3));\n",
              "      fill: #FFFFFF;\n",
              "    }\n",
              "  </style>\n",
              "\n",
              "      <script>\n",
              "        const buttonEl =\n",
              "          document.querySelector('#df-b19a4659-e2f8-4a42-b3df-6d066a43f554 button.colab-df-convert');\n",
              "        buttonEl.style.display =\n",
              "          google.colab.kernel.accessAllowed ? 'block' : 'none';\n",
              "\n",
              "        async function convertToInteractive(key) {\n",
              "          const element = document.querySelector('#df-b19a4659-e2f8-4a42-b3df-6d066a43f554');\n",
              "          const dataTable =\n",
              "            await google.colab.kernel.invokeFunction('convertToInteractive',\n",
              "                                                     [key], {});\n",
              "          if (!dataTable) return;\n",
              "\n",
              "          const docLinkHtml = 'Like what you see? Visit the ' +\n",
              "            '<a target=\"_blank\" href=https://colab.research.google.com/notebooks/data_table.ipynb>data table notebook</a>'\n",
              "            + ' to learn more about interactive tables.';\n",
              "          element.innerHTML = '';\n",
              "          dataTable['output_type'] = 'display_data';\n",
              "          await google.colab.output.renderOutput(dataTable, element);\n",
              "          const docLink = document.createElement('div');\n",
              "          docLink.innerHTML = docLinkHtml;\n",
              "          element.appendChild(docLink);\n",
              "        }\n",
              "      </script>\n",
              "    </div>\n",
              "  </div>\n",
              "  "
            ]
          },
          "metadata": {},
          "execution_count": 4
        }
      ]
    },
    {
      "cell_type": "code",
      "source": [
        "df_admissions.info()"
      ],
      "metadata": {
        "colab": {
          "base_uri": "https://localhost:8080/"
        },
        "id": "AeGlTSl391E-",
        "outputId": "63063b44-4e1f-4a86-ee2f-e6748f455226"
      },
      "execution_count": null,
      "outputs": [
        {
          "output_type": "stream",
          "name": "stdout",
          "text": [
            "<class 'pandas.core.frame.DataFrame'>\n",
            "RangeIndex: 431088 entries, 0 to 431087\n",
            "Data columns (total 15 columns):\n",
            " #   Column                Non-Null Count   Dtype \n",
            "---  ------                --------------   ----- \n",
            " 0   subject_id            431088 non-null  int64 \n",
            " 1   hadm_id               431088 non-null  int64 \n",
            " 2   admittime             431088 non-null  object\n",
            " 3   dischtime             431088 non-null  object\n",
            " 4   deathtime             8625 non-null    object\n",
            " 5   admission_type        431088 non-null  object\n",
            " 6   admission_location    431088 non-null  object\n",
            " 7   discharge_location    311774 non-null  object\n",
            " 8   insurance             431088 non-null  object\n",
            " 9   language              431088 non-null  object\n",
            " 10  marital_status        421868 non-null  object\n",
            " 11  race                  431088 non-null  object\n",
            " 12  edregtime             299260 non-null  object\n",
            " 13  edouttime             299260 non-null  object\n",
            " 14  hospital_expire_flag  431088 non-null  int64 \n",
            "dtypes: int64(3), object(12)\n",
            "memory usage: 49.3+ MB\n"
          ]
        }
      ]
    },
    {
      "cell_type": "code",
      "source": [
        "# Bar chart of admission types\n",
        "df_admissions['admission_type'].value_counts().plot(kind='barh')"
      ],
      "metadata": {
        "colab": {
          "base_uri": "https://localhost:8080/",
          "height": 376
        },
        "id": "D-ou4ABs98xe",
        "outputId": "25cf65a4-0356-4cc9-c081-e4d35ec94530"
      },
      "execution_count": null,
      "outputs": [
        {
          "output_type": "execute_result",
          "data": {
            "text/plain": [
              "<matplotlib.axes._subplots.AxesSubplot at 0x7f8297af3040>"
            ]
          },
          "metadata": {},
          "execution_count": 26
        },
        {
          "output_type": "display_data",
          "data": {
            "text/plain": [
              "<Figure size 600x400 with 1 Axes>"
            ],
            "image/png": "[encoded data removed]"
          },
          "metadata": {}
        }
      ]
    },
    {
      "cell_type": "code",
      "source": [
        "# Bar chart of admission types\n",
        "df_admissions['hospital_expire_flag'].value_counts().plot(kind='barh')\n",
        "\n",
        "# 0 - survival to hospital discharge\n",
        "# 1 - death in the hospital\n"
      ],
      "metadata": {
        "colab": {
          "base_uri": "https://localhost:8080/",
          "height": 283
        },
        "id": "qi6it0xjY_TP",
        "outputId": "65b2ec7b-2f17-4d59-9e39-279e098edf70"
      },
      "execution_count": 7,
      "outputs": [
        {
          "output_type": "execute_result",
          "data": {
            "text/plain": [
              "<matplotlib.axes._subplots.AxesSubplot at 0x7f9625943700>"
            ]
          },
          "metadata": {},
          "execution_count": 7
        },
        {
          "output_type": "display_data",
          "data": {
            "text/plain": [
              "<Figure size 432x288 with 1 Axes>"
            ],
            "image/png": "[encoded data removed]"
          },
          "metadata": {
            "needs_background": "light"
          }
        }
      ]
    },
    {
      "cell_type": "code",
      "source": [
        "# distribution for admissions per patients\n",
        "plt.boxplot(df_admissions.groupby('subject_id')['hadm_id'].size());"
      ],
      "metadata": {
        "colab": {
          "base_uri": "https://localhost:8080/",
          "height": 358
        },
        "id": "qqYNbLEcNkzk",
        "outputId": "3106f633-75f3-4ca6-8d6f-ee8db0f2c90e"
      },
      "execution_count": null,
      "outputs": [
        {
          "output_type": "display_data",
          "data": {
            "text/plain": [
              "<Figure size 600x400 with 1 Axes>"
            ],
            "image/png": "[encoded data removed]"
          },
          "metadata": {}
        }
      ]
    },
    {
      "cell_type": "code",
      "source": [
        "import numpy as np\n",
        "df_sub_race = df_admissions[['subject_id','race']].drop_duplicates(subset=['subject_id'])"
      ],
      "metadata": {
        "id": "rIdQXapoNkfU"
      },
      "execution_count": 5,
      "outputs": []
    },
    {
      "cell_type": "code",
      "source": [
        "# Combine races\n",
        "df_sub_race['race'] = df_sub_race['race'].str.replace(r'(WHITE.*)','WHITE', regex=True)\n",
        "df_sub_race['race'] = df_sub_race['race'].str.replace(r'(BLACK.*)','BLACK', regex=True)\n",
        "df_sub_race['race'] = df_sub_race['race'].str.replace(r'(ASIAN.*)','ASIAN', regex=True)\n",
        "df_sub_race['race'] = df_sub_race['race'].str.replace(r'(HISPANIC.*)','HISPANIC/LATINO', regex=True)\n",
        "df_sub_race['race'] = df_sub_race['race'].str.replace('UNABLE TO OBTAIN','UNKNOWN', regex=True)\n",
        "df_sub_race['race'] = df_sub_race['race'].str.replace('PATIENT DECLINED TO ANSWER','UNKNOWN', regex=True)\n",
        "df_simplified_race = df_sub_race['race'].value_counts().reset_index()\n",
        "df_simplified_race.columns = ['race', 'counts']\n",
        "df_simplified_race"
      ],
      "metadata": {
        "colab": {
          "base_uri": "https://localhost:8080/",
          "height": 394
        },
        "id": "1YLQXOLsNkQe",
        "outputId": "84b2f6d6-024b-428a-8040-5f9f8aa88c82"
      },
      "execution_count": 6,
      "outputs": [
        {
          "output_type": "execute_result",
          "data": {
            "text/plain": [
              "                                         race  counts\n",
              "0                                       WHITE  120808\n",
              "1                                       BLACK   23459\n",
              "2                                     UNKNOWN   10113\n",
              "3                             HISPANIC/LATINO    9761\n",
              "4                                       ASIAN    7552\n",
              "5                                       OTHER    7464\n",
              "6                                  PORTUGUESE     500\n",
              "7               AMERICAN INDIAN/ALASKA NATIVE     387\n",
              "8                     MULTIPLE RACE/ETHNICITY     252\n",
              "9                              SOUTH AMERICAN     240\n",
              "10  NATIVE HAWAIIAN OR OTHER PACIFIC ISLANDER     211"
            ],
            "text/html": [
              "\n",
              "  <div id=\"df-879f0a73-7ece-46f5-a379-c1bf78b38cb4\">\n",
              "    <div class=\"colab-df-container\">\n",
              "      <div>\n",
              "<style scoped>\n",
              "    .dataframe tbody tr th:only-of-type {\n",
              "        vertical-align: middle;\n",
              "    }\n",
              "\n",
              "    .dataframe tbody tr th {\n",
              "        vertical-align: top;\n",
              "    }\n",
              "\n",
              "    .dataframe thead th {\n",
              "        text-align: right;\n",
              "    }\n",
              "</style>\n",
              "<table border=\"1\" class=\"dataframe\">\n",
              "  <thead>\n",
              "    <tr style=\"text-align: right;\">\n",
              "      <th></th>\n",
              "      <th>race</th>\n",
              "      <th>counts</th>\n",
              "    </tr>\n",
              "  </thead>\n",
              "  <tbody>\n",
              "    <tr>\n",
              "      <th>0</th>\n",
              "      <td>WHITE</td>\n",
              "      <td>120808</td>\n",
              "    </tr>\n",
              "    <tr>\n",
              "      <th>1</th>\n",
              "      <td>BLACK</td>\n",
              "      <td>23459</td>\n",
              "    </tr>\n",
              "    <tr>\n",
              "      <th>2</th>\n",
              "      <td>UNKNOWN</td>\n",
              "      <td>10113</td>\n",
              "    </tr>\n",
              "    <tr>\n",
              "      <th>3</th>\n",
              "      <td>HISPANIC/LATINO</td>\n",
              "      <td>9761</td>\n",
              "    </tr>\n",
              "    <tr>\n",
              "      <th>4</th>\n",
              "      <td>ASIAN</td>\n",
              "      <td>7552</td>\n",
              "    </tr>\n",
              "    <tr>\n",
              "      <th>5</th>\n",
              "      <td>OTHER</td>\n",
              "      <td>7464</td>\n",
              "    </tr>\n",
              "    <tr>\n",
              "      <th>6</th>\n",
              "      <td>PORTUGUESE</td>\n",
              "      <td>500</td>\n",
              "    </tr>\n",
              "    <tr>\n",
              "      <th>7</th>\n",
              "      <td>AMERICAN INDIAN/ALASKA NATIVE</td>\n",
              "      <td>387</td>\n",
              "    </tr>\n",
              "    <tr>\n",
              "      <th>8</th>\n",
              "      <td>MULTIPLE RACE/ETHNICITY</td>\n",
              "      <td>252</td>\n",
              "    </tr>\n",
              "    <tr>\n",
              "      <th>9</th>\n",
              "      <td>SOUTH AMERICAN</td>\n",
              "      <td>240</td>\n",
              "    </tr>\n",
              "    <tr>\n",
              "      <th>10</th>\n",
              "      <td>NATIVE HAWAIIAN OR OTHER PACIFIC ISLANDER</td>\n",
              "      <td>211</td>\n",
              "    </tr>\n",
              "  </tbody>\n",
              "</table>\n",
              "</div>\n",
              "      <button class=\"colab-df-convert\" onclick=\"convertToInteractive('df-879f0a73-7ece-46f5-a379-c1bf78b38cb4')\"\n",
              "              title=\"Convert this dataframe to an interactive table.\"\n",
              "              style=\"display:none;\">\n",
              "        \n",
              "  <svg xmlns=\"http://www.w3.org/2000/svg\" height=\"24px\"viewBox=\"0 0 24 24\"\n",
              "       width=\"24px\">\n",
              "    <path d=\"M0 0h24v24H0V0z\" fill=\"none\"/>\n",
              "    <path d=\"M18.56 5.44l.94 2.06.94-2.06 2.06-.94-2.06-.94-.94-2.06-.94 2.06-2.06.94zm-11 1L8.5 8.5l.94-2.06 2.06-.94-2.06-.94L8.5 2.5l-.94 2.06-2.06.94zm10 10l.94 2.06.94-2.06 2.06-.94-2.06-.94-.94-2.06-.94 2.06-2.06.94z\"/><path d=\"M17.41 7.96l-1.37-1.37c-.4-.4-.92-.59-1.43-.59-.52 0-1.04.2-1.43.59L10.3 9.45l-7.72 7.72c-.78.78-.78 2.05 0 2.83L4 21.41c.39.39.9.59 1.41.59.51 0 1.02-.2 1.41-.59l7.78-7.78 2.81-2.81c.8-.78.8-2.07 0-2.86zM5.41 20L4 18.59l7.72-7.72 1.47 1.35L5.41 20z\"/>\n",
              "  </svg>\n",
              "      </button>\n",
              "      \n",
              "  <style>\n",
              "    .colab-df-container {\n",
              "      display:flex;\n",
              "      flex-wrap:wrap;\n",
              "      gap: 12px;\n",
              "    }\n",
              "\n",
              "    .colab-df-convert {\n",
              "      background-color: #E8F0FE;\n",
              "      border: none;\n",
              "      border-radius: 50%;\n",
              "      cursor: pointer;\n",
              "      display: none;\n",
              "      fill: #1967D2;\n",
              "      height: 32px;\n",
              "      padding: 0 0 0 0;\n",
              "      width: 32px;\n",
              "    }\n",
              "\n",
              "    .colab-df-convert:hover {\n",
              "      background-color: #E2EBFA;\n",
              "      box-shadow: 0px 1px 2px rgba(60, 64, 67, 0.3), 0px 1px 3px 1px rgba(60, 64, 67, 0.15);\n",
              "      fill: #174EA6;\n",
              "    }\n",
              "\n",
              "    [theme=dark] .colab-df-convert {\n",
              "      background-color: #3B4455;\n",
              "      fill: #D2E3FC;\n",
              "    }\n",
              "\n",
              "    [theme=dark] .colab-df-convert:hover {\n",
              "      background-color: #434B5C;\n",
              "      box-shadow: 0px 1px 3px 1px rgba(0, 0, 0, 0.15);\n",
              "      filter: drop-shadow(0px 1px 2px rgba(0, 0, 0, 0.3));\n",
              "      fill: #FFFFFF;\n",
              "    }\n",
              "  </style>\n",
              "\n",
              "      <script>\n",
              "        const buttonEl =\n",
              "          document.querySelector('#df-879f0a73-7ece-46f5-a379-c1bf78b38cb4 button.colab-df-convert');\n",
              "        buttonEl.style.display =\n",
              "          google.colab.kernel.accessAllowed ? 'block' : 'none';\n",
              "\n",
              "        async function convertToInteractive(key) {\n",
              "          const element = document.querySelector('#df-879f0a73-7ece-46f5-a379-c1bf78b38cb4');\n",
              "          const dataTable =\n",
              "            await google.colab.kernel.invokeFunction('convertToInteractive',\n",
              "                                                     [key], {});\n",
              "          if (!dataTable) return;\n",
              "\n",
              "          const docLinkHtml = 'Like what you see? Visit the ' +\n",
              "            '<a target=\"_blank\" href=https://colab.research.google.com/notebooks/data_table.ipynb>data table notebook</a>'\n",
              "            + ' to learn more about interactive tables.';\n",
              "          element.innerHTML = '';\n",
              "          dataTable['output_type'] = 'display_data';\n",
              "          await google.colab.output.renderOutput(dataTable, element);\n",
              "          const docLink = document.createElement('div');\n",
              "          docLink.innerHTML = docLinkHtml;\n",
              "          element.appendChild(docLink);\n",
              "        }\n",
              "      </script>\n",
              "    </div>\n",
              "  </div>\n",
              "  "
            ]
          },
          "metadata": {},
          "execution_count": 6
        }
      ]
    },
    {
      "cell_type": "code",
      "source": [
        "pd.options.mode.chained_assignment = None\n",
        "if df_simplified_race['race'].str.contains('OTHERS').any()==False:\n",
        "  df_simplified_race.iloc[5] = df_simplified_race.iloc[5:].sum()\n",
        "  df_simplified_race['race'][5] = 'OTHERS'\n",
        "\n",
        "plt.pie(df_simplified_race['counts'][:6], labels=df_simplified_race['race'][:6], autopct='%.2f');"
      ],
      "metadata": {
        "colab": {
          "base_uri": "https://localhost:8080/",
          "height": 339
        },
        "id": "wMcewqwoSnno",
        "outputId": "7e9fe8f7-2661-4649-a9a1-f7016f464a92"
      },
      "execution_count": null,
      "outputs": [
        {
          "output_type": "display_data",
          "data": {
            "text/plain": [
              "<Figure size 600x400 with 1 Axes>"
            ],
            "image/png": "[encoded data removed]"
          },
          "metadata": {}
        }
      ]
    },
    {
      "cell_type": "markdown",
      "source": [
        "Calculating the length of stay, first to convert these columns to datetime objects using the to_datetime() function, and then subtract the admission date from the discharge date to get the difference in days. (as length_of_stay)"
      ],
      "metadata": {
        "id": "Y9aTSSnqQCtK"
      }
    },
    {
      "cell_type": "code",
      "source": [
        "df_admissions['los'] = (pd.to_datetime(df_admissions['dischtime'])-pd.to_datetime(df_admissions['admittime']))/pd.Timedelta(hours=1)"
      ],
      "metadata": {
        "id": "4Hsyy5GfHr6_"
      },
      "execution_count": 7,
      "outputs": []
    },
    {
      "cell_type": "code",
      "source": [
        "df_admissions.head()"
      ],
      "metadata": {
        "colab": {
          "base_uri": "https://localhost:8080/",
          "height": 444
        },
        "id": "uUcKdmq2-9nF",
        "outputId": "a6ee7787-68ba-4d19-f1a3-f78fb82ce7e4"
      },
      "execution_count": 8,
      "outputs": [
        {
          "output_type": "execute_result",
          "data": {
            "text/plain": [
              "   subject_id   hadm_id            admittime            dischtime deathtime  \\\n",
              "0    10000032  22595853  2180-05-06 22:23:00  2180-05-07 17:15:00       NaN   \n",
              "1    10000032  22841357  2180-06-26 18:27:00  2180-06-27 18:49:00       NaN   \n",
              "2    10000032  25742920  2180-08-05 23:44:00  2180-08-07 17:50:00       NaN   \n",
              "3    10000032  29079034  2180-07-23 12:35:00  2180-07-25 17:55:00       NaN   \n",
              "4    10000068  25022803  2160-03-03 23:16:00  2160-03-04 06:26:00       NaN   \n",
              "\n",
              "   admission_type      admission_location discharge_location insurance  \\\n",
              "0          URGENT  TRANSFER FROM HOSPITAL               HOME     Other   \n",
              "1        EW EMER.          EMERGENCY ROOM               HOME  Medicaid   \n",
              "2        EW EMER.          EMERGENCY ROOM            HOSPICE  Medicaid   \n",
              "3        EW EMER.          EMERGENCY ROOM               HOME  Medicaid   \n",
              "4  EU OBSERVATION          EMERGENCY ROOM                NaN     Other   \n",
              "\n",
              "  language marital_status   race            edregtime            edouttime  \\\n",
              "0  ENGLISH        WIDOWED  WHITE  2180-05-06 19:17:00  2180-05-06 23:30:00   \n",
              "1  ENGLISH        WIDOWED  WHITE  2180-06-26 15:54:00  2180-06-26 21:31:00   \n",
              "2  ENGLISH        WIDOWED  WHITE  2180-08-05 20:58:00  2180-08-06 01:44:00   \n",
              "3  ENGLISH        WIDOWED  WHITE  2180-07-23 05:54:00  2180-07-23 14:00:00   \n",
              "4  ENGLISH         SINGLE  WHITE  2160-03-03 21:55:00  2160-03-04 06:26:00   \n",
              "\n",
              "   hospital_expire_flag        los  \n",
              "0                     0  18.866667  \n",
              "1                     0  24.366667  \n",
              "2                     0  42.100000  \n",
              "3                     0  53.333333  \n",
              "4                     0   7.166667  "
            ],
            "text/html": [
              "\n",
              "  <div id=\"df-09d39b05-eebf-4e94-95ac-326e7677518d\">\n",
              "    <div class=\"colab-df-container\">\n",
              "      <div>\n",
              "<style scoped>\n",
              "    .dataframe tbody tr th:only-of-type {\n",
              "        vertical-align: middle;\n",
              "    }\n",
              "\n",
              "    .dataframe tbody tr th {\n",
              "        vertical-align: top;\n",
              "    }\n",
              "\n",
              "    .dataframe thead th {\n",
              "        text-align: right;\n",
              "    }\n",
              "</style>\n",
              "<table border=\"1\" class=\"dataframe\">\n",
              "  <thead>\n",
              "    <tr style=\"text-align: right;\">\n",
              "      <th></th>\n",
              "      <th>subject_id</th>\n",
              "      <th>hadm_id</th>\n",
              "      <th>admittime</th>\n",
              "      <th>dischtime</th>\n",
              "      <th>deathtime</th>\n",
              "      <th>admission_type</th>\n",
              "      <th>admission_location</th>\n",
              "      <th>discharge_location</th>\n",
              "      <th>insurance</th>\n",
              "      <th>language</th>\n",
              "      <th>marital_status</th>\n",
              "      <th>race</th>\n",
              "      <th>edregtime</th>\n",
              "      <th>edouttime</th>\n",
              "      <th>hospital_expire_flag</th>\n",
              "      <th>los</th>\n",
              "    </tr>\n",
              "  </thead>\n",
              "  <tbody>\n",
              "    <tr>\n",
              "      <th>0</th>\n",
              "      <td>10000032</td>\n",
              "      <td>22595853</td>\n",
              "      <td>2180-05-06 22:23:00</td>\n",
              "      <td>2180-05-07 17:15:00</td>\n",
              "      <td>NaN</td>\n",
              "      <td>URGENT</td>\n",
              "      <td>TRANSFER FROM HOSPITAL</td>\n",
              "      <td>HOME</td>\n",
              "      <td>Other</td>\n",
              "      <td>ENGLISH</td>\n",
              "      <td>WIDOWED</td>\n",
              "      <td>WHITE</td>\n",
              "      <td>2180-05-06 19:17:00</td>\n",
              "      <td>2180-05-06 23:30:00</td>\n",
              "      <td>0</td>\n",
              "      <td>18.866667</td>\n",
              "    </tr>\n",
              "    <tr>\n",
              "      <th>1</th>\n",
              "      <td>10000032</td>\n",
              "      <td>22841357</td>\n",
              "      <td>2180-06-26 18:27:00</td>\n",
              "      <td>2180-06-27 18:49:00</td>\n",
              "      <td>NaN</td>\n",
              "      <td>EW EMER.</td>\n",
              "      <td>EMERGENCY ROOM</td>\n",
              "      <td>HOME</td>\n",
              "      <td>Medicaid</td>\n",
              "      <td>ENGLISH</td>\n",
              "      <td>WIDOWED</td>\n",
              "      <td>WHITE</td>\n",
              "      <td>2180-06-26 15:54:00</td>\n",
              "      <td>2180-06-26 21:31:00</td>\n",
              "      <td>0</td>\n",
              "      <td>24.366667</td>\n",
              "    </tr>\n",
              "    <tr>\n",
              "      <th>2</th>\n",
              "      <td>10000032</td>\n",
              "      <td>25742920</td>\n",
              "      <td>2180-08-05 23:44:00</td>\n",
              "      <td>2180-08-07 17:50:00</td>\n",
              "      <td>NaN</td>\n",
              "      <td>EW EMER.</td>\n",
              "      <td>EMERGENCY ROOM</td>\n",
              "      <td>HOSPICE</td>\n",
              "      <td>Medicaid</td>\n",
              "      <td>ENGLISH</td>\n",
              "      <td>WIDOWED</td>\n",
              "      <td>WHITE</td>\n",
              "      <td>2180-08-05 20:58:00</td>\n",
              "      <td>2180-08-06 01:44:00</td>\n",
              "      <td>0</td>\n",
              "      <td>42.100000</td>\n",
              "    </tr>\n",
              "    <tr>\n",
              "      <th>3</th>\n",
              "      <td>10000032</td>\n",
              "      <td>29079034</td>\n",
              "      <td>2180-07-23 12:35:00</td>\n",
              "      <td>2180-07-25 17:55:00</td>\n",
              "      <td>NaN</td>\n",
              "      <td>EW EMER.</td>\n",
              "      <td>EMERGENCY ROOM</td>\n",
              "      <td>HOME</td>\n",
              "      <td>Medicaid</td>\n",
              "      <td>ENGLISH</td>\n",
              "      <td>WIDOWED</td>\n",
              "      <td>WHITE</td>\n",
              "      <td>2180-07-23 05:54:00</td>\n",
              "      <td>2180-07-23 14:00:00</td>\n",
              "      <td>0</td>\n",
              "      <td>53.333333</td>\n",
              "    </tr>\n",
              "    <tr>\n",
              "      <th>4</th>\n",
              "      <td>10000068</td>\n",
              "      <td>25022803</td>\n",
              "      <td>2160-03-03 23:16:00</td>\n",
              "      <td>2160-03-04 06:26:00</td>\n",
              "      <td>NaN</td>\n",
              "      <td>EU OBSERVATION</td>\n",
              "      <td>EMERGENCY ROOM</td>\n",
              "      <td>NaN</td>\n",
              "      <td>Other</td>\n",
              "      <td>ENGLISH</td>\n",
              "      <td>SINGLE</td>\n",
              "      <td>WHITE</td>\n",
              "      <td>2160-03-03 21:55:00</td>\n",
              "      <td>2160-03-04 06:26:00</td>\n",
              "      <td>0</td>\n",
              "      <td>7.166667</td>\n",
              "    </tr>\n",
              "  </tbody>\n",
              "</table>\n",
              "</div>\n",
              "      <button class=\"colab-df-convert\" onclick=\"convertToInteractive('df-09d39b05-eebf-4e94-95ac-326e7677518d')\"\n",
              "              title=\"Convert this dataframe to an interactive table.\"\n",
              "              style=\"display:none;\">\n",
              "        \n",
              "  <svg xmlns=\"http://www.w3.org/2000/svg\" height=\"24px\"viewBox=\"0 0 24 24\"\n",
              "       width=\"24px\">\n",
              "    <path d=\"M0 0h24v24H0V0z\" fill=\"none\"/>\n",
              "    <path d=\"M18.56 5.44l.94 2.06.94-2.06 2.06-.94-2.06-.94-.94-2.06-.94 2.06-2.06.94zm-11 1L8.5 8.5l.94-2.06 2.06-.94-2.06-.94L8.5 2.5l-.94 2.06-2.06.94zm10 10l.94 2.06.94-2.06 2.06-.94-2.06-.94-.94-2.06-.94 2.06-2.06.94z\"/><path d=\"M17.41 7.96l-1.37-1.37c-.4-.4-.92-.59-1.43-.59-.52 0-1.04.2-1.43.59L10.3 9.45l-7.72 7.72c-.78.78-.78 2.05 0 2.83L4 21.41c.39.39.9.59 1.41.59.51 0 1.02-.2 1.41-.59l7.78-7.78 2.81-2.81c.8-.78.8-2.07 0-2.86zM5.41 20L4 18.59l7.72-7.72 1.47 1.35L5.41 20z\"/>\n",
              "  </svg>\n",
              "      </button>\n",
              "      \n",
              "  <style>\n",
              "    .colab-df-container {\n",
              "      display:flex;\n",
              "      flex-wrap:wrap;\n",
              "      gap: 12px;\n",
              "    }\n",
              "\n",
              "    .colab-df-convert {\n",
              "      background-color: #E8F0FE;\n",
              "      border: none;\n",
              "      border-radius: 50%;\n",
              "      cursor: pointer;\n",
              "      display: none;\n",
              "      fill: #1967D2;\n",
              "      height: 32px;\n",
              "      padding: 0 0 0 0;\n",
              "      width: 32px;\n",
              "    }\n",
              "\n",
              "    .colab-df-convert:hover {\n",
              "      background-color: #E2EBFA;\n",
              "      box-shadow: 0px 1px 2px rgba(60, 64, 67, 0.3), 0px 1px 3px 1px rgba(60, 64, 67, 0.15);\n",
              "      fill: #174EA6;\n",
              "    }\n",
              "\n",
              "    [theme=dark] .colab-df-convert {\n",
              "      background-color: #3B4455;\n",
              "      fill: #D2E3FC;\n",
              "    }\n",
              "\n",
              "    [theme=dark] .colab-df-convert:hover {\n",
              "      background-color: #434B5C;\n",
              "      box-shadow: 0px 1px 3px 1px rgba(0, 0, 0, 0.15);\n",
              "      filter: drop-shadow(0px 1px 2px rgba(0, 0, 0, 0.3));\n",
              "      fill: #FFFFFF;\n",
              "    }\n",
              "  </style>\n",
              "\n",
              "      <script>\n",
              "        const buttonEl =\n",
              "          document.querySelector('#df-09d39b05-eebf-4e94-95ac-326e7677518d button.colab-df-convert');\n",
              "        buttonEl.style.display =\n",
              "          google.colab.kernel.accessAllowed ? 'block' : 'none';\n",
              "\n",
              "        async function convertToInteractive(key) {\n",
              "          const element = document.querySelector('#df-09d39b05-eebf-4e94-95ac-326e7677518d');\n",
              "          const dataTable =\n",
              "            await google.colab.kernel.invokeFunction('convertToInteractive',\n",
              "                                                     [key], {});\n",
              "          if (!dataTable) return;\n",
              "\n",
              "          const docLinkHtml = 'Like what you see? Visit the ' +\n",
              "            '<a target=\"_blank\" href=https://colab.research.google.com/notebooks/data_table.ipynb>data table notebook</a>'\n",
              "            + ' to learn more about interactive tables.';\n",
              "          element.innerHTML = '';\n",
              "          dataTable['output_type'] = 'display_data';\n",
              "          await google.colab.output.renderOutput(dataTable, element);\n",
              "          const docLink = document.createElement('div');\n",
              "          docLink.innerHTML = docLinkHtml;\n",
              "          element.appendChild(docLink);\n",
              "        }\n",
              "      </script>\n",
              "    </div>\n",
              "  </div>\n",
              "  "
            ]
          },
          "metadata": {},
          "execution_count": 8
        }
      ]
    },
    {
      "cell_type": "code",
      "source": [
        "#The mean length of stay\n",
        "df_admissions['los'].mean()"
      ],
      "metadata": {
        "colab": {
          "base_uri": "https://localhost:8080/"
        },
        "id": "gk9FYFRBHuOQ",
        "outputId": "0bdbce04-10e6-4716-b3d4-813f4f959213"
      },
      "execution_count": 12,
      "outputs": [
        {
          "output_type": "execute_result",
          "data": {
            "text/plain": [
              "107.51788467010601"
            ]
          },
          "metadata": {},
          "execution_count": 12
        }
      ]
    },
    {
      "cell_type": "code",
      "source": [
        "df_merged = pd.merge(df_patients[['subject_id','gender','anchor_age']], df_admissions[['subject_id','hadm_id','los','admission_type','insurance','marital_status','race','hospital_expire_flag']], on='subject_id', how='inner')\n",
        "df_merged"
      ],
      "metadata": {
        "colab": {
          "base_uri": "https://localhost:8080/",
          "height": 423
        },
        "id": "1A80C5GnUp-a",
        "outputId": "35f6cc1e-e1f7-47a9-8a4f-d3adaade0a14"
      },
      "execution_count": 9,
      "outputs": [
        {
          "output_type": "execute_result",
          "data": {
            "text/plain": [
              "        subject_id gender  anchor_age   hadm_id         los  admission_type  \\\n",
              "0         10000032      F          52  22595853   18.866667          URGENT   \n",
              "1         10000032      F          52  22841357   24.366667        EW EMER.   \n",
              "2         10000032      F          52  25742920   42.100000        EW EMER.   \n",
              "3         10000032      F          52  29079034   53.333333        EW EMER.   \n",
              "4         10000068      F          19  25022803    7.166667  EU OBSERVATION   \n",
              "...            ...    ...         ...       ...         ...             ...   \n",
              "431083    19999828      F          46  25744818  240.266667        EW EMER.   \n",
              "431084    19999828      F          46  29734428  409.783333        EW EMER.   \n",
              "431085    19999840      M          58  21033226  167.916667        EW EMER.   \n",
              "431086    19999840      M          58  26071774   83.800000        EW EMER.   \n",
              "431087    19999987      F          57  23865745  207.316667        EW EMER.   \n",
              "\n",
              "       insurance marital_status     race  hospital_expire_flag  \n",
              "0          Other        WIDOWED    WHITE                     0  \n",
              "1       Medicaid        WIDOWED    WHITE                     0  \n",
              "2       Medicaid        WIDOWED    WHITE                     0  \n",
              "3       Medicaid        WIDOWED    WHITE                     0  \n",
              "4          Other         SINGLE    WHITE                     0  \n",
              "...          ...            ...      ...                   ...  \n",
              "431083     Other         SINGLE    WHITE                     0  \n",
              "431084     Other         SINGLE    WHITE                     0  \n",
              "431085     Other        WIDOWED    WHITE                     1  \n",
              "431086     Other        WIDOWED    WHITE                     0  \n",
              "431087     Other            NaN  UNKNOWN                     0  \n",
              "\n",
              "[431088 rows x 10 columns]"
            ],
            "text/html": [
              "\n",
              "  <div id=\"df-1f52d7c8-9e0c-4199-8d09-f92a9c848e2c\">\n",
              "    <div class=\"colab-df-container\">\n",
              "      <div>\n",
              "<style scoped>\n",
              "    .dataframe tbody tr th:only-of-type {\n",
              "        vertical-align: middle;\n",
              "    }\n",
              "\n",
              "    .dataframe tbody tr th {\n",
              "        vertical-align: top;\n",
              "    }\n",
              "\n",
              "    .dataframe thead th {\n",
              "        text-align: right;\n",
              "    }\n",
              "</style>\n",
              "<table border=\"1\" class=\"dataframe\">\n",
              "  <thead>\n",
              "    <tr style=\"text-align: right;\">\n",
              "      <th></th>\n",
              "      <th>subject_id</th>\n",
              "      <th>gender</th>\n",
              "      <th>anchor_age</th>\n",
              "      <th>hadm_id</th>\n",
              "      <th>los</th>\n",
              "      <th>admission_type</th>\n",
              "      <th>insurance</th>\n",
              "      <th>marital_status</th>\n",
              "      <th>race</th>\n",
              "      <th>hospital_expire_flag</th>\n",
              "    </tr>\n",
              "  </thead>\n",
              "  <tbody>\n",
              "    <tr>\n",
              "      <th>0</th>\n",
              "      <td>10000032</td>\n",
              "      <td>F</td>\n",
              "      <td>52</td>\n",
              "      <td>22595853</td>\n",
              "      <td>18.866667</td>\n",
              "      <td>URGENT</td>\n",
              "      <td>Other</td>\n",
              "      <td>WIDOWED</td>\n",
              "      <td>WHITE</td>\n",
              "      <td>0</td>\n",
              "    </tr>\n",
              "    <tr>\n",
              "      <th>1</th>\n",
              "      <td>10000032</td>\n",
              "      <td>F</td>\n",
              "      <td>52</td>\n",
              "      <td>22841357</td>\n",
              "      <td>24.366667</td>\n",
              "      <td>EW EMER.</td>\n",
              "      <td>Medicaid</td>\n",
              "      <td>WIDOWED</td>\n",
              "      <td>WHITE</td>\n",
              "      <td>0</td>\n",
              "    </tr>\n",
              "    <tr>\n",
              "      <th>2</th>\n",
              "      <td>10000032</td>\n",
              "      <td>F</td>\n",
              "      <td>52</td>\n",
              "      <td>25742920</td>\n",
              "      <td>42.100000</td>\n",
              "      <td>EW EMER.</td>\n",
              "      <td>Medicaid</td>\n",
              "      <td>WIDOWED</td>\n",
              "      <td>WHITE</td>\n",
              "      <td>0</td>\n",
              "    </tr>\n",
              "    <tr>\n",
              "      <th>3</th>\n",
              "      <td>10000032</td>\n",
              "      <td>F</td>\n",
              "      <td>52</td>\n",
              "      <td>29079034</td>\n",
              "      <td>53.333333</td>\n",
              "      <td>EW EMER.</td>\n",
              "      <td>Medicaid</td>\n",
              "      <td>WIDOWED</td>\n",
              "      <td>WHITE</td>\n",
              "      <td>0</td>\n",
              "    </tr>\n",
              "    <tr>\n",
              "      <th>4</th>\n",
              "      <td>10000068</td>\n",
              "      <td>F</td>\n",
              "      <td>19</td>\n",
              "      <td>25022803</td>\n",
              "      <td>7.166667</td>\n",
              "      <td>EU OBSERVATION</td>\n",
              "      <td>Other</td>\n",
              "      <td>SINGLE</td>\n",
              "      <td>WHITE</td>\n",
              "      <td>0</td>\n",
              "    </tr>\n",
              "    <tr>\n",
              "      <th>...</th>\n",
              "      <td>...</td>\n",
              "      <td>...</td>\n",
              "      <td>...</td>\n",
              "      <td>...</td>\n",
              "      <td>...</td>\n",
              "      <td>...</td>\n",
              "      <td>...</td>\n",
              "      <td>...</td>\n",
              "      <td>...</td>\n",
              "      <td>...</td>\n",
              "    </tr>\n",
              "    <tr>\n",
              "      <th>431083</th>\n",
              "      <td>19999828</td>\n",
              "      <td>F</td>\n",
              "      <td>46</td>\n",
              "      <td>25744818</td>\n",
              "      <td>240.266667</td>\n",
              "      <td>EW EMER.</td>\n",
              "      <td>Other</td>\n",
              "      <td>SINGLE</td>\n",
              "      <td>WHITE</td>\n",
              "      <td>0</td>\n",
              "    </tr>\n",
              "    <tr>\n",
              "      <th>431084</th>\n",
              "      <td>19999828</td>\n",
              "      <td>F</td>\n",
              "      <td>46</td>\n",
              "      <td>29734428</td>\n",
              "      <td>409.783333</td>\n",
              "      <td>EW EMER.</td>\n",
              "      <td>Other</td>\n",
              "      <td>SINGLE</td>\n",
              "      <td>WHITE</td>\n",
              "      <td>0</td>\n",
              "    </tr>\n",
              "    <tr>\n",
              "      <th>431085</th>\n",
              "      <td>19999840</td>\n",
              "      <td>M</td>\n",
              "      <td>58</td>\n",
              "      <td>21033226</td>\n",
              "      <td>167.916667</td>\n",
              "      <td>EW EMER.</td>\n",
              "      <td>Other</td>\n",
              "      <td>WIDOWED</td>\n",
              "      <td>WHITE</td>\n",
              "      <td>1</td>\n",
              "    </tr>\n",
              "    <tr>\n",
              "      <th>431086</th>\n",
              "      <td>19999840</td>\n",
              "      <td>M</td>\n",
              "      <td>58</td>\n",
              "      <td>26071774</td>\n",
              "      <td>83.800000</td>\n",
              "      <td>EW EMER.</td>\n",
              "      <td>Other</td>\n",
              "      <td>WIDOWED</td>\n",
              "      <td>WHITE</td>\n",
              "      <td>0</td>\n",
              "    </tr>\n",
              "    <tr>\n",
              "      <th>431087</th>\n",
              "      <td>19999987</td>\n",
              "      <td>F</td>\n",
              "      <td>57</td>\n",
              "      <td>23865745</td>\n",
              "      <td>207.316667</td>\n",
              "      <td>EW EMER.</td>\n",
              "      <td>Other</td>\n",
              "      <td>NaN</td>\n",
              "      <td>UNKNOWN</td>\n",
              "      <td>0</td>\n",
              "    </tr>\n",
              "  </tbody>\n",
              "</table>\n",
              "<p>431088 rows × 10 columns</p>\n",
              "</div>\n",
              "      <button class=\"colab-df-convert\" onclick=\"convertToInteractive('df-1f52d7c8-9e0c-4199-8d09-f92a9c848e2c')\"\n",
              "              title=\"Convert this dataframe to an interactive table.\"\n",
              "              style=\"display:none;\">\n",
              "        \n",
              "  <svg xmlns=\"http://www.w3.org/2000/svg\" height=\"24px\"viewBox=\"0 0 24 24\"\n",
              "       width=\"24px\">\n",
              "    <path d=\"M0 0h24v24H0V0z\" fill=\"none\"/>\n",
              "    <path d=\"M18.56 5.44l.94 2.06.94-2.06 2.06-.94-2.06-.94-.94-2.06-.94 2.06-2.06.94zm-11 1L8.5 8.5l.94-2.06 2.06-.94-2.06-.94L8.5 2.5l-.94 2.06-2.06.94zm10 10l.94 2.06.94-2.06 2.06-.94-2.06-.94-.94-2.06-.94 2.06-2.06.94z\"/><path d=\"M17.41 7.96l-1.37-1.37c-.4-.4-.92-.59-1.43-.59-.52 0-1.04.2-1.43.59L10.3 9.45l-7.72 7.72c-.78.78-.78 2.05 0 2.83L4 21.41c.39.39.9.59 1.41.59.51 0 1.02-.2 1.41-.59l7.78-7.78 2.81-2.81c.8-.78.8-2.07 0-2.86zM5.41 20L4 18.59l7.72-7.72 1.47 1.35L5.41 20z\"/>\n",
              "  </svg>\n",
              "      </button>\n",
              "      \n",
              "  <style>\n",
              "    .colab-df-container {\n",
              "      display:flex;\n",
              "      flex-wrap:wrap;\n",
              "      gap: 12px;\n",
              "    }\n",
              "\n",
              "    .colab-df-convert {\n",
              "      background-color: #E8F0FE;\n",
              "      border: none;\n",
              "      border-radius: 50%;\n",
              "      cursor: pointer;\n",
              "      display: none;\n",
              "      fill: #1967D2;\n",
              "      height: 32px;\n",
              "      padding: 0 0 0 0;\n",
              "      width: 32px;\n",
              "    }\n",
              "\n",
              "    .colab-df-convert:hover {\n",
              "      background-color: #E2EBFA;\n",
              "      box-shadow: 0px 1px 2px rgba(60, 64, 67, 0.3), 0px 1px 3px 1px rgba(60, 64, 67, 0.15);\n",
              "      fill: #174EA6;\n",
              "    }\n",
              "\n",
              "    [theme=dark] .colab-df-convert {\n",
              "      background-color: #3B4455;\n",
              "      fill: #D2E3FC;\n",
              "    }\n",
              "\n",
              "    [theme=dark] .colab-df-convert:hover {\n",
              "      background-color: #434B5C;\n",
              "      box-shadow: 0px 1px 3px 1px rgba(0, 0, 0, 0.15);\n",
              "      filter: drop-shadow(0px 1px 2px rgba(0, 0, 0, 0.3));\n",
              "      fill: #FFFFFF;\n",
              "    }\n",
              "  </style>\n",
              "\n",
              "      <script>\n",
              "        const buttonEl =\n",
              "          document.querySelector('#df-1f52d7c8-9e0c-4199-8d09-f92a9c848e2c button.colab-df-convert');\n",
              "        buttonEl.style.display =\n",
              "          google.colab.kernel.accessAllowed ? 'block' : 'none';\n",
              "\n",
              "        async function convertToInteractive(key) {\n",
              "          const element = document.querySelector('#df-1f52d7c8-9e0c-4199-8d09-f92a9c848e2c');\n",
              "          const dataTable =\n",
              "            await google.colab.kernel.invokeFunction('convertToInteractive',\n",
              "                                                     [key], {});\n",
              "          if (!dataTable) return;\n",
              "\n",
              "          const docLinkHtml = 'Like what you see? Visit the ' +\n",
              "            '<a target=\"_blank\" href=https://colab.research.google.com/notebooks/data_table.ipynb>data table notebook</a>'\n",
              "            + ' to learn more about interactive tables.';\n",
              "          element.innerHTML = '';\n",
              "          dataTable['output_type'] = 'display_data';\n",
              "          await google.colab.output.renderOutput(dataTable, element);\n",
              "          const docLink = document.createElement('div');\n",
              "          docLink.innerHTML = docLinkHtml;\n",
              "          element.appendChild(docLink);\n",
              "        }\n",
              "      </script>\n",
              "    </div>\n",
              "  </div>\n",
              "  "
            ]
          },
          "metadata": {},
          "execution_count": 9
        }
      ]
    },
    {
      "cell_type": "code",
      "source": [
        "df_merged['los'].describe()"
      ],
      "metadata": {
        "id": "a4nlsDnnW5EZ",
        "colab": {
          "base_uri": "https://localhost:8080/"
        },
        "outputId": "68ec5c56-aa7a-4637-ac4a-b835a2b19c6b"
      },
      "execution_count": 14,
      "outputs": [
        {
          "output_type": "execute_result",
          "data": {
            "text/plain": [
              "count    431088.000000\n",
              "mean        107.517885\n",
              "std         158.585811\n",
              "min         -22.683333\n",
              "25%          25.666667\n",
              "50%          65.633333\n",
              "75%         125.666667\n",
              "max        7103.716667\n",
              "Name: los, dtype: float64"
            ]
          },
          "metadata": {},
          "execution_count": 14
        }
      ]
    },
    {
      "cell_type": "code",
      "source": [
        "df_merged[df_merged['los'] < 0]"
      ],
      "metadata": {
        "colab": {
          "base_uri": "https://localhost:8080/",
          "height": 423
        },
        "id": "eO-0OH6sLybr",
        "outputId": "97c14e98-16bf-4e45-b2bb-47daeb697349"
      },
      "execution_count": 10,
      "outputs": [
        {
          "output_type": "execute_result",
          "data": {
            "text/plain": [
              "        subject_id gender  anchor_age   hadm_id        los  \\\n",
              "2084      10049642      F          70  26714941  -0.750000   \n",
              "3152      10077373      F          79  23874669  -6.866667   \n",
              "5551      10136283      F          22  29334858 -18.183333   \n",
              "11307     10270064      M          40  29192733  -3.500000   \n",
              "11370     10271174      M          76  26331353  -0.633333   \n",
              "...            ...    ...         ...       ...        ...   \n",
              "426103    19887023      M          91  24942188  -9.900000   \n",
              "426877    19904685      M          49  24196469 -14.816667   \n",
              "427406    19914761      M          86  22348782 -18.450000   \n",
              "429724    19966756      M          72  29577757  -1.400000   \n",
              "431037    19998843      M          45  29554106  -8.000000   \n",
              "\n",
              "            admission_type insurance marital_status                    race  \\\n",
              "2084              EW EMER.     Other            NaN                 UNKNOWN   \n",
              "3152    DIRECT OBSERVATION  Medicare        MARRIED                   WHITE   \n",
              "5551        EU OBSERVATION     Other         SINGLE                   WHITE   \n",
              "11307             EW EMER.     Other        MARRIED                 UNKNOWN   \n",
              "11370             EW EMER.  Medicare            NaN                 UNKNOWN   \n",
              "...                    ...       ...            ...                     ...   \n",
              "426103            EW EMER.     Other        MARRIED                   WHITE   \n",
              "426877            EW EMER.     Other        MARRIED                   WHITE   \n",
              "427406            EW EMER.  Medicare         SINGLE                   WHITE   \n",
              "429724            EW EMER.     Other        MARRIED  BLACK/AFRICAN AMERICAN   \n",
              "431037        DIRECT EMER.     Other         SINGLE                 UNKNOWN   \n",
              "\n",
              "        hospital_expire_flag  \n",
              "2084                       1  \n",
              "3152                       0  \n",
              "5551                       0  \n",
              "11307                      0  \n",
              "11370                      1  \n",
              "...                      ...  \n",
              "426103                     1  \n",
              "426877                     1  \n",
              "427406                     1  \n",
              "429724                     0  \n",
              "431037                     0  \n",
              "\n",
              "[135 rows x 10 columns]"
            ],
            "text/html": [
              "\n",
              "  <div id=\"df-129b6181-9fb9-4e91-9f0c-3d97b9c9911e\">\n",
              "    <div class=\"colab-df-container\">\n",
              "      <div>\n",
              "<style scoped>\n",
              "    .dataframe tbody tr th:only-of-type {\n",
              "        vertical-align: middle;\n",
              "    }\n",
              "\n",
              "    .dataframe tbody tr th {\n",
              "        vertical-align: top;\n",
              "    }\n",
              "\n",
              "    .dataframe thead th {\n",
              "        text-align: right;\n",
              "    }\n",
              "</style>\n",
              "<table border=\"1\" class=\"dataframe\">\n",
              "  <thead>\n",
              "    <tr style=\"text-align: right;\">\n",
              "      <th></th>\n",
              "      <th>subject_id</th>\n",
              "      <th>gender</th>\n",
              "      <th>anchor_age</th>\n",
              "      <th>hadm_id</th>\n",
              "      <th>los</th>\n",
              "      <th>admission_type</th>\n",
              "      <th>insurance</th>\n",
              "      <th>marital_status</th>\n",
              "      <th>race</th>\n",
              "      <th>hospital_expire_flag</th>\n",
              "    </tr>\n",
              "  </thead>\n",
              "  <tbody>\n",
              "    <tr>\n",
              "      <th>2084</th>\n",
              "      <td>10049642</td>\n",
              "      <td>F</td>\n",
              "      <td>70</td>\n",
              "      <td>26714941</td>\n",
              "      <td>-0.750000</td>\n",
              "      <td>EW EMER.</td>\n",
              "      <td>Other</td>\n",
              "      <td>NaN</td>\n",
              "      <td>UNKNOWN</td>\n",
              "      <td>1</td>\n",
              "    </tr>\n",
              "    <tr>\n",
              "      <th>3152</th>\n",
              "      <td>10077373</td>\n",
              "      <td>F</td>\n",
              "      <td>79</td>\n",
              "      <td>23874669</td>\n",
              "      <td>-6.866667</td>\n",
              "      <td>DIRECT OBSERVATION</td>\n",
              "      <td>Medicare</td>\n",
              "      <td>MARRIED</td>\n",
              "      <td>WHITE</td>\n",
              "      <td>0</td>\n",
              "    </tr>\n",
              "    <tr>\n",
              "      <th>5551</th>\n",
              "      <td>10136283</td>\n",
              "      <td>F</td>\n",
              "      <td>22</td>\n",
              "      <td>29334858</td>\n",
              "      <td>-18.183333</td>\n",
              "      <td>EU OBSERVATION</td>\n",
              "      <td>Other</td>\n",
              "      <td>SINGLE</td>\n",
              "      <td>WHITE</td>\n",
              "      <td>0</td>\n",
              "    </tr>\n",
              "    <tr>\n",
              "      <th>11307</th>\n",
              "      <td>10270064</td>\n",
              "      <td>M</td>\n",
              "      <td>40</td>\n",
              "      <td>29192733</td>\n",
              "      <td>-3.500000</td>\n",
              "      <td>EW EMER.</td>\n",
              "      <td>Other</td>\n",
              "      <td>MARRIED</td>\n",
              "      <td>UNKNOWN</td>\n",
              "      <td>0</td>\n",
              "    </tr>\n",
              "    <tr>\n",
              "      <th>11370</th>\n",
              "      <td>10271174</td>\n",
              "      <td>M</td>\n",
              "      <td>76</td>\n",
              "      <td>26331353</td>\n",
              "      <td>-0.633333</td>\n",
              "      <td>EW EMER.</td>\n",
              "      <td>Medicare</td>\n",
              "      <td>NaN</td>\n",
              "      <td>UNKNOWN</td>\n",
              "      <td>1</td>\n",
              "    </tr>\n",
              "    <tr>\n",
              "      <th>...</th>\n",
              "      <td>...</td>\n",
              "      <td>...</td>\n",
              "      <td>...</td>\n",
              "      <td>...</td>\n",
              "      <td>...</td>\n",
              "      <td>...</td>\n",
              "      <td>...</td>\n",
              "      <td>...</td>\n",
              "      <td>...</td>\n",
              "      <td>...</td>\n",
              "    </tr>\n",
              "    <tr>\n",
              "      <th>426103</th>\n",
              "      <td>19887023</td>\n",
              "      <td>M</td>\n",
              "      <td>91</td>\n",
              "      <td>24942188</td>\n",
              "      <td>-9.900000</td>\n",
              "      <td>EW EMER.</td>\n",
              "      <td>Other</td>\n",
              "      <td>MARRIED</td>\n",
              "      <td>WHITE</td>\n",
              "      <td>1</td>\n",
              "    </tr>\n",
              "    <tr>\n",
              "      <th>426877</th>\n",
              "      <td>19904685</td>\n",
              "      <td>M</td>\n",
              "      <td>49</td>\n",
              "      <td>24196469</td>\n",
              "      <td>-14.816667</td>\n",
              "      <td>EW EMER.</td>\n",
              "      <td>Other</td>\n",
              "      <td>MARRIED</td>\n",
              "      <td>WHITE</td>\n",
              "      <td>1</td>\n",
              "    </tr>\n",
              "    <tr>\n",
              "      <th>427406</th>\n",
              "      <td>19914761</td>\n",
              "      <td>M</td>\n",
              "      <td>86</td>\n",
              "      <td>22348782</td>\n",
              "      <td>-18.450000</td>\n",
              "      <td>EW EMER.</td>\n",
              "      <td>Medicare</td>\n",
              "      <td>SINGLE</td>\n",
              "      <td>WHITE</td>\n",
              "      <td>1</td>\n",
              "    </tr>\n",
              "    <tr>\n",
              "      <th>429724</th>\n",
              "      <td>19966756</td>\n",
              "      <td>M</td>\n",
              "      <td>72</td>\n",
              "      <td>29577757</td>\n",
              "      <td>-1.400000</td>\n",
              "      <td>EW EMER.</td>\n",
              "      <td>Other</td>\n",
              "      <td>MARRIED</td>\n",
              "      <td>BLACK/AFRICAN AMERICAN</td>\n",
              "      <td>0</td>\n",
              "    </tr>\n",
              "    <tr>\n",
              "      <th>431037</th>\n",
              "      <td>19998843</td>\n",
              "      <td>M</td>\n",
              "      <td>45</td>\n",
              "      <td>29554106</td>\n",
              "      <td>-8.000000</td>\n",
              "      <td>DIRECT EMER.</td>\n",
              "      <td>Other</td>\n",
              "      <td>SINGLE</td>\n",
              "      <td>UNKNOWN</td>\n",
              "      <td>0</td>\n",
              "    </tr>\n",
              "  </tbody>\n",
              "</table>\n",
              "<p>135 rows × 10 columns</p>\n",
              "</div>\n",
              "      <button class=\"colab-df-convert\" onclick=\"convertToInteractive('df-129b6181-9fb9-4e91-9f0c-3d97b9c9911e')\"\n",
              "              title=\"Convert this dataframe to an interactive table.\"\n",
              "              style=\"display:none;\">\n",
              "        \n",
              "  <svg xmlns=\"http://www.w3.org/2000/svg\" height=\"24px\"viewBox=\"0 0 24 24\"\n",
              "       width=\"24px\">\n",
              "    <path d=\"M0 0h24v24H0V0z\" fill=\"none\"/>\n",
              "    <path d=\"M18.56 5.44l.94 2.06.94-2.06 2.06-.94-2.06-.94-.94-2.06-.94 2.06-2.06.94zm-11 1L8.5 8.5l.94-2.06 2.06-.94-2.06-.94L8.5 2.5l-.94 2.06-2.06.94zm10 10l.94 2.06.94-2.06 2.06-.94-2.06-.94-.94-2.06-.94 2.06-2.06.94z\"/><path d=\"M17.41 7.96l-1.37-1.37c-.4-.4-.92-.59-1.43-.59-.52 0-1.04.2-1.43.59L10.3 9.45l-7.72 7.72c-.78.78-.78 2.05 0 2.83L4 21.41c.39.39.9.59 1.41.59.51 0 1.02-.2 1.41-.59l7.78-7.78 2.81-2.81c.8-.78.8-2.07 0-2.86zM5.41 20L4 18.59l7.72-7.72 1.47 1.35L5.41 20z\"/>\n",
              "  </svg>\n",
              "      </button>\n",
              "      \n",
              "  <style>\n",
              "    .colab-df-container {\n",
              "      display:flex;\n",
              "      flex-wrap:wrap;\n",
              "      gap: 12px;\n",
              "    }\n",
              "\n",
              "    .colab-df-convert {\n",
              "      background-color: #E8F0FE;\n",
              "      border: none;\n",
              "      border-radius: 50%;\n",
              "      cursor: pointer;\n",
              "      display: none;\n",
              "      fill: #1967D2;\n",
              "      height: 32px;\n",
              "      padding: 0 0 0 0;\n",
              "      width: 32px;\n",
              "    }\n",
              "\n",
              "    .colab-df-convert:hover {\n",
              "      background-color: #E2EBFA;\n",
              "      box-shadow: 0px 1px 2px rgba(60, 64, 67, 0.3), 0px 1px 3px 1px rgba(60, 64, 67, 0.15);\n",
              "      fill: #174EA6;\n",
              "    }\n",
              "\n",
              "    [theme=dark] .colab-df-convert {\n",
              "      background-color: #3B4455;\n",
              "      fill: #D2E3FC;\n",
              "    }\n",
              "\n",
              "    [theme=dark] .colab-df-convert:hover {\n",
              "      background-color: #434B5C;\n",
              "      box-shadow: 0px 1px 3px 1px rgba(0, 0, 0, 0.15);\n",
              "      filter: drop-shadow(0px 1px 2px rgba(0, 0, 0, 0.3));\n",
              "      fill: #FFFFFF;\n",
              "    }\n",
              "  </style>\n",
              "\n",
              "      <script>\n",
              "        const buttonEl =\n",
              "          document.querySelector('#df-129b6181-9fb9-4e91-9f0c-3d97b9c9911e button.colab-df-convert');\n",
              "        buttonEl.style.display =\n",
              "          google.colab.kernel.accessAllowed ? 'block' : 'none';\n",
              "\n",
              "        async function convertToInteractive(key) {\n",
              "          const element = document.querySelector('#df-129b6181-9fb9-4e91-9f0c-3d97b9c9911e');\n",
              "          const dataTable =\n",
              "            await google.colab.kernel.invokeFunction('convertToInteractive',\n",
              "                                                     [key], {});\n",
              "          if (!dataTable) return;\n",
              "\n",
              "          const docLinkHtml = 'Like what you see? Visit the ' +\n",
              "            '<a target=\"_blank\" href=https://colab.research.google.com/notebooks/data_table.ipynb>data table notebook</a>'\n",
              "            + ' to learn more about interactive tables.';\n",
              "          element.innerHTML = '';\n",
              "          dataTable['output_type'] = 'display_data';\n",
              "          await google.colab.output.renderOutput(dataTable, element);\n",
              "          const docLink = document.createElement('div');\n",
              "          docLink.innerHTML = docLinkHtml;\n",
              "          element.appendChild(docLink);\n",
              "        }\n",
              "      </script>\n",
              "    </div>\n",
              "  </div>\n",
              "  "
            ]
          },
          "metadata": {},
          "execution_count": 10
        }
      ]
    },
    {
      "cell_type": "markdown",
      "source": [
        "There are rows with negative los, this indicates time of death before admission, dropping the rows with negative los."
      ],
      "metadata": {
        "id": "H6R7tlrtMes6"
      }
    },
    {
      "cell_type": "code",
      "source": [
        "df_merged = df_merged[df_merged['los'] > 0]\n",
        "df_merged.describe()"
      ],
      "metadata": {
        "colab": {
          "base_uri": "https://localhost:8080/",
          "height": 300
        },
        "id": "_TUf4m-oMP8J",
        "outputId": "db4b246e-11e2-42ae-a5cb-7c7ceaa8286c"
      },
      "execution_count": 11,
      "outputs": [
        {
          "output_type": "execute_result",
          "data": {
            "text/plain": [
              "         subject_id     anchor_age       hadm_id            los  \\\n",
              "count  4.309480e+05  430948.000000  4.309480e+05  430948.000000   \n",
              "mean   1.500407e+07      56.904295  2.500050e+07     107.555125   \n",
              "std    2.881211e+06      19.041340  2.887728e+06     158.598054   \n",
              "min    1.000003e+07      18.000000  2.000002e+07       0.016667   \n",
              "25%    1.250483e+07      43.000000  2.249966e+07      25.700000   \n",
              "50%    1.501288e+07      58.000000  2.500268e+07      65.650000   \n",
              "75%    1.750022e+07      72.000000  2.750143e+07     125.716667   \n",
              "max    1.999999e+07      91.000000  2.999993e+07    7103.716667   \n",
              "\n",
              "       hospital_expire_flag  \n",
              "count         430948.000000  \n",
              "mean               0.019882  \n",
              "std                0.139594  \n",
              "min                0.000000  \n",
              "25%                0.000000  \n",
              "50%                0.000000  \n",
              "75%                0.000000  \n",
              "max                1.000000  "
            ],
            "text/html": [
              "\n",
              "  <div id=\"df-903b277c-2825-410b-ae44-9e8d0717da12\">\n",
              "    <div class=\"colab-df-container\">\n",
              "      <div>\n",
              "<style scoped>\n",
              "    .dataframe tbody tr th:only-of-type {\n",
              "        vertical-align: middle;\n",
              "    }\n",
              "\n",
              "    .dataframe tbody tr th {\n",
              "        vertical-align: top;\n",
              "    }\n",
              "\n",
              "    .dataframe thead th {\n",
              "        text-align: right;\n",
              "    }\n",
              "</style>\n",
              "<table border=\"1\" class=\"dataframe\">\n",
              "  <thead>\n",
              "    <tr style=\"text-align: right;\">\n",
              "      <th></th>\n",
              "      <th>subject_id</th>\n",
              "      <th>anchor_age</th>\n",
              "      <th>hadm_id</th>\n",
              "      <th>los</th>\n",
              "      <th>hospital_expire_flag</th>\n",
              "    </tr>\n",
              "  </thead>\n",
              "  <tbody>\n",
              "    <tr>\n",
              "      <th>count</th>\n",
              "      <td>4.309480e+05</td>\n",
              "      <td>430948.000000</td>\n",
              "      <td>4.309480e+05</td>\n",
              "      <td>430948.000000</td>\n",
              "      <td>430948.000000</td>\n",
              "    </tr>\n",
              "    <tr>\n",
              "      <th>mean</th>\n",
              "      <td>1.500407e+07</td>\n",
              "      <td>56.904295</td>\n",
              "      <td>2.500050e+07</td>\n",
              "      <td>107.555125</td>\n",
              "      <td>0.019882</td>\n",
              "    </tr>\n",
              "    <tr>\n",
              "      <th>std</th>\n",
              "      <td>2.881211e+06</td>\n",
              "      <td>19.041340</td>\n",
              "      <td>2.887728e+06</td>\n",
              "      <td>158.598054</td>\n",
              "      <td>0.139594</td>\n",
              "    </tr>\n",
              "    <tr>\n",
              "      <th>min</th>\n",
              "      <td>1.000003e+07</td>\n",
              "      <td>18.000000</td>\n",
              "      <td>2.000002e+07</td>\n",
              "      <td>0.016667</td>\n",
              "      <td>0.000000</td>\n",
              "    </tr>\n",
              "    <tr>\n",
              "      <th>25%</th>\n",
              "      <td>1.250483e+07</td>\n",
              "      <td>43.000000</td>\n",
              "      <td>2.249966e+07</td>\n",
              "      <td>25.700000</td>\n",
              "      <td>0.000000</td>\n",
              "    </tr>\n",
              "    <tr>\n",
              "      <th>50%</th>\n",
              "      <td>1.501288e+07</td>\n",
              "      <td>58.000000</td>\n",
              "      <td>2.500268e+07</td>\n",
              "      <td>65.650000</td>\n",
              "      <td>0.000000</td>\n",
              "    </tr>\n",
              "    <tr>\n",
              "      <th>75%</th>\n",
              "      <td>1.750022e+07</td>\n",
              "      <td>72.000000</td>\n",
              "      <td>2.750143e+07</td>\n",
              "      <td>125.716667</td>\n",
              "      <td>0.000000</td>\n",
              "    </tr>\n",
              "    <tr>\n",
              "      <th>max</th>\n",
              "      <td>1.999999e+07</td>\n",
              "      <td>91.000000</td>\n",
              "      <td>2.999993e+07</td>\n",
              "      <td>7103.716667</td>\n",
              "      <td>1.000000</td>\n",
              "    </tr>\n",
              "  </tbody>\n",
              "</table>\n",
              "</div>\n",
              "      <button class=\"colab-df-convert\" onclick=\"convertToInteractive('df-903b277c-2825-410b-ae44-9e8d0717da12')\"\n",
              "              title=\"Convert this dataframe to an interactive table.\"\n",
              "              style=\"display:none;\">\n",
              "        \n",
              "  <svg xmlns=\"http://www.w3.org/2000/svg\" height=\"24px\"viewBox=\"0 0 24 24\"\n",
              "       width=\"24px\">\n",
              "    <path d=\"M0 0h24v24H0V0z\" fill=\"none\"/>\n",
              "    <path d=\"M18.56 5.44l.94 2.06.94-2.06 2.06-.94-2.06-.94-.94-2.06-.94 2.06-2.06.94zm-11 1L8.5 8.5l.94-2.06 2.06-.94-2.06-.94L8.5 2.5l-.94 2.06-2.06.94zm10 10l.94 2.06.94-2.06 2.06-.94-2.06-.94-.94-2.06-.94 2.06-2.06.94z\"/><path d=\"M17.41 7.96l-1.37-1.37c-.4-.4-.92-.59-1.43-.59-.52 0-1.04.2-1.43.59L10.3 9.45l-7.72 7.72c-.78.78-.78 2.05 0 2.83L4 21.41c.39.39.9.59 1.41.59.51 0 1.02-.2 1.41-.59l7.78-7.78 2.81-2.81c.8-.78.8-2.07 0-2.86zM5.41 20L4 18.59l7.72-7.72 1.47 1.35L5.41 20z\"/>\n",
              "  </svg>\n",
              "      </button>\n",
              "      \n",
              "  <style>\n",
              "    .colab-df-container {\n",
              "      display:flex;\n",
              "      flex-wrap:wrap;\n",
              "      gap: 12px;\n",
              "    }\n",
              "\n",
              "    .colab-df-convert {\n",
              "      background-color: #E8F0FE;\n",
              "      border: none;\n",
              "      border-radius: 50%;\n",
              "      cursor: pointer;\n",
              "      display: none;\n",
              "      fill: #1967D2;\n",
              "      height: 32px;\n",
              "      padding: 0 0 0 0;\n",
              "      width: 32px;\n",
              "    }\n",
              "\n",
              "    .colab-df-convert:hover {\n",
              "      background-color: #E2EBFA;\n",
              "      box-shadow: 0px 1px 2px rgba(60, 64, 67, 0.3), 0px 1px 3px 1px rgba(60, 64, 67, 0.15);\n",
              "      fill: #174EA6;\n",
              "    }\n",
              "\n",
              "    [theme=dark] .colab-df-convert {\n",
              "      background-color: #3B4455;\n",
              "      fill: #D2E3FC;\n",
              "    }\n",
              "\n",
              "    [theme=dark] .colab-df-convert:hover {\n",
              "      background-color: #434B5C;\n",
              "      box-shadow: 0px 1px 3px 1px rgba(0, 0, 0, 0.15);\n",
              "      filter: drop-shadow(0px 1px 2px rgba(0, 0, 0, 0.3));\n",
              "      fill: #FFFFFF;\n",
              "    }\n",
              "  </style>\n",
              "\n",
              "      <script>\n",
              "        const buttonEl =\n",
              "          document.querySelector('#df-903b277c-2825-410b-ae44-9e8d0717da12 button.colab-df-convert');\n",
              "        buttonEl.style.display =\n",
              "          google.colab.kernel.accessAllowed ? 'block' : 'none';\n",
              "\n",
              "        async function convertToInteractive(key) {\n",
              "          const element = document.querySelector('#df-903b277c-2825-410b-ae44-9e8d0717da12');\n",
              "          const dataTable =\n",
              "            await google.colab.kernel.invokeFunction('convertToInteractive',\n",
              "                                                     [key], {});\n",
              "          if (!dataTable) return;\n",
              "\n",
              "          const docLinkHtml = 'Like what you see? Visit the ' +\n",
              "            '<a target=\"_blank\" href=https://colab.research.google.com/notebooks/data_table.ipynb>data table notebook</a>'\n",
              "            + ' to learn more about interactive tables.';\n",
              "          element.innerHTML = '';\n",
              "          dataTable['output_type'] = 'display_data';\n",
              "          await google.colab.output.renderOutput(dataTable, element);\n",
              "          const docLink = document.createElement('div');\n",
              "          docLink.innerHTML = docLinkHtml;\n",
              "          element.appendChild(docLink);\n",
              "        }\n",
              "      </script>\n",
              "    </div>\n",
              "  </div>\n",
              "  "
            ]
          },
          "metadata": {},
          "execution_count": 11
        }
      ]
    },
    {
      "cell_type": "code",
      "source": [
        "import seaborn as sns\n",
        "\n",
        "# Use seaborn to create a histogram of the 'los' column\n",
        "sns.histplot(df_merged['los'], bins=200, color='blue')\n",
        "\n",
        "# Set the x-axis limits to 0-50\n",
        "plt.xlim(0, 50)\n",
        "\n",
        "# Add a title and axis labels\n",
        "plt.title('Comparison of the length of stays for all hospital admissions, including those of the deceased')\n",
        "plt.ylabel('Count')\n",
        "plt.xlabel('Length-of-Stay in hours')\n",
        "\n",
        "# Show the plot\n",
        "plt.show()"
      ],
      "metadata": {
        "colab": {
          "base_uri": "https://localhost:8080/",
          "height": 295
        },
        "id": "cOwZtXU_M96q",
        "outputId": "49484b04-0b89-4e6d-b4ae-7c7575fa2e09"
      },
      "execution_count": 12,
      "outputs": [
        {
          "output_type": "display_data",
          "data": {
            "text/plain": [
              "<Figure size 432x288 with 1 Axes>"
            ],
            "image/png": "[encoded data removed]"
          },
          "metadata": {
            "needs_background": "light"
          }
        }
      ]
    },
    {
      "cell_type": "code",
      "source": [
        "# Count the number of patients who died at the hospital and the total number of patients\n",
        "num_died = df_merged['hospital_expire_flag'].sum()\n",
        "num_patients = df_merged['subject_id'].nunique()\n",
        "\n",
        "# Use an f-string to create the output string\n",
        "output = f\"{num_died} of {num_patients} patients died at the hospital\"\n",
        "\n",
        "# Print the output string\n",
        "print(output)\n"
      ],
      "metadata": {
        "colab": {
          "base_uri": "https://localhost:8080/"
        },
        "id": "cehDmUx8NQ-u",
        "outputId": "3e744e8f-9bc4-4215-e28c-a0c099a22817"
      },
      "execution_count": 13,
      "outputs": [
        {
          "output_type": "stream",
          "name": "stdout",
          "text": [
            "8568 of 180690 patients died at the hospital\n"
          ]
        }
      ]
    },
    {
      "cell_type": "code",
      "source": [
        "# Count the number of 0s in the 'col' column\n",
        "num_zeros = (df_merged['hospital_expire_flag'] == 1).sum()\n",
        "\n",
        "print(num_zeros)"
      ],
      "metadata": {
        "colab": {
          "base_uri": "https://localhost:8080/"
        },
        "id": "ho8jn4CZODtD",
        "outputId": "b6c6fdbc-d04d-4f6c-d3e0-aef9ca2c86ec"
      },
      "execution_count": 19,
      "outputs": [
        {
          "output_type": "stream",
          "name": "stdout",
          "text": [
            "8568\n"
          ]
        }
      ]
    },
    {
      "cell_type": "markdown",
      "source": [
        "Age Column"
      ],
      "metadata": {
        "id": "aWzB85GVhD7d"
      }
    },
    {
      "cell_type": "code",
      "source": [
        "import matplotlib.pyplot as plt\n",
        "\n",
        "# Create a scatterplot of 'anchor_age' and 'los'\n",
        "plt.scatter(df_merged['anchor_age'], df_merged['los'], alpha=0.1)\n",
        "\n",
        "# Add axis labels and a title\n",
        "plt.ylabel('Length-of-Stay (hours)')\n",
        "plt.xlabel('Age (years)')\n",
        "plt.title('Age versus Length-of-Stay')\n",
        "\n",
        "# Set the y-axis limits\n",
        "plt.ylim(1, 8000)\n",
        "\n",
        "# Add gridlines\n",
        "plt.grid(True, alpha=0.1)\n",
        "\n",
        "# Remove the top and right spines\n",
        "plt.gca().spines['top'].set_visible(False)\n",
        "plt.gca().spines['right'].set_visible(False)\n",
        "\n",
        "# Show the plot\n",
        "plt.show()\n"
      ],
      "metadata": {
        "colab": {
          "base_uri": "https://localhost:8080/",
          "height": 295
        },
        "id": "sU-vwpxdQv8Y",
        "outputId": "4ad3e1c2-e527-46ea-a40d-e3b9b22c6e13"
      },
      "execution_count": 14,
      "outputs": [
        {
          "output_type": "display_data",
          "data": {
            "text/plain": [
              "<Figure size 432x288 with 1 Axes>"
            ],
            "image/png": "[encoded data removed]"
          },
          "metadata": {
            "needs_background": "light"
          }
        }
      ]
    },
    {
      "cell_type": "code",
      "source": [
        "import pandas as pd\n",
        "\n",
        "# Define the age ranges\n",
        "age_ranges = [(0, 35), (36, 55), (56, 100)]\n",
        "\n",
        "# Convert the 'anchor_age' column to a numeric data type\n",
        "df_merged['anchor_age'] = df_merged['anchor_age'].astype(int)\n",
        "\n",
        "# Create a new column 'age_range' that contains the age range for each patient\n",
        "df_merged['age_range'] = pd.cut(df_merged['anchor_age'], bins=[range[0] for range in age_ranges] + [age_ranges[-1][1] + 1], labels=['youth', 'adult', 'senior'])\n",
        "\n",
        "# Print the value counts for the new column\n",
        "print(df_merged['age_range'].value_counts())\n"
      ],
      "metadata": {
        "colab": {
          "base_uri": "https://localhost:8080/"
        },
        "id": "aur0rlVjhNrg",
        "outputId": "254643d1-f5b1-4361-e8c0-283018e0f546"
      },
      "execution_count": 15,
      "outputs": [
        {
          "output_type": "stream",
          "name": "stdout",
          "text": [
            "senior    229732\n",
            "adult     123421\n",
            "youth      77795\n",
            "Name: age_range, dtype: int64\n"
          ]
        },
        {
          "output_type": "stream",
          "name": "stderr",
          "text": [
            "<ipython-input-15-f8a797fc11b9>:7: SettingWithCopyWarning: \n",
            "A value is trying to be set on a copy of a slice from a DataFrame.\n",
            "Try using .loc[row_indexer,col_indexer] = value instead\n",
            "\n",
            "See the caveats in the documentation: https://pandas.pydata.org/pandas-docs/stable/user_guide/indexing.html#returning-a-view-versus-a-copy\n",
            "  df_merged['anchor_age'] = df_merged['anchor_age'].astype(int)\n",
            "<ipython-input-15-f8a797fc11b9>:10: SettingWithCopyWarning: \n",
            "A value is trying to be set on a copy of a slice from a DataFrame.\n",
            "Try using .loc[row_indexer,col_indexer] = value instead\n",
            "\n",
            "See the caveats in the documentation: https://pandas.pydata.org/pandas-docs/stable/user_guide/indexing.html#returning-a-view-versus-a-copy\n",
            "  df_merged['age_range'] = pd.cut(df_merged['anchor_age'], bins=[range[0] for range in age_ranges] + [age_ranges[-1][1] + 1], labels=['youth', 'adult', 'senior'])\n"
          ]
        }
      ]
    },
    {
      "cell_type": "markdown",
      "source": [
        "Race column"
      ],
      "metadata": {
        "id": "2Pj6yTrHYK7O"
      }
    },
    {
      "cell_type": "code",
      "source": [
        "import seaborn as sns\n",
        "\n",
        "def plot_los_groupby(df, variable, size=(10,6)): \n",
        "\n",
        "    #Plot Median LOS by dataframe categorical series name \n",
        "    \n",
        "    results = df[[variable, 'los']].groupby(variable).mean().reset_index().sort_values('los', ascending=True)\n",
        "    values = results['los'].values\n",
        "    labels = results[variable].values\n",
        "\n",
        "    # Create the bar plot using seaborn\n",
        "    plt.figure(figsize=size)\n",
        "    ax = sns.barplot(x=values, y=labels, color='blue', alpha=0.8)\n",
        "\n",
        "    # Annotate the plot with the median LOS values\n",
        "    for i, value in enumerate(values):\n",
        "        ax.text(value, i, value, ha=\"left\", va=\"center\")\n",
        "\n",
        "    # Customize the plot\n",
        "    ax.set_xlabel('Mean Length of Stay (hours)')\n",
        "    ax.set_title('Comparison of {} labels'.format(variable))\n",
        "    ax.tick_params(left=False, top=False, right=False)\n",
        "    ax.spines['top'].set_visible(False)  # Remove top spine\n",
        "    ax.spines['right'].set_visible(False)  # Remove right spine\n",
        "    plt.tight_layout()\n",
        "    plt.show()\n",
        "\n",
        "# Look at median LOS for groups 'race'\n",
        "plot_los_groupby(df_merged, 'race', size=(14,8))"
      ],
      "metadata": {
        "colab": {
          "base_uri": "https://localhost:8080/",
          "height": 585
        },
        "id": "AEBxPodqpI9A",
        "outputId": "3535c06b-8151-4e37-e158-41c49def80c3"
      },
      "execution_count": 40,
      "outputs": [
        {
          "output_type": "display_data",
          "data": {
            "text/plain": [
              "<Figure size 1008x576 with 1 Axes>"
            ],
            "image/png": "[encoded data removed]"
          },
          "metadata": {
            "needs_background": "light"
          }
        }
      ]
    },
    {
      "cell_type": "markdown",
      "source": [
        "admission_type column"
      ],
      "metadata": {
        "id": "P741A4YsZg18"
      }
    },
    {
      "cell_type": "code",
      "source": [
        "# Look at mean LOS for groups ADMISSION_TYPE\n",
        "import seaborn as sns\n",
        "\n",
        "def plot_los_groupby(df, variable, size=(10,6)):\n",
        "    ''' \n",
        "    Plot Median LOS by dataframe categorical series name \n",
        "    '''\n",
        "    results = df[[variable, 'los']].groupby(variable).mean().reset_index().sort_values('los', ascending=True)\n",
        "    values = results['los'].values\n",
        "    labels = results[variable].values\n",
        "\n",
        "    # Create the bar plot using seaborn\n",
        "    plt.figure(figsize=size)\n",
        "    ax = sns.barplot(x=values, y=labels, color='blue', alpha=0.8)\n",
        "\n",
        "    # Annotate the plot with the median LOS values\n",
        "    for i, value in enumerate(values):\n",
        "        ax.text(value, i, value, ha=\"left\", va=\"center\")\n",
        "\n",
        "    # Customize the plot\n",
        "    ax.set_xlabel('Mean Length of Stay (hours)')\n",
        "    ax.set_title('Comparison of {} labels'.format(variable))\n",
        "    ax.tick_params(left=False, top=False, right=False)\n",
        "    ax.spines['top'].set_visible(False)  # Remove top spine\n",
        "    ax.spines['right'].set_visible(False)  # Remove right spine\n",
        "    plt.tight_layout()\n",
        "    plt.show()\n",
        "\n",
        "# Look at median LOS for groups 'admission_type'\n",
        "plot_los_groupby(df_merged, 'admission_type', size=(10,4))"
      ],
      "metadata": {
        "colab": {
          "base_uri": "https://localhost:8080/",
          "height": 297
        },
        "id": "aij11NPqUvaX",
        "outputId": "a562c0f5-f5c6-4384-a7fc-6a68f9ab99f8"
      },
      "execution_count": 41,
      "outputs": [
        {
          "output_type": "display_data",
          "data": {
            "text/plain": [
              "<Figure size 720x288 with 1 Axes>"
            ],
            "image/png": "[encoded data removed]"
          },
          "metadata": {
            "needs_background": "light"
          }
        }
      ]
    },
    {
      "cell_type": "code",
      "source": [
        "import seaborn as sns\n",
        "\n",
        "def barplot_los_groupby(df_merged, gender, los_range=(-1, 30), size=(15,8)):\n",
        "    ''' \n",
        "    Bar plot of LOS by df categorical series name \n",
        "    '''\n",
        "    results = df_merged[['gender', 'los']].groupby('gender').mean().reset_index().sort_values('los', ascending=True)\n",
        "    categories = results['gender'].values.tolist()\n",
        "\n",
        "    hist_data = []\n",
        "    for cat in categories:\n",
        "        hist_data.append(df_merged['los'].loc[df_merged[gender]==cat].values)\n",
        "\n",
        "    # Create the bar plot using seaborn\n",
        "    ax = sns.barplot(x='gender', y='los', data=df_merged, orient='v', palette='Blues')\n",
        "    ax.set_xticklabels(categories)\n",
        "    ax.set_ylim(los_range)\n",
        "    ax.set_ylabel('Length of Stay (hours)')\n",
        "    ax.set_title('Comparison of {} labels'.format('gender'))\n",
        "    ax.tick_params(left=False, top=False, right=False)\n",
        "    plt.tight_layout()\n",
        "    plt.show()\n",
        "barplot_los_groupby(df_merged, 'gender', los_range=(0, 120))"
      ],
      "metadata": {
        "colab": {
          "base_uri": "https://localhost:8080/",
          "height": 297
        },
        "id": "IrpnLVRDZqHu",
        "outputId": "b3c25e92-1dca-4d73-982b-66577229fe79"
      },
      "execution_count": 74,
      "outputs": [
        {
          "output_type": "display_data",
          "data": {
            "text/plain": [
              "<Figure size 432x288 with 1 Axes>"
            ],
            "image/png": "[encoded data removed]"
          },
          "metadata": {
            "needs_background": "light"
          }
        }
      ]
    },
    {
      "cell_type": "code",
      "source": [
        "df_merged.info()"
      ],
      "metadata": {
        "colab": {
          "base_uri": "https://localhost:8080/"
        },
        "id": "l7jzFIhTc04u",
        "outputId": "c12d652d-2ee5-4f4a-ba21-539a8e8d8496"
      },
      "execution_count": 75,
      "outputs": [
        {
          "output_type": "stream",
          "name": "stdout",
          "text": [
            "<class 'pandas.core.frame.DataFrame'>\n",
            "Int64Index: 430948 entries, 0 to 431087\n",
            "Data columns (total 11 columns):\n",
            " #   Column                Non-Null Count   Dtype   \n",
            "---  ------                --------------   -----   \n",
            " 0   subject_id            430948 non-null  int64   \n",
            " 1   gender                430948 non-null  object  \n",
            " 2   anchor_age            430948 non-null  int64   \n",
            " 3   hadm_id               430948 non-null  int64   \n",
            " 4   los                   430948 non-null  float64 \n",
            " 5   admission_type        430948 non-null  object  \n",
            " 6   insurance             430948 non-null  object  \n",
            " 7   marital_status        421751 non-null  object  \n",
            " 8   race                  430948 non-null  object  \n",
            " 9   hospital_expire_flag  430948 non-null  int64   \n",
            " 10  age_range             430948 non-null  category\n",
            "dtypes: category(1), float64(1), int64(4), object(5)\n",
            "memory usage: 52.7+ MB\n"
          ]
        }
      ]
    },
    {
      "cell_type": "code",
      "source": [
        "# removing the patients who died as they are not required to predict the los\n",
        "df_merged = df_merged[df_merged['hospital_expire_flag'] == 0.0]\n",
        "df_merged.info()"
      ],
      "metadata": {
        "colab": {
          "base_uri": "https://localhost:8080/"
        },
        "id": "E0CITvURujXS",
        "outputId": "301b318c-1ddc-4d47-af6d-ca3e50d5661a"
      },
      "execution_count": 81,
      "outputs": [
        {
          "output_type": "stream",
          "name": "stdout",
          "text": [
            "<class 'pandas.core.frame.DataFrame'>\n",
            "Int64Index: 422380 entries, 0 to 431087\n",
            "Data columns (total 9 columns):\n",
            " #   Column                Non-Null Count   Dtype   \n",
            "---  ------                --------------   -----   \n",
            " 0   gender                422380 non-null  object  \n",
            " 1   anchor_age            422380 non-null  int64   \n",
            " 2   los                   422380 non-null  float64 \n",
            " 3   admission_type        422380 non-null  object  \n",
            " 4   insurance             422380 non-null  object  \n",
            " 5   marital_status        414272 non-null  object  \n",
            " 6   race                  422380 non-null  object  \n",
            " 7   hospital_expire_flag  422380 non-null  int64   \n",
            " 8   age_range             422380 non-null  category\n",
            "dtypes: category(1), float64(1), int64(2), object(5)\n",
            "memory usage: 29.4+ MB\n"
          ]
        }
      ]
    },
    {
      "cell_type": "code",
      "source": [
        "# Drop unused or no longer needed columns\n",
        "df_merged.drop(columns=['anchor_age'], inplace=True)\n",
        "\n",
        "df_merged.info()"
      ],
      "metadata": {
        "colab": {
          "base_uri": "https://localhost:8080/"
        },
        "id": "voI3XlXiuvz5",
        "outputId": "9c654799-9f0b-444f-8aec-085e0f9fa868"
      },
      "execution_count": 82,
      "outputs": [
        {
          "output_type": "stream",
          "name": "stdout",
          "text": [
            "<class 'pandas.core.frame.DataFrame'>\n",
            "Int64Index: 422380 entries, 0 to 431087\n",
            "Data columns (total 8 columns):\n",
            " #   Column                Non-Null Count   Dtype   \n",
            "---  ------                --------------   -----   \n",
            " 0   gender                422380 non-null  object  \n",
            " 1   los                   422380 non-null  float64 \n",
            " 2   admission_type        422380 non-null  object  \n",
            " 3   insurance             422380 non-null  object  \n",
            " 4   marital_status        414272 non-null  object  \n",
            " 5   race                  422380 non-null  object  \n",
            " 6   hospital_expire_flag  422380 non-null  int64   \n",
            " 7   age_range             422380 non-null  category\n",
            "dtypes: category(1), float64(1), int64(1), object(5)\n",
            "memory usage: 26.2+ MB\n"
          ]
        }
      ]
    },
    {
      "cell_type": "code",
      "source": [
        "# Converting gender variable into boolean\n",
        "df_merged['gender'].replace({'F': 0, 'M':1}, inplace=True)\n",
        "df_merged.head()"
      ],
      "metadata": {
        "colab": {
          "base_uri": "https://localhost:8080/",
          "height": 206
        },
        "id": "2TPlm5Kbvzvv",
        "outputId": "b785aef3-6ffd-475f-fbbd-36ee6d02c06b"
      },
      "execution_count": 84,
      "outputs": [
        {
          "output_type": "execute_result",
          "data": {
            "text/plain": [
              "   gender        los  admission_type insurance marital_status   race  \\\n",
              "0       0  18.866667          URGENT     Other        WIDOWED  WHITE   \n",
              "1       0  24.366667        EW EMER.  Medicaid        WIDOWED  WHITE   \n",
              "2       0  42.100000        EW EMER.  Medicaid        WIDOWED  WHITE   \n",
              "3       0  53.333333        EW EMER.  Medicaid        WIDOWED  WHITE   \n",
              "4       0   7.166667  EU OBSERVATION     Other         SINGLE  WHITE   \n",
              "\n",
              "   hospital_expire_flag age_range  \n",
              "0                     0     adult  \n",
              "1                     0     adult  \n",
              "2                     0     adult  \n",
              "3                     0     adult  \n",
              "4                     0     youth  "
            ],
            "text/html": [
              "\n",
              "  <div id=\"df-271ab493-c851-4652-a408-c0a2478bf6ba\">\n",
              "    <div class=\"colab-df-container\">\n",
              "      <div>\n",
              "<style scoped>\n",
              "    .dataframe tbody tr th:only-of-type {\n",
              "        vertical-align: middle;\n",
              "    }\n",
              "\n",
              "    .dataframe tbody tr th {\n",
              "        vertical-align: top;\n",
              "    }\n",
              "\n",
              "    .dataframe thead th {\n",
              "        text-align: right;\n",
              "    }\n",
              "</style>\n",
              "<table border=\"1\" class=\"dataframe\">\n",
              "  <thead>\n",
              "    <tr style=\"text-align: right;\">\n",
              "      <th></th>\n",
              "      <th>gender</th>\n",
              "      <th>los</th>\n",
              "      <th>admission_type</th>\n",
              "      <th>insurance</th>\n",
              "      <th>marital_status</th>\n",
              "      <th>race</th>\n",
              "      <th>hospital_expire_flag</th>\n",
              "      <th>age_range</th>\n",
              "    </tr>\n",
              "  </thead>\n",
              "  <tbody>\n",
              "    <tr>\n",
              "      <th>0</th>\n",
              "      <td>0</td>\n",
              "      <td>18.866667</td>\n",
              "      <td>URGENT</td>\n",
              "      <td>Other</td>\n",
              "      <td>WIDOWED</td>\n",
              "      <td>WHITE</td>\n",
              "      <td>0</td>\n",
              "      <td>adult</td>\n",
              "    </tr>\n",
              "    <tr>\n",
              "      <th>1</th>\n",
              "      <td>0</td>\n",
              "      <td>24.366667</td>\n",
              "      <td>EW EMER.</td>\n",
              "      <td>Medicaid</td>\n",
              "      <td>WIDOWED</td>\n",
              "      <td>WHITE</td>\n",
              "      <td>0</td>\n",
              "      <td>adult</td>\n",
              "    </tr>\n",
              "    <tr>\n",
              "      <th>2</th>\n",
              "      <td>0</td>\n",
              "      <td>42.100000</td>\n",
              "      <td>EW EMER.</td>\n",
              "      <td>Medicaid</td>\n",
              "      <td>WIDOWED</td>\n",
              "      <td>WHITE</td>\n",
              "      <td>0</td>\n",
              "      <td>adult</td>\n",
              "    </tr>\n",
              "    <tr>\n",
              "      <th>3</th>\n",
              "      <td>0</td>\n",
              "      <td>53.333333</td>\n",
              "      <td>EW EMER.</td>\n",
              "      <td>Medicaid</td>\n",
              "      <td>WIDOWED</td>\n",
              "      <td>WHITE</td>\n",
              "      <td>0</td>\n",
              "      <td>adult</td>\n",
              "    </tr>\n",
              "    <tr>\n",
              "      <th>4</th>\n",
              "      <td>0</td>\n",
              "      <td>7.166667</td>\n",
              "      <td>EU OBSERVATION</td>\n",
              "      <td>Other</td>\n",
              "      <td>SINGLE</td>\n",
              "      <td>WHITE</td>\n",
              "      <td>0</td>\n",
              "      <td>youth</td>\n",
              "    </tr>\n",
              "  </tbody>\n",
              "</table>\n",
              "</div>\n",
              "      <button class=\"colab-df-convert\" onclick=\"convertToInteractive('df-271ab493-c851-4652-a408-c0a2478bf6ba')\"\n",
              "              title=\"Convert this dataframe to an interactive table.\"\n",
              "              style=\"display:none;\">\n",
              "        \n",
              "  <svg xmlns=\"http://www.w3.org/2000/svg\" height=\"24px\"viewBox=\"0 0 24 24\"\n",
              "       width=\"24px\">\n",
              "    <path d=\"M0 0h24v24H0V0z\" fill=\"none\"/>\n",
              "    <path d=\"M18.56 5.44l.94 2.06.94-2.06 2.06-.94-2.06-.94-.94-2.06-.94 2.06-2.06.94zm-11 1L8.5 8.5l.94-2.06 2.06-.94-2.06-.94L8.5 2.5l-.94 2.06-2.06.94zm10 10l.94 2.06.94-2.06 2.06-.94-2.06-.94-.94-2.06-.94 2.06-2.06.94z\"/><path d=\"M17.41 7.96l-1.37-1.37c-.4-.4-.92-.59-1.43-.59-.52 0-1.04.2-1.43.59L10.3 9.45l-7.72 7.72c-.78.78-.78 2.05 0 2.83L4 21.41c.39.39.9.59 1.41.59.51 0 1.02-.2 1.41-.59l7.78-7.78 2.81-2.81c.8-.78.8-2.07 0-2.86zM5.41 20L4 18.59l7.72-7.72 1.47 1.35L5.41 20z\"/>\n",
              "  </svg>\n",
              "      </button>\n",
              "      \n",
              "  <style>\n",
              "    .colab-df-container {\n",
              "      display:flex;\n",
              "      flex-wrap:wrap;\n",
              "      gap: 12px;\n",
              "    }\n",
              "\n",
              "    .colab-df-convert {\n",
              "      background-color: #E8F0FE;\n",
              "      border: none;\n",
              "      border-radius: 50%;\n",
              "      cursor: pointer;\n",
              "      display: none;\n",
              "      fill: #1967D2;\n",
              "      height: 32px;\n",
              "      padding: 0 0 0 0;\n",
              "      width: 32px;\n",
              "    }\n",
              "\n",
              "    .colab-df-convert:hover {\n",
              "      background-color: #E2EBFA;\n",
              "      box-shadow: 0px 1px 2px rgba(60, 64, 67, 0.3), 0px 1px 3px 1px rgba(60, 64, 67, 0.15);\n",
              "      fill: #174EA6;\n",
              "    }\n",
              "\n",
              "    [theme=dark] .colab-df-convert {\n",
              "      background-color: #3B4455;\n",
              "      fill: #D2E3FC;\n",
              "    }\n",
              "\n",
              "    [theme=dark] .colab-df-convert:hover {\n",
              "      background-color: #434B5C;\n",
              "      box-shadow: 0px 1px 3px 1px rgba(0, 0, 0, 0.15);\n",
              "      filter: drop-shadow(0px 1px 2px rgba(0, 0, 0, 0.3));\n",
              "      fill: #FFFFFF;\n",
              "    }\n",
              "  </style>\n",
              "\n",
              "      <script>\n",
              "        const buttonEl =\n",
              "          document.querySelector('#df-271ab493-c851-4652-a408-c0a2478bf6ba button.colab-df-convert');\n",
              "        buttonEl.style.display =\n",
              "          google.colab.kernel.accessAllowed ? 'block' : 'none';\n",
              "\n",
              "        async function convertToInteractive(key) {\n",
              "          const element = document.querySelector('#df-271ab493-c851-4652-a408-c0a2478bf6ba');\n",
              "          const dataTable =\n",
              "            await google.colab.kernel.invokeFunction('convertToInteractive',\n",
              "                                                     [key], {});\n",
              "          if (!dataTable) return;\n",
              "\n",
              "          const docLinkHtml = 'Like what you see? Visit the ' +\n",
              "            '<a target=\"_blank\" href=https://colab.research.google.com/notebooks/data_table.ipynb>data table notebook</a>'\n",
              "            + ' to learn more about interactive tables.';\n",
              "          element.innerHTML = '';\n",
              "          dataTable['output_type'] = 'display_data';\n",
              "          await google.colab.output.renderOutput(dataTable, element);\n",
              "          const docLink = document.createElement('div');\n",
              "          docLink.innerHTML = docLinkHtml;\n",
              "          element.appendChild(docLink);\n",
              "        }\n",
              "      </script>\n",
              "    </div>\n",
              "  </div>\n",
              "  "
            ]
          },
          "metadata": {},
          "execution_count": 84
        }
      ]
    },
    {
      "cell_type": "code",
      "source": [
        "# Check for any remaining NaNs\n",
        "df_merged.isnull().values.sum()"
      ],
      "metadata": {
        "colab": {
          "base_uri": "https://localhost:8080/"
        },
        "id": "VfPqaZWywTfX",
        "outputId": "b70577ee-ca0c-46ea-c06e-8794c85fde4d"
      },
      "execution_count": 85,
      "outputs": [
        {
          "output_type": "execute_result",
          "data": {
            "text/plain": [
              "8108"
            ]
          },
          "metadata": {},
          "execution_count": 85
        }
      ]
    },
    {
      "cell_type": "code",
      "source": [
        "df_merged['marital_status'].unique()"
      ],
      "metadata": {
        "colab": {
          "base_uri": "https://localhost:8080/"
        },
        "id": "zN8n6uWDxywt",
        "outputId": "8c68b504-c35f-477b-d733-3ea3b2507616"
      },
      "execution_count": 91,
      "outputs": [
        {
          "output_type": "execute_result",
          "data": {
            "text/plain": [
              "array(['WIDOWED', 'SINGLE', 'MARRIED', 'DIVORCED'], dtype=object)"
            ]
          },
          "metadata": {},
          "execution_count": 91
        }
      ]
    },
    {
      "cell_type": "code",
      "source": [
        "df_merged.dropna(subset=['marital_status'], inplace=True)"
      ],
      "metadata": {
        "id": "QHuSNr9MyMqi"
      },
      "execution_count": 90,
      "outputs": []
    },
    {
      "cell_type": "code",
      "source": [
        "# Check for null values and sort the resulting series in descending order\n",
        "null_counts = df_merged.isnull().sum().sort_values(ascending=False)\n",
        "\n",
        "# Display the null counts for each column\n",
        "print(null_counts)"
      ],
      "metadata": {
        "colab": {
          "base_uri": "https://localhost:8080/"
        },
        "id": "TawNtqs-ytBO",
        "outputId": "38204c0c-66a3-498a-9699-10de7fb90df5"
      },
      "execution_count": 93,
      "outputs": [
        {
          "output_type": "stream",
          "name": "stdout",
          "text": [
            "gender                  0\n",
            "los                     0\n",
            "admission_type          0\n",
            "insurance               0\n",
            "marital_status          0\n",
            "race                    0\n",
            "hospital_expire_flag    0\n",
            "age_range               0\n",
            "dtype: int64\n"
          ]
        }
      ]
    },
    {
      "cell_type": "markdown",
      "source": [
        "Test - Train split"
      ],
      "metadata": {
        "id": "xpvdtsonzTqn"
      }
    },
    {
      "cell_type": "code",
      "source": [
        "from sklearn.model_selection import train_test_split\n",
        "\n",
        "# Split into training set 80% and test set 20%\n",
        "X = df_merged['los'].values.reshape(-1, 1) # reshape 'los' column to a 2D array\n",
        "y = df_merged['los'].values # keep the 'los' column as the target variable\n",
        "X_train, X_test, y_train, y_test = train_test_split(X, y, test_size = .20, random_state = 0)\n",
        "\n",
        "# Show the results of the split\n",
        "print(\"Training set has {} samples.\".format(X_train.shape[0]))\n",
        "print(\"Testing set has {} samples.\".format(X_test.shape[0]))"
      ],
      "metadata": {
        "colab": {
          "base_uri": "https://localhost:8080/"
        },
        "id": "g-7lAwcBy0QB",
        "outputId": "ac733197-a43b-49d0-ed0b-11f28e9f1136"
      },
      "execution_count": 98,
      "outputs": [
        {
          "output_type": "stream",
          "name": "stdout",
          "text": [
            "Training set has 331417 samples.\n",
            "Testing set has 82855 samples.\n"
          ]
        }
      ]
    },
    {
      "cell_type": "code",
      "source": [],
      "metadata": {
        "id": "97jQV4WW3UCv"
      },
      "execution_count": 101,
      "outputs": []
    }
  ]
}