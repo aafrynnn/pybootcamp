{
  "cells": [
    {
      "cell_type": "markdown",
      "metadata": {
        "id": "view-in-github",
        "colab_type": "text"
      },
      "source": [
        "<a href=\"https://colab.research.google.com/github/iupui-soic/pybootcamp/blob/main/saptarshi_day5.ipynb\" target=\"_parent\"><img src=\"https://colab.research.google.com/assets/colab-badge.svg\" alt=\"Open In Colab\"/></a>"
      ]
    },
    {
      "cell_type": "code",
      "execution_count": 1,
      "metadata": {
        "colab": {
          "base_uri": "https://localhost:8080/"
        },
        "id": "gJr_9dXGpJ05",
        "outputId": "b0ca750c-70fb-44a8-ac86-715b78be2c0b"
      },
      "outputs": [
        {
          "output_type": "stream",
          "name": "stdout",
          "text": [
            "Drive already mounted at /content/gdrive; to attempt to forcibly remount, call drive.mount(\"/content/gdrive\", force_remount=True).\n"
          ]
        }
      ],
      "source": [
        "from google.colab import drive\n",
        "drive.mount('/content/gdrive')"
      ]
    },
    {
      "cell_type": "code",
      "execution_count": 2,
      "metadata": {
        "colab": {
          "base_uri": "https://localhost:8080/",
          "height": 424
        },
        "id": "-gE-Ez1qtyIA",
        "outputId": "b919f111-38a5-4025-8757-76b73124a4b7"
      },
      "outputs": [
        {
          "output_type": "execute_result",
          "data": {
            "text/plain": [
              "        subject_id gender  anchor_age  anchor_year anchor_year_group  \\\n",
              "0         10000032      F          52         2180       2014 - 2016   \n",
              "1         10000048      F          23         2126       2008 - 2010   \n",
              "2         10000068      F          19         2160       2008 - 2010   \n",
              "3         10000084      M          72         2160       2017 - 2019   \n",
              "4         10000102      F          27         2136       2008 - 2010   \n",
              "...            ...    ...         ...          ...               ...   \n",
              "299772    19999828      F          46         2147       2017 - 2019   \n",
              "299773    19999829      F          28         2186       2008 - 2010   \n",
              "299774    19999840      M          58         2164       2008 - 2010   \n",
              "299775    19999914      F          49         2158       2017 - 2019   \n",
              "299776    19999987      F          57         2145       2011 - 2013   \n",
              "\n",
              "               dod  \n",
              "0       2180-09-09  \n",
              "1              NaN  \n",
              "2              NaN  \n",
              "3       2161-02-13  \n",
              "4              NaN  \n",
              "...            ...  \n",
              "299772         NaN  \n",
              "299773         NaN  \n",
              "299774  2164-09-17  \n",
              "299775         NaN  \n",
              "299776         NaN  \n",
              "\n",
              "[299777 rows x 6 columns]"
            ],
            "text/html": [
              "\n",
              "  <div id=\"df-7732307c-826d-4343-9b84-43584f111159\">\n",
              "    <div class=\"colab-df-container\">\n",
              "      <div>\n",
              "<style scoped>\n",
              "    .dataframe tbody tr th:only-of-type {\n",
              "        vertical-align: middle;\n",
              "    }\n",
              "\n",
              "    .dataframe tbody tr th {\n",
              "        vertical-align: top;\n",
              "    }\n",
              "\n",
              "    .dataframe thead th {\n",
              "        text-align: right;\n",
              "    }\n",
              "</style>\n",
              "<table border=\"1\" class=\"dataframe\">\n",
              "  <thead>\n",
              "    <tr style=\"text-align: right;\">\n",
              "      <th></th>\n",
              "      <th>subject_id</th>\n",
              "      <th>gender</th>\n",
              "      <th>anchor_age</th>\n",
              "      <th>anchor_year</th>\n",
              "      <th>anchor_year_group</th>\n",
              "      <th>dod</th>\n",
              "    </tr>\n",
              "  </thead>\n",
              "  <tbody>\n",
              "    <tr>\n",
              "      <th>0</th>\n",
              "      <td>10000032</td>\n",
              "      <td>F</td>\n",
              "      <td>52</td>\n",
              "      <td>2180</td>\n",
              "      <td>2014 - 2016</td>\n",
              "      <td>2180-09-09</td>\n",
              "    </tr>\n",
              "    <tr>\n",
              "      <th>1</th>\n",
              "      <td>10000048</td>\n",
              "      <td>F</td>\n",
              "      <td>23</td>\n",
              "      <td>2126</td>\n",
              "      <td>2008 - 2010</td>\n",
              "      <td>NaN</td>\n",
              "    </tr>\n",
              "    <tr>\n",
              "      <th>2</th>\n",
              "      <td>10000068</td>\n",
              "      <td>F</td>\n",
              "      <td>19</td>\n",
              "      <td>2160</td>\n",
              "      <td>2008 - 2010</td>\n",
              "      <td>NaN</td>\n",
              "    </tr>\n",
              "    <tr>\n",
              "      <th>3</th>\n",
              "      <td>10000084</td>\n",
              "      <td>M</td>\n",
              "      <td>72</td>\n",
              "      <td>2160</td>\n",
              "      <td>2017 - 2019</td>\n",
              "      <td>2161-02-13</td>\n",
              "    </tr>\n",
              "    <tr>\n",
              "      <th>4</th>\n",
              "      <td>10000102</td>\n",
              "      <td>F</td>\n",
              "      <td>27</td>\n",
              "      <td>2136</td>\n",
              "      <td>2008 - 2010</td>\n",
              "      <td>NaN</td>\n",
              "    </tr>\n",
              "    <tr>\n",
              "      <th>...</th>\n",
              "      <td>...</td>\n",
              "      <td>...</td>\n",
              "      <td>...</td>\n",
              "      <td>...</td>\n",
              "      <td>...</td>\n",
              "      <td>...</td>\n",
              "    </tr>\n",
              "    <tr>\n",
              "      <th>299772</th>\n",
              "      <td>19999828</td>\n",
              "      <td>F</td>\n",
              "      <td>46</td>\n",
              "      <td>2147</td>\n",
              "      <td>2017 - 2019</td>\n",
              "      <td>NaN</td>\n",
              "    </tr>\n",
              "    <tr>\n",
              "      <th>299773</th>\n",
              "      <td>19999829</td>\n",
              "      <td>F</td>\n",
              "      <td>28</td>\n",
              "      <td>2186</td>\n",
              "      <td>2008 - 2010</td>\n",
              "      <td>NaN</td>\n",
              "    </tr>\n",
              "    <tr>\n",
              "      <th>299774</th>\n",
              "      <td>19999840</td>\n",
              "      <td>M</td>\n",
              "      <td>58</td>\n",
              "      <td>2164</td>\n",
              "      <td>2008 - 2010</td>\n",
              "      <td>2164-09-17</td>\n",
              "    </tr>\n",
              "    <tr>\n",
              "      <th>299775</th>\n",
              "      <td>19999914</td>\n",
              "      <td>F</td>\n",
              "      <td>49</td>\n",
              "      <td>2158</td>\n",
              "      <td>2017 - 2019</td>\n",
              "      <td>NaN</td>\n",
              "    </tr>\n",
              "    <tr>\n",
              "      <th>299776</th>\n",
              "      <td>19999987</td>\n",
              "      <td>F</td>\n",
              "      <td>57</td>\n",
              "      <td>2145</td>\n",
              "      <td>2011 - 2013</td>\n",
              "      <td>NaN</td>\n",
              "    </tr>\n",
              "  </tbody>\n",
              "</table>\n",
              "<p>299777 rows × 6 columns</p>\n",
              "</div>\n",
              "      <button class=\"colab-df-convert\" onclick=\"convertToInteractive('df-7732307c-826d-4343-9b84-43584f111159')\"\n",
              "              title=\"Convert this dataframe to an interactive table.\"\n",
              "              style=\"display:none;\">\n",
              "        \n",
              "  <svg xmlns=\"http://www.w3.org/2000/svg\" height=\"24px\"viewBox=\"0 0 24 24\"\n",
              "       width=\"24px\">\n",
              "    <path d=\"M0 0h24v24H0V0z\" fill=\"none\"/>\n",
              "    <path d=\"M18.56 5.44l.94 2.06.94-2.06 2.06-.94-2.06-.94-.94-2.06-.94 2.06-2.06.94zm-11 1L8.5 8.5l.94-2.06 2.06-.94-2.06-.94L8.5 2.5l-.94 2.06-2.06.94zm10 10l.94 2.06.94-2.06 2.06-.94-2.06-.94-.94-2.06-.94 2.06-2.06.94z\"/><path d=\"M17.41 7.96l-1.37-1.37c-.4-.4-.92-.59-1.43-.59-.52 0-1.04.2-1.43.59L10.3 9.45l-7.72 7.72c-.78.78-.78 2.05 0 2.83L4 21.41c.39.39.9.59 1.41.59.51 0 1.02-.2 1.41-.59l7.78-7.78 2.81-2.81c.8-.78.8-2.07 0-2.86zM5.41 20L4 18.59l7.72-7.72 1.47 1.35L5.41 20z\"/>\n",
              "  </svg>\n",
              "      </button>\n",
              "      \n",
              "  <style>\n",
              "    .colab-df-container {\n",
              "      display:flex;\n",
              "      flex-wrap:wrap;\n",
              "      gap: 12px;\n",
              "    }\n",
              "\n",
              "    .colab-df-convert {\n",
              "      background-color: #E8F0FE;\n",
              "      border: none;\n",
              "      border-radius: 50%;\n",
              "      cursor: pointer;\n",
              "      display: none;\n",
              "      fill: #1967D2;\n",
              "      height: 32px;\n",
              "      padding: 0 0 0 0;\n",
              "      width: 32px;\n",
              "    }\n",
              "\n",
              "    .colab-df-convert:hover {\n",
              "      background-color: #E2EBFA;\n",
              "      box-shadow: 0px 1px 2px rgba(60, 64, 67, 0.3), 0px 1px 3px 1px rgba(60, 64, 67, 0.15);\n",
              "      fill: #174EA6;\n",
              "    }\n",
              "\n",
              "    [theme=dark] .colab-df-convert {\n",
              "      background-color: #3B4455;\n",
              "      fill: #D2E3FC;\n",
              "    }\n",
              "\n",
              "    [theme=dark] .colab-df-convert:hover {\n",
              "      background-color: #434B5C;\n",
              "      box-shadow: 0px 1px 3px 1px rgba(0, 0, 0, 0.15);\n",
              "      filter: drop-shadow(0px 1px 2px rgba(0, 0, 0, 0.3));\n",
              "      fill: #FFFFFF;\n",
              "    }\n",
              "  </style>\n",
              "\n",
              "      <script>\n",
              "        const buttonEl =\n",
              "          document.querySelector('#df-7732307c-826d-4343-9b84-43584f111159 button.colab-df-convert');\n",
              "        buttonEl.style.display =\n",
              "          google.colab.kernel.accessAllowed ? 'block' : 'none';\n",
              "\n",
              "        async function convertToInteractive(key) {\n",
              "          const element = document.querySelector('#df-7732307c-826d-4343-9b84-43584f111159');\n",
              "          const dataTable =\n",
              "            await google.colab.kernel.invokeFunction('convertToInteractive',\n",
              "                                                     [key], {});\n",
              "          if (!dataTable) return;\n",
              "\n",
              "          const docLinkHtml = 'Like what you see? Visit the ' +\n",
              "            '<a target=\"_blank\" href=https://colab.research.google.com/notebooks/data_table.ipynb>data table notebook</a>'\n",
              "            + ' to learn more about interactive tables.';\n",
              "          element.innerHTML = '';\n",
              "          dataTable['output_type'] = 'display_data';\n",
              "          await google.colab.output.renderOutput(dataTable, element);\n",
              "          const docLink = document.createElement('div');\n",
              "          docLink.innerHTML = docLinkHtml;\n",
              "          element.appendChild(docLink);\n",
              "        }\n",
              "      </script>\n",
              "    </div>\n",
              "  </div>\n",
              "  "
            ]
          },
          "metadata": {},
          "execution_count": 2
        }
      ],
      "source": [
        "import pandas as pd\n",
        "import matplotlib.pyplot as plt\n",
        "df_patients = pd.read_csv('/content/gdrive/MyDrive/mimic-iv/patients.csv.gz')\n",
        "df_patients"
      ]
    },
    {
      "cell_type": "code",
      "source": [
        "# biological sex for patients\n",
        "df_patients['gender'].value_counts().plot(kind='pie', autopct='%.2f')"
      ],
      "metadata": {
        "id": "WmGPccPpZGW3",
        "colab": {
          "base_uri": "https://localhost:8080/",
          "height": 265
        },
        "outputId": "48cfbdbf-35ac-4a4e-ca3b-6666304290b4"
      },
      "execution_count": 3,
      "outputs": [
        {
          "output_type": "execute_result",
          "data": {
            "text/plain": [
              "<matplotlib.axes._subplots.AxesSubplot at 0x7f32734409a0>"
            ]
          },
          "metadata": {},
          "execution_count": 3
        },
        {
          "output_type": "display_data",
          "data": {
            "text/plain": [
              "<Figure size 432x288 with 1 Axes>"
            ],
            "image/png": "[encoded data removed]"
          },
          "metadata": {}
        }
      ]
    },
    {
      "cell_type": "code",
      "source": [
        "# approx age distribution of patients\n",
        "plt.hist(df_patients['anchor_age'])"
      ],
      "metadata": {
        "colab": {
          "base_uri": "https://localhost:8080/",
          "height": 334
        },
        "id": "f2fiXYYJafwb",
        "outputId": "fd16eb18-d27d-4b77-9874-cdd379a049f7"
      },
      "execution_count": 4,
      "outputs": [
        {
          "output_type": "execute_result",
          "data": {
            "text/plain": [
              "(array([55462., 35872., 27628., 29625., 30727., 31342., 31959., 21653.,\n",
              "        17640., 17869.]),\n",
              " array([18. , 25.3, 32.6, 39.9, 47.2, 54.5, 61.8, 69.1, 76.4, 83.7, 91. ]),\n",
              " <a list of 10 Patch objects>)"
            ]
          },
          "metadata": {},
          "execution_count": 4
        },
        {
          "output_type": "display_data",
          "data": {
            "text/plain": [
              "<Figure size 432x288 with 1 Axes>"
            ],
            "image/png": "[encoded data removed]"
          },
          "metadata": {
            "needs_background": "light"
          }
        }
      ]
    },
    {
      "cell_type": "code",
      "source": [
        "# approx age distribution of dead patients\n",
        "plt.hist(df_patients[df_patients['dod'].notnull()]['anchor_age'])"
      ],
      "metadata": {
        "colab": {
          "base_uri": "https://localhost:8080/",
          "height": 334
        },
        "id": "Tpz-yeYebZAi",
        "outputId": "28597087-bddc-4823-e284-f0519dc97cd8"
      },
      "execution_count": 5,
      "outputs": [
        {
          "output_type": "execute_result",
          "data": {
            "text/plain": [
              "(array([ 220.,  351.,  457., 1077., 2016., 3054., 4580., 4500., 5226.,\n",
              "        7607.]),\n",
              " array([18. , 25.3, 32.6, 39.9, 47.2, 54.5, 61.8, 69.1, 76.4, 83.7, 91. ]),\n",
              " <a list of 10 Patch objects>)"
            ]
          },
          "metadata": {},
          "execution_count": 5
        },
        {
          "output_type": "display_data",
          "data": {
            "text/plain": [
              "<Figure size 432x288 with 1 Axes>"
            ],
            "image/png": "[encoded data removed]"
          },
          "metadata": {
            "needs_background": "light"
          }
        }
      ]
    },
    {
      "cell_type": "code",
      "source": [
        "df_admissions = pd.read_csv('/content/gdrive/MyDrive/mimic-iv/admissions.csv.gz')\n",
        "df_admissions"
      ],
      "metadata": {
        "colab": {
          "base_uri": "https://localhost:8080/",
          "height": 424
        },
        "id": "4rMZoZy8grDb",
        "outputId": "3f58044e-30a0-45b2-88b3-4451f37a9991"
      },
      "execution_count": 6,
      "outputs": [
        {
          "output_type": "execute_result",
          "data": {
            "text/plain": [
              "        subject_id   hadm_id            admittime            dischtime  \\\n",
              "0         10000032  22595853  2180-05-06 22:23:00  2180-05-07 17:15:00   \n",
              "1         10000032  22841357  2180-06-26 18:27:00  2180-06-27 18:49:00   \n",
              "2         10000032  25742920  2180-08-05 23:44:00  2180-08-07 17:50:00   \n",
              "3         10000032  29079034  2180-07-23 12:35:00  2180-07-25 17:55:00   \n",
              "4         10000068  25022803  2160-03-03 23:16:00  2160-03-04 06:26:00   \n",
              "...            ...       ...                  ...                  ...   \n",
              "431083    19999828  25744818  2149-01-08 16:44:00  2149-01-18 17:00:00   \n",
              "431084    19999828  29734428  2147-07-18 16:23:00  2147-08-04 18:10:00   \n",
              "431085    19999840  21033226  2164-09-10 13:47:00  2164-09-17 13:42:00   \n",
              "431086    19999840  26071774  2164-07-25 00:27:00  2164-07-28 12:15:00   \n",
              "431087    19999987  23865745  2145-11-02 21:38:00  2145-11-11 12:57:00   \n",
              "\n",
              "                  deathtime  admission_type      admission_location  \\\n",
              "0                       NaN          URGENT  TRANSFER FROM HOSPITAL   \n",
              "1                       NaN        EW EMER.          EMERGENCY ROOM   \n",
              "2                       NaN        EW EMER.          EMERGENCY ROOM   \n",
              "3                       NaN        EW EMER.          EMERGENCY ROOM   \n",
              "4                       NaN  EU OBSERVATION          EMERGENCY ROOM   \n",
              "...                     ...             ...                     ...   \n",
              "431083                  NaN        EW EMER.  TRANSFER FROM HOSPITAL   \n",
              "431084                  NaN        EW EMER.      PHYSICIAN REFERRAL   \n",
              "431085  2164-09-17 13:42:00        EW EMER.          EMERGENCY ROOM   \n",
              "431086                  NaN        EW EMER.          EMERGENCY ROOM   \n",
              "431087                  NaN        EW EMER.          EMERGENCY ROOM   \n",
              "\n",
              "       discharge_location insurance language marital_status     race  \\\n",
              "0                    HOME     Other  ENGLISH        WIDOWED    WHITE   \n",
              "1                    HOME  Medicaid  ENGLISH        WIDOWED    WHITE   \n",
              "2                 HOSPICE  Medicaid  ENGLISH        WIDOWED    WHITE   \n",
              "3                    HOME  Medicaid  ENGLISH        WIDOWED    WHITE   \n",
              "4                     NaN     Other  ENGLISH         SINGLE    WHITE   \n",
              "...                   ...       ...      ...            ...      ...   \n",
              "431083   HOME HEALTH CARE     Other  ENGLISH         SINGLE    WHITE   \n",
              "431084   HOME HEALTH CARE     Other  ENGLISH         SINGLE    WHITE   \n",
              "431085               DIED     Other  ENGLISH        WIDOWED    WHITE   \n",
              "431086               HOME     Other  ENGLISH        WIDOWED    WHITE   \n",
              "431087              REHAB     Other  ENGLISH            NaN  UNKNOWN   \n",
              "\n",
              "                  edregtime            edouttime  hospital_expire_flag  \n",
              "0       2180-05-06 19:17:00  2180-05-06 23:30:00                     0  \n",
              "1       2180-06-26 15:54:00  2180-06-26 21:31:00                     0  \n",
              "2       2180-08-05 20:58:00  2180-08-06 01:44:00                     0  \n",
              "3       2180-07-23 05:54:00  2180-07-23 14:00:00                     0  \n",
              "4       2160-03-03 21:55:00  2160-03-04 06:26:00                     0  \n",
              "...                     ...                  ...                   ...  \n",
              "431083  2149-01-08 09:11:00  2149-01-08 18:12:00                     0  \n",
              "431084  2147-07-17 17:18:00  2147-07-18 17:34:00                     0  \n",
              "431085  2164-09-10 11:09:00  2164-09-10 14:46:00                     1  \n",
              "431086  2164-07-24 21:16:00  2164-07-25 01:20:00                     0  \n",
              "431087  2145-11-02 19:28:00  2145-11-02 22:59:00                     0  \n",
              "\n",
              "[431088 rows x 15 columns]"
            ],
            "text/html": [
              "\n",
              "  <div id=\"df-10a37e30-1026-44eb-a24d-cd9de0f14180\">\n",
              "    <div class=\"colab-df-container\">\n",
              "      <div>\n",
              "<style scoped>\n",
              "    .dataframe tbody tr th:only-of-type {\n",
              "        vertical-align: middle;\n",
              "    }\n",
              "\n",
              "    .dataframe tbody tr th {\n",
              "        vertical-align: top;\n",
              "    }\n",
              "\n",
              "    .dataframe thead th {\n",
              "        text-align: right;\n",
              "    }\n",
              "</style>\n",
              "<table border=\"1\" class=\"dataframe\">\n",
              "  <thead>\n",
              "    <tr style=\"text-align: right;\">\n",
              "      <th></th>\n",
              "      <th>subject_id</th>\n",
              "      <th>hadm_id</th>\n",
              "      <th>admittime</th>\n",
              "      <th>dischtime</th>\n",
              "      <th>deathtime</th>\n",
              "      <th>admission_type</th>\n",
              "      <th>admission_location</th>\n",
              "      <th>discharge_location</th>\n",
              "      <th>insurance</th>\n",
              "      <th>language</th>\n",
              "      <th>marital_status</th>\n",
              "      <th>race</th>\n",
              "      <th>edregtime</th>\n",
              "      <th>edouttime</th>\n",
              "      <th>hospital_expire_flag</th>\n",
              "    </tr>\n",
              "  </thead>\n",
              "  <tbody>\n",
              "    <tr>\n",
              "      <th>0</th>\n",
              "      <td>10000032</td>\n",
              "      <td>22595853</td>\n",
              "      <td>2180-05-06 22:23:00</td>\n",
              "      <td>2180-05-07 17:15:00</td>\n",
              "      <td>NaN</td>\n",
              "      <td>URGENT</td>\n",
              "      <td>TRANSFER FROM HOSPITAL</td>\n",
              "      <td>HOME</td>\n",
              "      <td>Other</td>\n",
              "      <td>ENGLISH</td>\n",
              "      <td>WIDOWED</td>\n",
              "      <td>WHITE</td>\n",
              "      <td>2180-05-06 19:17:00</td>\n",
              "      <td>2180-05-06 23:30:00</td>\n",
              "      <td>0</td>\n",
              "    </tr>\n",
              "    <tr>\n",
              "      <th>1</th>\n",
              "      <td>10000032</td>\n",
              "      <td>22841357</td>\n",
              "      <td>2180-06-26 18:27:00</td>\n",
              "      <td>2180-06-27 18:49:00</td>\n",
              "      <td>NaN</td>\n",
              "      <td>EW EMER.</td>\n",
              "      <td>EMERGENCY ROOM</td>\n",
              "      <td>HOME</td>\n",
              "      <td>Medicaid</td>\n",
              "      <td>ENGLISH</td>\n",
              "      <td>WIDOWED</td>\n",
              "      <td>WHITE</td>\n",
              "      <td>2180-06-26 15:54:00</td>\n",
              "      <td>2180-06-26 21:31:00</td>\n",
              "      <td>0</td>\n",
              "    </tr>\n",
              "    <tr>\n",
              "      <th>2</th>\n",
              "      <td>10000032</td>\n",
              "      <td>25742920</td>\n",
              "      <td>2180-08-05 23:44:00</td>\n",
              "      <td>2180-08-07 17:50:00</td>\n",
              "      <td>NaN</td>\n",
              "      <td>EW EMER.</td>\n",
              "      <td>EMERGENCY ROOM</td>\n",
              "      <td>HOSPICE</td>\n",
              "      <td>Medicaid</td>\n",
              "      <td>ENGLISH</td>\n",
              "      <td>WIDOWED</td>\n",
              "      <td>WHITE</td>\n",
              "      <td>2180-08-05 20:58:00</td>\n",
              "      <td>2180-08-06 01:44:00</td>\n",
              "      <td>0</td>\n",
              "    </tr>\n",
              "    <tr>\n",
              "      <th>3</th>\n",
              "      <td>10000032</td>\n",
              "      <td>29079034</td>\n",
              "      <td>2180-07-23 12:35:00</td>\n",
              "      <td>2180-07-25 17:55:00</td>\n",
              "      <td>NaN</td>\n",
              "      <td>EW EMER.</td>\n",
              "      <td>EMERGENCY ROOM</td>\n",
              "      <td>HOME</td>\n",
              "      <td>Medicaid</td>\n",
              "      <td>ENGLISH</td>\n",
              "      <td>WIDOWED</td>\n",
              "      <td>WHITE</td>\n",
              "      <td>2180-07-23 05:54:00</td>\n",
              "      <td>2180-07-23 14:00:00</td>\n",
              "      <td>0</td>\n",
              "    </tr>\n",
              "    <tr>\n",
              "      <th>4</th>\n",
              "      <td>10000068</td>\n",
              "      <td>25022803</td>\n",
              "      <td>2160-03-03 23:16:00</td>\n",
              "      <td>2160-03-04 06:26:00</td>\n",
              "      <td>NaN</td>\n",
              "      <td>EU OBSERVATION</td>\n",
              "      <td>EMERGENCY ROOM</td>\n",
              "      <td>NaN</td>\n",
              "      <td>Other</td>\n",
              "      <td>ENGLISH</td>\n",
              "      <td>SINGLE</td>\n",
              "      <td>WHITE</td>\n",
              "      <td>2160-03-03 21:55:00</td>\n",
              "      <td>2160-03-04 06:26:00</td>\n",
              "      <td>0</td>\n",
              "    </tr>\n",
              "    <tr>\n",
              "      <th>...</th>\n",
              "      <td>...</td>\n",
              "      <td>...</td>\n",
              "      <td>...</td>\n",
              "      <td>...</td>\n",
              "      <td>...</td>\n",
              "      <td>...</td>\n",
              "      <td>...</td>\n",
              "      <td>...</td>\n",
              "      <td>...</td>\n",
              "      <td>...</td>\n",
              "      <td>...</td>\n",
              "      <td>...</td>\n",
              "      <td>...</td>\n",
              "      <td>...</td>\n",
              "      <td>...</td>\n",
              "    </tr>\n",
              "    <tr>\n",
              "      <th>431083</th>\n",
              "      <td>19999828</td>\n",
              "      <td>25744818</td>\n",
              "      <td>2149-01-08 16:44:00</td>\n",
              "      <td>2149-01-18 17:00:00</td>\n",
              "      <td>NaN</td>\n",
              "      <td>EW EMER.</td>\n",
              "      <td>TRANSFER FROM HOSPITAL</td>\n",
              "      <td>HOME HEALTH CARE</td>\n",
              "      <td>Other</td>\n",
              "      <td>ENGLISH</td>\n",
              "      <td>SINGLE</td>\n",
              "      <td>WHITE</td>\n",
              "      <td>2149-01-08 09:11:00</td>\n",
              "      <td>2149-01-08 18:12:00</td>\n",
              "      <td>0</td>\n",
              "    </tr>\n",
              "    <tr>\n",
              "      <th>431084</th>\n",
              "      <td>19999828</td>\n",
              "      <td>29734428</td>\n",
              "      <td>2147-07-18 16:23:00</td>\n",
              "      <td>2147-08-04 18:10:00</td>\n",
              "      <td>NaN</td>\n",
              "      <td>EW EMER.</td>\n",
              "      <td>PHYSICIAN REFERRAL</td>\n",
              "      <td>HOME HEALTH CARE</td>\n",
              "      <td>Other</td>\n",
              "      <td>ENGLISH</td>\n",
              "      <td>SINGLE</td>\n",
              "      <td>WHITE</td>\n",
              "      <td>2147-07-17 17:18:00</td>\n",
              "      <td>2147-07-18 17:34:00</td>\n",
              "      <td>0</td>\n",
              "    </tr>\n",
              "    <tr>\n",
              "      <th>431085</th>\n",
              "      <td>19999840</td>\n",
              "      <td>21033226</td>\n",
              "      <td>2164-09-10 13:47:00</td>\n",
              "      <td>2164-09-17 13:42:00</td>\n",
              "      <td>2164-09-17 13:42:00</td>\n",
              "      <td>EW EMER.</td>\n",
              "      <td>EMERGENCY ROOM</td>\n",
              "      <td>DIED</td>\n",
              "      <td>Other</td>\n",
              "      <td>ENGLISH</td>\n",
              "      <td>WIDOWED</td>\n",
              "      <td>WHITE</td>\n",
              "      <td>2164-09-10 11:09:00</td>\n",
              "      <td>2164-09-10 14:46:00</td>\n",
              "      <td>1</td>\n",
              "    </tr>\n",
              "    <tr>\n",
              "      <th>431086</th>\n",
              "      <td>19999840</td>\n",
              "      <td>26071774</td>\n",
              "      <td>2164-07-25 00:27:00</td>\n",
              "      <td>2164-07-28 12:15:00</td>\n",
              "      <td>NaN</td>\n",
              "      <td>EW EMER.</td>\n",
              "      <td>EMERGENCY ROOM</td>\n",
              "      <td>HOME</td>\n",
              "      <td>Other</td>\n",
              "      <td>ENGLISH</td>\n",
              "      <td>WIDOWED</td>\n",
              "      <td>WHITE</td>\n",
              "      <td>2164-07-24 21:16:00</td>\n",
              "      <td>2164-07-25 01:20:00</td>\n",
              "      <td>0</td>\n",
              "    </tr>\n",
              "    <tr>\n",
              "      <th>431087</th>\n",
              "      <td>19999987</td>\n",
              "      <td>23865745</td>\n",
              "      <td>2145-11-02 21:38:00</td>\n",
              "      <td>2145-11-11 12:57:00</td>\n",
              "      <td>NaN</td>\n",
              "      <td>EW EMER.</td>\n",
              "      <td>EMERGENCY ROOM</td>\n",
              "      <td>REHAB</td>\n",
              "      <td>Other</td>\n",
              "      <td>ENGLISH</td>\n",
              "      <td>NaN</td>\n",
              "      <td>UNKNOWN</td>\n",
              "      <td>2145-11-02 19:28:00</td>\n",
              "      <td>2145-11-02 22:59:00</td>\n",
              "      <td>0</td>\n",
              "    </tr>\n",
              "  </tbody>\n",
              "</table>\n",
              "<p>431088 rows × 15 columns</p>\n",
              "</div>\n",
              "      <button class=\"colab-df-convert\" onclick=\"convertToInteractive('df-10a37e30-1026-44eb-a24d-cd9de0f14180')\"\n",
              "              title=\"Convert this dataframe to an interactive table.\"\n",
              "              style=\"display:none;\">\n",
              "        \n",
              "  <svg xmlns=\"http://www.w3.org/2000/svg\" height=\"24px\"viewBox=\"0 0 24 24\"\n",
              "       width=\"24px\">\n",
              "    <path d=\"M0 0h24v24H0V0z\" fill=\"none\"/>\n",
              "    <path d=\"M18.56 5.44l.94 2.06.94-2.06 2.06-.94-2.06-.94-.94-2.06-.94 2.06-2.06.94zm-11 1L8.5 8.5l.94-2.06 2.06-.94-2.06-.94L8.5 2.5l-.94 2.06-2.06.94zm10 10l.94 2.06.94-2.06 2.06-.94-2.06-.94-.94-2.06-.94 2.06-2.06.94z\"/><path d=\"M17.41 7.96l-1.37-1.37c-.4-.4-.92-.59-1.43-.59-.52 0-1.04.2-1.43.59L10.3 9.45l-7.72 7.72c-.78.78-.78 2.05 0 2.83L4 21.41c.39.39.9.59 1.41.59.51 0 1.02-.2 1.41-.59l7.78-7.78 2.81-2.81c.8-.78.8-2.07 0-2.86zM5.41 20L4 18.59l7.72-7.72 1.47 1.35L5.41 20z\"/>\n",
              "  </svg>\n",
              "      </button>\n",
              "      \n",
              "  <style>\n",
              "    .colab-df-container {\n",
              "      display:flex;\n",
              "      flex-wrap:wrap;\n",
              "      gap: 12px;\n",
              "    }\n",
              "\n",
              "    .colab-df-convert {\n",
              "      background-color: #E8F0FE;\n",
              "      border: none;\n",
              "      border-radius: 50%;\n",
              "      cursor: pointer;\n",
              "      display: none;\n",
              "      fill: #1967D2;\n",
              "      height: 32px;\n",
              "      padding: 0 0 0 0;\n",
              "      width: 32px;\n",
              "    }\n",
              "\n",
              "    .colab-df-convert:hover {\n",
              "      background-color: #E2EBFA;\n",
              "      box-shadow: 0px 1px 2px rgba(60, 64, 67, 0.3), 0px 1px 3px 1px rgba(60, 64, 67, 0.15);\n",
              "      fill: #174EA6;\n",
              "    }\n",
              "\n",
              "    [theme=dark] .colab-df-convert {\n",
              "      background-color: #3B4455;\n",
              "      fill: #D2E3FC;\n",
              "    }\n",
              "\n",
              "    [theme=dark] .colab-df-convert:hover {\n",
              "      background-color: #434B5C;\n",
              "      box-shadow: 0px 1px 3px 1px rgba(0, 0, 0, 0.15);\n",
              "      filter: drop-shadow(0px 1px 2px rgba(0, 0, 0, 0.3));\n",
              "      fill: #FFFFFF;\n",
              "    }\n",
              "  </style>\n",
              "\n",
              "      <script>\n",
              "        const buttonEl =\n",
              "          document.querySelector('#df-10a37e30-1026-44eb-a24d-cd9de0f14180 button.colab-df-convert');\n",
              "        buttonEl.style.display =\n",
              "          google.colab.kernel.accessAllowed ? 'block' : 'none';\n",
              "\n",
              "        async function convertToInteractive(key) {\n",
              "          const element = document.querySelector('#df-10a37e30-1026-44eb-a24d-cd9de0f14180');\n",
              "          const dataTable =\n",
              "            await google.colab.kernel.invokeFunction('convertToInteractive',\n",
              "                                                     [key], {});\n",
              "          if (!dataTable) return;\n",
              "\n",
              "          const docLinkHtml = 'Like what you see? Visit the ' +\n",
              "            '<a target=\"_blank\" href=https://colab.research.google.com/notebooks/data_table.ipynb>data table notebook</a>'\n",
              "            + ' to learn more about interactive tables.';\n",
              "          element.innerHTML = '';\n",
              "          dataTable['output_type'] = 'display_data';\n",
              "          await google.colab.output.renderOutput(dataTable, element);\n",
              "          const docLink = document.createElement('div');\n",
              "          docLink.innerHTML = docLinkHtml;\n",
              "          element.appendChild(docLink);\n",
              "        }\n",
              "      </script>\n",
              "    </div>\n",
              "  </div>\n",
              "  "
            ]
          },
          "metadata": {},
          "execution_count": 6
        }
      ]
    },
    {
      "cell_type": "code",
      "source": [
        "df_admissions.info()"
      ],
      "metadata": {
        "colab": {
          "base_uri": "https://localhost:8080/"
        },
        "id": "1b9keJXUunLp",
        "outputId": "635790e2-0dd3-4a2e-ec97-9fbfc4c4a5da"
      },
      "execution_count": 7,
      "outputs": [
        {
          "output_type": "stream",
          "name": "stdout",
          "text": [
            "<class 'pandas.core.frame.DataFrame'>\n",
            "RangeIndex: 431088 entries, 0 to 431087\n",
            "Data columns (total 15 columns):\n",
            " #   Column                Non-Null Count   Dtype \n",
            "---  ------                --------------   ----- \n",
            " 0   subject_id            431088 non-null  int64 \n",
            " 1   hadm_id               431088 non-null  int64 \n",
            " 2   admittime             431088 non-null  object\n",
            " 3   dischtime             431088 non-null  object\n",
            " 4   deathtime             8625 non-null    object\n",
            " 5   admission_type        431088 non-null  object\n",
            " 6   admission_location    431088 non-null  object\n",
            " 7   discharge_location    311774 non-null  object\n",
            " 8   insurance             431088 non-null  object\n",
            " 9   language              431088 non-null  object\n",
            " 10  marital_status        421868 non-null  object\n",
            " 11  race                  431088 non-null  object\n",
            " 12  edregtime             299260 non-null  object\n",
            " 13  edouttime             299260 non-null  object\n",
            " 14  hospital_expire_flag  431088 non-null  int64 \n",
            "dtypes: int64(3), object(12)\n",
            "memory usage: 49.3+ MB\n"
          ]
        }
      ]
    },
    {
      "cell_type": "code",
      "source": [
        "# no missing data in the main columns\n",
        "# distribution for admissions per patients\n",
        "plt.hist(df_admissions.groupby('subject_id')['hadm_id'].size())"
      ],
      "metadata": {
        "colab": {
          "base_uri": "https://localhost:8080/",
          "height": 352
        },
        "id": "2V2NAhvFg-5F",
        "outputId": "a6c09916-ef26-45d0-f960-192a1fd2d9a2"
      },
      "execution_count": 8,
      "outputs": [
        {
          "output_type": "execute_result",
          "data": {
            "text/plain": [
              "(array([1.80112e+05, 5.32000e+02, 7.60000e+01, 1.90000e+01, 2.00000e+00,\n",
              "        3.00000e+00, 1.00000e+00, 1.00000e+00, 0.00000e+00, 1.00000e+00]),\n",
              " array([  1. ,  24.7,  48.4,  72.1,  95.8, 119.5, 143.2, 166.9, 190.6,\n",
              "        214.3, 238. ]),\n",
              " <a list of 10 Patch objects>)"
            ]
          },
          "metadata": {},
          "execution_count": 8
        },
        {
          "output_type": "display_data",
          "data": {
            "text/plain": [
              "<Figure size 432x288 with 1 Axes>"
            ],
            "image/png": "[encoded data removed]"
          },
          "metadata": {
            "needs_background": "light"
          }
        }
      ]
    },
    {
      "cell_type": "code",
      "source": [
        "#race distribution as pie, ignoring less than 1% (~1800)\n",
        "import numpy as np\n",
        "df_sub_race = df_admissions[['subject_id', 'race']].groupby(['subject_id']).agg(['unique'])['race'].reset_index()\n",
        "df_sub_race['unique'].value_counts().loc[lambda x : x>1800].plot(kind='pie', autopct='%.2f')"
      ],
      "metadata": {
        "id": "rVnmaa8phOoD"
      },
      "execution_count": null,
      "outputs": []
    },
    {
      "cell_type": "code",
      "source": [
        "#calculate length of stay per admission in hours\n",
        "df_admissions['los'] = (pd.to_datetime(df_admissions['dischtime'])-pd.to_datetime(df_admissions['admittime']))/pd.Timedelta(hours=1)"
      ],
      "metadata": {
        "id": "tyU8UlA_mAzl"
      },
      "execution_count": null,
      "outputs": []
    },
    {
      "cell_type": "code",
      "source": [
        "#The mean length of stay\n",
        "df_admissions['los'].mean()"
      ],
      "metadata": {
        "id": "bqQW9yp6mPQa"
      },
      "execution_count": null,
      "outputs": []
    },
    {
      "cell_type": "code",
      "source": [],
      "metadata": {
        "id": "bPXFkdTjnNbq"
      },
      "execution_count": null,
      "outputs": []
    }
  ],
  "metadata": {
    "colab": {
      "provenance": [],
      "include_colab_link": true
    },
    "kernelspec": {
      "display_name": "Python 3",
      "name": "python3"
    }
  },
  "nbformat": 4,
  "nbformat_minor": 0
}