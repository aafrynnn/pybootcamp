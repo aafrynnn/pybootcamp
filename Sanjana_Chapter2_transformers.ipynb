{
  "nbformat": 4,
  "nbformat_minor": 0,
  "metadata": {
    "colab": {
      "provenance": [],
      "authorship_tag": "ABX9TyNvW0GE9it9iHFtabvP57LW",
      "include_colab_link": true
    },
    "kernelspec": {
      "name": "python3",
      "display_name": "Python 3"
    },
    "language_info": {
      "name": "python"
    }
  },
  "cells": [
    {
      "cell_type": "markdown",
      "metadata": {
        "id": "view-in-github",
        "colab_type": "text"
      },
      "source": [
        "<a href=\"https://colab.research.google.com/github/iupui-soic/pybootcamp/blob/main/Sanjana_Chapter2_transformers.ipynb\" target=\"_parent\"><img src=\"https://colab.research.google.com/assets/colab-badge.svg\" alt=\"Open In Colab\"/></a>"
      ]
    },
    {
      "cell_type": "code",
      "execution_count": 1,
      "metadata": {
        "id": "AxAcJP6hscsg"
      },
      "outputs": [],
      "source": [
        "from pathlib import Path\n",
        "import pandas as pd\n",
        "import tarfile\n",
        "import urllib.request\n",
        "\n",
        "def load_housing_data():\n",
        "    tarball_path = Path(\"datasets/housing.tgz\")\n",
        "    if not tarball_path.is_file():\n",
        "        Path(\"datasets\").mkdir(parents=True, exist_ok=True)\n",
        "        url = \"https://github.com/ageron/data/raw/main/housing.tgz\"\n",
        "        urllib.request.urlretrieve(url, tarball_path)\n",
        "        with tarfile.open(tarball_path) as housing_tarball:\n",
        "            housing_tarball.extractall(path=\"datasets\")\n",
        "    return pd.read_csv(Path(\"datasets/housing/housing.csv\"))\n",
        "\n",
        "housing = load_housing_data()"
      ]
    },
    {
      "cell_type": "code",
      "source": [
        "#transforming the training set \n",
        "from sklearn.impute import SimpleImputer\n",
        "import numpy as np\n",
        "imputer=SimpleImputer(strategy='median')\n",
        "housing_num=housing.select_dtypes(include=[np.number])\n",
        "imputer.fit(housing_num)\n",
        "\n",
        "X= imputer.transform(housing_num)"
      ],
      "metadata": {
        "id": "Lqud0XSwyGo_"
      },
      "execution_count": 3,
      "outputs": []
    },
    {
      "cell_type": "code",
      "source": [
        "imputer.feature_names_in_"
      ],
      "metadata": {
        "colab": {
          "base_uri": "https://localhost:8080/"
        },
        "id": "jNj6XBVl0t_w",
        "outputId": "101bdc6c-61b8-4c7b-927e-c2bff1d378c3"
      },
      "execution_count": 4,
      "outputs": [
        {
          "output_type": "execute_result",
          "data": {
            "text/plain": [
              "array(['longitude', 'latitude', 'housing_median_age', 'total_rooms',\n",
              "       'total_bedrooms', 'population', 'households', 'median_income',\n",
              "       'median_house_value'], dtype=object)"
            ]
          },
          "metadata": {},
          "execution_count": 4
        }
      ]
    },
    {
      "cell_type": "code",
      "source": [
        "housing_tr=pd.DataFrame(X, columns=housing_num.columns,index=housing_num.index)"
      ],
      "metadata": {
        "id": "3F4cHhql0_Ic"
      },
      "execution_count": 5,
      "outputs": []
    },
    {
      "cell_type": "code",
      "source": [
        "from sklearn.metrics.pairwise import rbf_kernel\n",
        "age_simil_35=rbf_kernel(housing[['housing_median_age']],[[35]],gamma=0.1)"
      ],
      "metadata": {
        "id": "xde9RHI71Lt2"
      },
      "execution_count": 6,
      "outputs": []
    },
    {
      "cell_type": "code",
      "source": [
        "housing[\"income_cat\"] = pd.cut(housing[\"median_income\"],\n",
        "                               bins=[0., 1.5, 3.0, 4.5, 6., np.inf],\n",
        "                               labels=[1, 2, 3, 4, 5])"
      ],
      "metadata": {
        "id": "fLXTK6Gz4zTq"
      },
      "execution_count": 13,
      "outputs": []
    },
    {
      "cell_type": "code",
      "source": [
        "splitter = StratifiedShuffleSplit(n_splits=10, test_size=0.2, random_state=42)\n",
        "strat_splits = []\n",
        "for train_index, test_index in splitter.split(housing, housing[\"income_cat\"]):\n",
        "    strat_train_set_n = housing.iloc[train_index]\n",
        "    strat_test_set_n = housing.iloc[test_index]\n",
        "    strat_splits.append([strat_train_set_n, strat_test_set_n])"
      ],
      "metadata": {
        "id": "Su3cbzqs4upC"
      },
      "execution_count": 16,
      "outputs": []
    },
    {
      "cell_type": "code",
      "source": [
        "from sklearn.preprocessing import StandardScaler\n",
        "\n",
        "std_scaler = StandardScaler()\n",
        "housing_num_std_scaled = std_scaler.fit_transform(housing_num)"
      ],
      "metadata": {
        "id": "1xAfvxyQ5Kb7"
      },
      "execution_count": 18,
      "outputs": []
    },
    {
      "cell_type": "code",
      "source": [
        "#creating simple transformers\n",
        "#transforming features with heavy tailed distributions by replacing them with their logarithm\n",
        "from sklearn.preprocessing import FunctionTransformer\n",
        "\n",
        "log_transformer = FunctionTransformer(np.log, inverse_func=np.exp)\n",
        "log_pop = log_transformer.transform(housing[[\"population\"]])"
      ],
      "metadata": {
        "id": "mgi0JH2w87rS"
      },
      "execution_count": 21,
      "outputs": []
    },
    {
      "cell_type": "code",
      "source": [
        "#giving hyperparameters as additional arguments\n",
        "rbf_transformer = FunctionTransformer(rbf_kernel,\n",
        "                                      kw_args=dict(Y=[[35.]], gamma=0.1))"
      ],
      "metadata": {
        "id": "RAX0FFQQ37dy"
      },
      "execution_count": 24,
      "outputs": []
    },
    {
      "cell_type": "code",
      "source": [
        "age_simil_35=rbf_transformer.transform(housing[['housing_median_age']])"
      ],
      "metadata": {
        "id": "y1VR1pwy9OAr"
      },
      "execution_count": 25,
      "outputs": []
    },
    {
      "cell_type": "code",
      "source": [
        "age_simil_35"
      ],
      "metadata": {
        "colab": {
          "base_uri": "https://localhost:8080/"
        },
        "id": "K_X6wusT9jwQ",
        "outputId": "bf2dbea8-1336-4a7f-ddf3-81b6e77cbceb"
      },
      "execution_count": 26,
      "outputs": [
        {
          "output_type": "execute_result",
          "data": {
            "text/plain": [
              "array([[2.73237224e-02],\n",
              "       [3.07487988e-09],\n",
              "       [2.81118530e-13],\n",
              "       ...,\n",
              "       [8.48904403e-15],\n",
              "       [2.81118530e-13],\n",
              "       [2.09879105e-16]])"
            ]
          },
          "metadata": {},
          "execution_count": 26
        }
      ]
    },
    {
      "cell_type": "code",
      "source": [
        "#ClusterSimilarity\n",
        "from sklearn.cluster import KMeans\n",
        "from sklearn.base import BaseEstimator, TransformerMixin\n",
        "\n",
        "class ClusterSimilarity(BaseEstimator, TransformerMixin):\n",
        "    def __init__(self, n_clusters=10, gamma=1.0, random_state=None):\n",
        "        self.n_clusters = n_clusters\n",
        "        self.gamma = gamma\n",
        "        self.random_state = random_state\n",
        "\n",
        "    def fit(self, X, y=None, sample_weight=None):\n",
        "        self.kmeans_ = KMeans(self.n_clusters, random_state=self.random_state)\n",
        "        self.kmeans_.fit(X, sample_weight=sample_weight)\n",
        "        return self  \n",
        "\n",
        "    def transform(self, X):\n",
        "        return rbf_kernel(X, self.kmeans_.cluster_centers_, gamma=self.gamma)\n",
        "    \n",
        "    def get_feature_names_out(self, names=None):\n",
        "        return [f\"Cluster {i} similarity\" for i in range(self.n_clusters)]"
      ],
      "metadata": {
        "id": "UMikafBi9l8z"
      },
      "execution_count": 28,
      "outputs": []
    },
    {
      "cell_type": "code",
      "source": [
        "#setting a random state and number of clusters to this custom transformer\n",
        "cluster_simil = ClusterSimilarity(n_clusters=10, gamma=1., random_state=42)\n"
      ],
      "metadata": {
        "id": "VRQmaGV0FAxd"
      },
      "execution_count": 30,
      "outputs": []
    },
    {
      "cell_type": "code",
      "source": [
        "from sklearn.cluster import KMeans\n",
        "from sklearn.base import BaseEstimator, TransformerMixin\n",
        "from sklearn.utils.validation import check_array, check_is_fitted\n",
        "\n",
        "class ClusterSimilarity(BaseEstimator, TransformerMixin):\n",
        "  def __init__(self, n_clusters=10, gamma=1.0, random_state=None):\n",
        "    self.n_clusters = n_clusters\n",
        "    self.gamma = gamma\n",
        "    self.random_state = random_state\n",
        "    \n",
        "  def fit(self, X, y=None, sample_weight=None):\n",
        "    self.kmeans_ = KMeans(self.n_clusters, random_state=self.random_state)\n",
        "    self.kmeans_.fit(X, sample_weight=sample_weight)\n",
        "    return self # always return self!\n",
        "\n",
        "  def transform(self, X):\n",
        "    return rbf_kernel(X, self.kmeans_.cluster_centers_, gamma=self.gamma)\n",
        "\n",
        "  def get_feature_names_out(self, names=None):\n",
        "    return [f\"Cluster {i} similarity\" for i in range(self.n_clusters)]\n",
        "     "
      ],
      "metadata": {
        "id": "A9wwpZ6GIYmP"
      },
      "execution_count": 50,
      "outputs": []
    },
    {
      "cell_type": "code",
      "source": [
        "#transformation pipelines\n",
        "from sklearn.pipeline import Pipeline\n",
        "\n",
        "num_pipeline = Pipeline([\n",
        "    (\"impute\", SimpleImputer(strategy=\"median\")),\n",
        "    (\"standardize\", StandardScaler()),\n",
        "])"
      ],
      "metadata": {
        "id": "paN4Jy3dFdXV"
      },
      "execution_count": 42,
      "outputs": []
    },
    {
      "cell_type": "code",
      "source": [
        "from sklearn import set_config\n",
        "\n",
        "set_config(display='diagram')\n",
        "\n",
        "num_pipeline"
      ],
      "metadata": {
        "colab": {
          "base_uri": "https://localhost:8080/",
          "height": 126
        },
        "id": "hcRrUuULGPiC",
        "outputId": "c79471af-6aad-4561-aa13-e1d94f781bc9"
      },
      "execution_count": 43,
      "outputs": [
        {
          "output_type": "execute_result",
          "data": {
            "text/plain": [
              "Pipeline(steps=[('impute', SimpleImputer(strategy='median')),\n",
              "                ('standardize', StandardScaler())])"
            ],
            "text/html": [
              "<style>#sk-377adeec-3c53-47cf-b55c-fe6edba02cc0 {color: black;background-color: white;}#sk-377adeec-3c53-47cf-b55c-fe6edba02cc0 pre{padding: 0;}#sk-377adeec-3c53-47cf-b55c-fe6edba02cc0 div.sk-toggleable {background-color: white;}#sk-377adeec-3c53-47cf-b55c-fe6edba02cc0 label.sk-toggleable__label {cursor: pointer;display: block;width: 100%;margin-bottom: 0;padding: 0.3em;box-sizing: border-box;text-align: center;}#sk-377adeec-3c53-47cf-b55c-fe6edba02cc0 label.sk-toggleable__label-arrow:before {content: \"▸\";float: left;margin-right: 0.25em;color: #696969;}#sk-377adeec-3c53-47cf-b55c-fe6edba02cc0 label.sk-toggleable__label-arrow:hover:before {color: black;}#sk-377adeec-3c53-47cf-b55c-fe6edba02cc0 div.sk-estimator:hover label.sk-toggleable__label-arrow:before {color: black;}#sk-377adeec-3c53-47cf-b55c-fe6edba02cc0 div.sk-toggleable__content {max-height: 0;max-width: 0;overflow: hidden;text-align: left;background-color: #f0f8ff;}#sk-377adeec-3c53-47cf-b55c-fe6edba02cc0 div.sk-toggleable__content pre {margin: 0.2em;color: black;border-radius: 0.25em;background-color: #f0f8ff;}#sk-377adeec-3c53-47cf-b55c-fe6edba02cc0 input.sk-toggleable__control:checked~div.sk-toggleable__content {max-height: 200px;max-width: 100%;overflow: auto;}#sk-377adeec-3c53-47cf-b55c-fe6edba02cc0 input.sk-toggleable__control:checked~label.sk-toggleable__label-arrow:before {content: \"▾\";}#sk-377adeec-3c53-47cf-b55c-fe6edba02cc0 div.sk-estimator input.sk-toggleable__control:checked~label.sk-toggleable__label {background-color: #d4ebff;}#sk-377adeec-3c53-47cf-b55c-fe6edba02cc0 div.sk-label input.sk-toggleable__control:checked~label.sk-toggleable__label {background-color: #d4ebff;}#sk-377adeec-3c53-47cf-b55c-fe6edba02cc0 input.sk-hidden--visually {border: 0;clip: rect(1px 1px 1px 1px);clip: rect(1px, 1px, 1px, 1px);height: 1px;margin: -1px;overflow: hidden;padding: 0;position: absolute;width: 1px;}#sk-377adeec-3c53-47cf-b55c-fe6edba02cc0 div.sk-estimator {font-family: monospace;background-color: #f0f8ff;border: 1px dotted black;border-radius: 0.25em;box-sizing: border-box;margin-bottom: 0.5em;}#sk-377adeec-3c53-47cf-b55c-fe6edba02cc0 div.sk-estimator:hover {background-color: #d4ebff;}#sk-377adeec-3c53-47cf-b55c-fe6edba02cc0 div.sk-parallel-item::after {content: \"\";width: 100%;border-bottom: 1px solid gray;flex-grow: 1;}#sk-377adeec-3c53-47cf-b55c-fe6edba02cc0 div.sk-label:hover label.sk-toggleable__label {background-color: #d4ebff;}#sk-377adeec-3c53-47cf-b55c-fe6edba02cc0 div.sk-serial::before {content: \"\";position: absolute;border-left: 1px solid gray;box-sizing: border-box;top: 2em;bottom: 0;left: 50%;}#sk-377adeec-3c53-47cf-b55c-fe6edba02cc0 div.sk-serial {display: flex;flex-direction: column;align-items: center;background-color: white;padding-right: 0.2em;padding-left: 0.2em;}#sk-377adeec-3c53-47cf-b55c-fe6edba02cc0 div.sk-item {z-index: 1;}#sk-377adeec-3c53-47cf-b55c-fe6edba02cc0 div.sk-parallel {display: flex;align-items: stretch;justify-content: center;background-color: white;}#sk-377adeec-3c53-47cf-b55c-fe6edba02cc0 div.sk-parallel::before {content: \"\";position: absolute;border-left: 1px solid gray;box-sizing: border-box;top: 2em;bottom: 0;left: 50%;}#sk-377adeec-3c53-47cf-b55c-fe6edba02cc0 div.sk-parallel-item {display: flex;flex-direction: column;position: relative;background-color: white;}#sk-377adeec-3c53-47cf-b55c-fe6edba02cc0 div.sk-parallel-item:first-child::after {align-self: flex-end;width: 50%;}#sk-377adeec-3c53-47cf-b55c-fe6edba02cc0 div.sk-parallel-item:last-child::after {align-self: flex-start;width: 50%;}#sk-377adeec-3c53-47cf-b55c-fe6edba02cc0 div.sk-parallel-item:only-child::after {width: 0;}#sk-377adeec-3c53-47cf-b55c-fe6edba02cc0 div.sk-dashed-wrapped {border: 1px dashed gray;margin: 0 0.4em 0.5em 0.4em;box-sizing: border-box;padding-bottom: 0.4em;background-color: white;position: relative;}#sk-377adeec-3c53-47cf-b55c-fe6edba02cc0 div.sk-label label {font-family: monospace;font-weight: bold;background-color: white;display: inline-block;line-height: 1.2em;}#sk-377adeec-3c53-47cf-b55c-fe6edba02cc0 div.sk-label-container {position: relative;z-index: 2;text-align: center;}#sk-377adeec-3c53-47cf-b55c-fe6edba02cc0 div.sk-container {/* jupyter's `normalize.less` sets `[hidden] { display: none; }` but bootstrap.min.css set `[hidden] { display: none !important; }` so we also need the `!important` here to be able to override the default hidden behavior on the sphinx rendered scikit-learn.org. See: https://github.com/scikit-learn/scikit-learn/issues/21755 */display: inline-block !important;position: relative;}#sk-377adeec-3c53-47cf-b55c-fe6edba02cc0 div.sk-text-repr-fallback {display: none;}</style><div id=\"sk-377adeec-3c53-47cf-b55c-fe6edba02cc0\" class=\"sk-top-container\"><div class=\"sk-text-repr-fallback\"><pre>Pipeline(steps=[(&#x27;impute&#x27;, SimpleImputer(strategy=&#x27;median&#x27;)),\n",
              "                (&#x27;standardize&#x27;, StandardScaler())])</pre><b>Please rerun this cell to show the HTML repr or trust the notebook.</b></div><div class=\"sk-container\" hidden><div class=\"sk-item sk-dashed-wrapped\"><div class=\"sk-label-container\"><div class=\"sk-label sk-toggleable\"><input class=\"sk-toggleable__control sk-hidden--visually\" id=\"a253cec1-9f94-4db4-8744-54ade2550e02\" type=\"checkbox\" ><label for=\"a253cec1-9f94-4db4-8744-54ade2550e02\" class=\"sk-toggleable__label sk-toggleable__label-arrow\">Pipeline</label><div class=\"sk-toggleable__content\"><pre>Pipeline(steps=[(&#x27;impute&#x27;, SimpleImputer(strategy=&#x27;median&#x27;)),\n",
              "                (&#x27;standardize&#x27;, StandardScaler())])</pre></div></div></div><div class=\"sk-serial\"><div class=\"sk-item\"><div class=\"sk-estimator sk-toggleable\"><input class=\"sk-toggleable__control sk-hidden--visually\" id=\"c1a337cb-3376-4fb0-ae63-c286b63c873f\" type=\"checkbox\" ><label for=\"c1a337cb-3376-4fb0-ae63-c286b63c873f\" class=\"sk-toggleable__label sk-toggleable__label-arrow\">SimpleImputer</label><div class=\"sk-toggleable__content\"><pre>SimpleImputer(strategy=&#x27;median&#x27;)</pre></div></div></div><div class=\"sk-item\"><div class=\"sk-estimator sk-toggleable\"><input class=\"sk-toggleable__control sk-hidden--visually\" id=\"cb9b5b4d-dcae-411e-b3da-a2d8ea499df2\" type=\"checkbox\" ><label for=\"cb9b5b4d-dcae-411e-b3da-a2d8ea499df2\" class=\"sk-toggleable__label sk-toggleable__label-arrow\">StandardScaler</label><div class=\"sk-toggleable__content\"><pre>StandardScaler()</pre></div></div></div></div></div></div></div>"
            ]
          },
          "metadata": {},
          "execution_count": 43
        }
      ]
    },
    {
      "cell_type": "code",
      "source": [
        "#using make_pipeline() to create pipeline using the names of the transformers' classes\n",
        "from sklearn.pipeline import make_pipeline\n",
        "\n",
        "num_pipeline = make_pipeline(SimpleImputer(strategy=\"median\"), StandardScaler())"
      ],
      "metadata": {
        "id": "BPkpT2H-FiZw"
      },
      "execution_count": 33,
      "outputs": []
    },
    {
      "cell_type": "code",
      "source": [
        "#looking at first two rows of output after using fit_transform()\n",
        "housing_num_prepared = num_pipeline.fit_transform(housing_num)\n",
        "housing_num_prepared[:2].round(2)"
      ],
      "metadata": {
        "colab": {
          "base_uri": "https://localhost:8080/"
        },
        "id": "hpqghdrfGEK6",
        "outputId": "753cdbd3-3159-49f1-82a3-2b0227c68940"
      },
      "execution_count": 35,
      "outputs": [
        {
          "output_type": "execute_result",
          "data": {
            "text/plain": [
              "array([[-1.33,  1.05,  0.98, -0.8 , -0.97, -0.97, -0.98,  2.34,  2.13],\n",
              "       [-1.32,  1.04, -0.61,  2.05,  1.36,  0.86,  1.67,  2.33,  1.31]])"
            ]
          },
          "metadata": {},
          "execution_count": 35
        }
      ]
    },
    {
      "cell_type": "code",
      "source": [
        "num_pipeline.steps"
      ],
      "metadata": {
        "colab": {
          "base_uri": "https://localhost:8080/"
        },
        "id": "tXKRykNdGT7L",
        "outputId": "a42c7c51-487a-4df2-9963-47b95ad3d8f6"
      },
      "execution_count": 37,
      "outputs": [
        {
          "output_type": "execute_result",
          "data": {
            "text/plain": [
              "[('simpleimputer', SimpleImputer(strategy='median')),\n",
              " ('standardscaler', StandardScaler())]"
            ]
          },
          "metadata": {},
          "execution_count": 37
        }
      ]
    },
    {
      "cell_type": "code",
      "source": [
        "num_pipeline[1]"
      ],
      "metadata": {
        "colab": {
          "base_uri": "https://localhost:8080/",
          "height": 75
        },
        "id": "Ezr74ZoPGn2M",
        "outputId": "889cf7c7-5231-4e38-8b8d-5795d88c2451"
      },
      "execution_count": 39,
      "outputs": [
        {
          "output_type": "execute_result",
          "data": {
            "text/plain": [
              "StandardScaler()"
            ],
            "text/html": [
              "<style>#sk-ae1cb606-c142-44a1-826d-23d05f70fe3a {color: black;background-color: white;}#sk-ae1cb606-c142-44a1-826d-23d05f70fe3a pre{padding: 0;}#sk-ae1cb606-c142-44a1-826d-23d05f70fe3a div.sk-toggleable {background-color: white;}#sk-ae1cb606-c142-44a1-826d-23d05f70fe3a label.sk-toggleable__label {cursor: pointer;display: block;width: 100%;margin-bottom: 0;padding: 0.3em;box-sizing: border-box;text-align: center;}#sk-ae1cb606-c142-44a1-826d-23d05f70fe3a label.sk-toggleable__label-arrow:before {content: \"▸\";float: left;margin-right: 0.25em;color: #696969;}#sk-ae1cb606-c142-44a1-826d-23d05f70fe3a label.sk-toggleable__label-arrow:hover:before {color: black;}#sk-ae1cb606-c142-44a1-826d-23d05f70fe3a div.sk-estimator:hover label.sk-toggleable__label-arrow:before {color: black;}#sk-ae1cb606-c142-44a1-826d-23d05f70fe3a div.sk-toggleable__content {max-height: 0;max-width: 0;overflow: hidden;text-align: left;background-color: #f0f8ff;}#sk-ae1cb606-c142-44a1-826d-23d05f70fe3a div.sk-toggleable__content pre {margin: 0.2em;color: black;border-radius: 0.25em;background-color: #f0f8ff;}#sk-ae1cb606-c142-44a1-826d-23d05f70fe3a input.sk-toggleable__control:checked~div.sk-toggleable__content {max-height: 200px;max-width: 100%;overflow: auto;}#sk-ae1cb606-c142-44a1-826d-23d05f70fe3a input.sk-toggleable__control:checked~label.sk-toggleable__label-arrow:before {content: \"▾\";}#sk-ae1cb606-c142-44a1-826d-23d05f70fe3a div.sk-estimator input.sk-toggleable__control:checked~label.sk-toggleable__label {background-color: #d4ebff;}#sk-ae1cb606-c142-44a1-826d-23d05f70fe3a div.sk-label input.sk-toggleable__control:checked~label.sk-toggleable__label {background-color: #d4ebff;}#sk-ae1cb606-c142-44a1-826d-23d05f70fe3a input.sk-hidden--visually {border: 0;clip: rect(1px 1px 1px 1px);clip: rect(1px, 1px, 1px, 1px);height: 1px;margin: -1px;overflow: hidden;padding: 0;position: absolute;width: 1px;}#sk-ae1cb606-c142-44a1-826d-23d05f70fe3a div.sk-estimator {font-family: monospace;background-color: #f0f8ff;border: 1px dotted black;border-radius: 0.25em;box-sizing: border-box;margin-bottom: 0.5em;}#sk-ae1cb606-c142-44a1-826d-23d05f70fe3a div.sk-estimator:hover {background-color: #d4ebff;}#sk-ae1cb606-c142-44a1-826d-23d05f70fe3a div.sk-parallel-item::after {content: \"\";width: 100%;border-bottom: 1px solid gray;flex-grow: 1;}#sk-ae1cb606-c142-44a1-826d-23d05f70fe3a div.sk-label:hover label.sk-toggleable__label {background-color: #d4ebff;}#sk-ae1cb606-c142-44a1-826d-23d05f70fe3a div.sk-serial::before {content: \"\";position: absolute;border-left: 1px solid gray;box-sizing: border-box;top: 2em;bottom: 0;left: 50%;}#sk-ae1cb606-c142-44a1-826d-23d05f70fe3a div.sk-serial {display: flex;flex-direction: column;align-items: center;background-color: white;padding-right: 0.2em;padding-left: 0.2em;}#sk-ae1cb606-c142-44a1-826d-23d05f70fe3a div.sk-item {z-index: 1;}#sk-ae1cb606-c142-44a1-826d-23d05f70fe3a div.sk-parallel {display: flex;align-items: stretch;justify-content: center;background-color: white;}#sk-ae1cb606-c142-44a1-826d-23d05f70fe3a div.sk-parallel::before {content: \"\";position: absolute;border-left: 1px solid gray;box-sizing: border-box;top: 2em;bottom: 0;left: 50%;}#sk-ae1cb606-c142-44a1-826d-23d05f70fe3a div.sk-parallel-item {display: flex;flex-direction: column;position: relative;background-color: white;}#sk-ae1cb606-c142-44a1-826d-23d05f70fe3a div.sk-parallel-item:first-child::after {align-self: flex-end;width: 50%;}#sk-ae1cb606-c142-44a1-826d-23d05f70fe3a div.sk-parallel-item:last-child::after {align-self: flex-start;width: 50%;}#sk-ae1cb606-c142-44a1-826d-23d05f70fe3a div.sk-parallel-item:only-child::after {width: 0;}#sk-ae1cb606-c142-44a1-826d-23d05f70fe3a div.sk-dashed-wrapped {border: 1px dashed gray;margin: 0 0.4em 0.5em 0.4em;box-sizing: border-box;padding-bottom: 0.4em;background-color: white;position: relative;}#sk-ae1cb606-c142-44a1-826d-23d05f70fe3a div.sk-label label {font-family: monospace;font-weight: bold;background-color: white;display: inline-block;line-height: 1.2em;}#sk-ae1cb606-c142-44a1-826d-23d05f70fe3a div.sk-label-container {position: relative;z-index: 2;text-align: center;}#sk-ae1cb606-c142-44a1-826d-23d05f70fe3a div.sk-container {/* jupyter's `normalize.less` sets `[hidden] { display: none; }` but bootstrap.min.css set `[hidden] { display: none !important; }` so we also need the `!important` here to be able to override the default hidden behavior on the sphinx rendered scikit-learn.org. See: https://github.com/scikit-learn/scikit-learn/issues/21755 */display: inline-block !important;position: relative;}#sk-ae1cb606-c142-44a1-826d-23d05f70fe3a div.sk-text-repr-fallback {display: none;}</style><div id=\"sk-ae1cb606-c142-44a1-826d-23d05f70fe3a\" class=\"sk-top-container\"><div class=\"sk-text-repr-fallback\"><pre>StandardScaler()</pre><b>Please rerun this cell to show the HTML repr or trust the notebook.</b></div><div class=\"sk-container\" hidden><div class=\"sk-item\"><div class=\"sk-estimator sk-toggleable\"><input class=\"sk-toggleable__control sk-hidden--visually\" id=\"d5eedb82-70c2-431a-a275-99161fdc219b\" type=\"checkbox\" checked><label for=\"d5eedb82-70c2-431a-a275-99161fdc219b\" class=\"sk-toggleable__label sk-toggleable__label-arrow\">StandardScaler</label><div class=\"sk-toggleable__content\"><pre>StandardScaler()</pre></div></div></div></div></div>"
            ]
          },
          "metadata": {},
          "execution_count": 39
        }
      ]
    },
    {
      "cell_type": "code",
      "source": [
        "num_pipeline[:-1]"
      ],
      "metadata": {
        "colab": {
          "base_uri": "https://localhost:8080/",
          "height": 92
        },
        "id": "VIRf_SeUGaxG",
        "outputId": "b1b2f3af-d3f3-491a-8ed8-824dde4b19e4"
      },
      "execution_count": 38,
      "outputs": [
        {
          "output_type": "execute_result",
          "data": {
            "text/plain": [
              "Pipeline(steps=[('simpleimputer', SimpleImputer(strategy='median'))])"
            ],
            "text/html": [
              "<style>#sk-cd587a2d-cd54-4238-9c7c-1f6615b7d558 {color: black;background-color: white;}#sk-cd587a2d-cd54-4238-9c7c-1f6615b7d558 pre{padding: 0;}#sk-cd587a2d-cd54-4238-9c7c-1f6615b7d558 div.sk-toggleable {background-color: white;}#sk-cd587a2d-cd54-4238-9c7c-1f6615b7d558 label.sk-toggleable__label {cursor: pointer;display: block;width: 100%;margin-bottom: 0;padding: 0.3em;box-sizing: border-box;text-align: center;}#sk-cd587a2d-cd54-4238-9c7c-1f6615b7d558 label.sk-toggleable__label-arrow:before {content: \"▸\";float: left;margin-right: 0.25em;color: #696969;}#sk-cd587a2d-cd54-4238-9c7c-1f6615b7d558 label.sk-toggleable__label-arrow:hover:before {color: black;}#sk-cd587a2d-cd54-4238-9c7c-1f6615b7d558 div.sk-estimator:hover label.sk-toggleable__label-arrow:before {color: black;}#sk-cd587a2d-cd54-4238-9c7c-1f6615b7d558 div.sk-toggleable__content {max-height: 0;max-width: 0;overflow: hidden;text-align: left;background-color: #f0f8ff;}#sk-cd587a2d-cd54-4238-9c7c-1f6615b7d558 div.sk-toggleable__content pre {margin: 0.2em;color: black;border-radius: 0.25em;background-color: #f0f8ff;}#sk-cd587a2d-cd54-4238-9c7c-1f6615b7d558 input.sk-toggleable__control:checked~div.sk-toggleable__content {max-height: 200px;max-width: 100%;overflow: auto;}#sk-cd587a2d-cd54-4238-9c7c-1f6615b7d558 input.sk-toggleable__control:checked~label.sk-toggleable__label-arrow:before {content: \"▾\";}#sk-cd587a2d-cd54-4238-9c7c-1f6615b7d558 div.sk-estimator input.sk-toggleable__control:checked~label.sk-toggleable__label {background-color: #d4ebff;}#sk-cd587a2d-cd54-4238-9c7c-1f6615b7d558 div.sk-label input.sk-toggleable__control:checked~label.sk-toggleable__label {background-color: #d4ebff;}#sk-cd587a2d-cd54-4238-9c7c-1f6615b7d558 input.sk-hidden--visually {border: 0;clip: rect(1px 1px 1px 1px);clip: rect(1px, 1px, 1px, 1px);height: 1px;margin: -1px;overflow: hidden;padding: 0;position: absolute;width: 1px;}#sk-cd587a2d-cd54-4238-9c7c-1f6615b7d558 div.sk-estimator {font-family: monospace;background-color: #f0f8ff;border: 1px dotted black;border-radius: 0.25em;box-sizing: border-box;margin-bottom: 0.5em;}#sk-cd587a2d-cd54-4238-9c7c-1f6615b7d558 div.sk-estimator:hover {background-color: #d4ebff;}#sk-cd587a2d-cd54-4238-9c7c-1f6615b7d558 div.sk-parallel-item::after {content: \"\";width: 100%;border-bottom: 1px solid gray;flex-grow: 1;}#sk-cd587a2d-cd54-4238-9c7c-1f6615b7d558 div.sk-label:hover label.sk-toggleable__label {background-color: #d4ebff;}#sk-cd587a2d-cd54-4238-9c7c-1f6615b7d558 div.sk-serial::before {content: \"\";position: absolute;border-left: 1px solid gray;box-sizing: border-box;top: 2em;bottom: 0;left: 50%;}#sk-cd587a2d-cd54-4238-9c7c-1f6615b7d558 div.sk-serial {display: flex;flex-direction: column;align-items: center;background-color: white;padding-right: 0.2em;padding-left: 0.2em;}#sk-cd587a2d-cd54-4238-9c7c-1f6615b7d558 div.sk-item {z-index: 1;}#sk-cd587a2d-cd54-4238-9c7c-1f6615b7d558 div.sk-parallel {display: flex;align-items: stretch;justify-content: center;background-color: white;}#sk-cd587a2d-cd54-4238-9c7c-1f6615b7d558 div.sk-parallel::before {content: \"\";position: absolute;border-left: 1px solid gray;box-sizing: border-box;top: 2em;bottom: 0;left: 50%;}#sk-cd587a2d-cd54-4238-9c7c-1f6615b7d558 div.sk-parallel-item {display: flex;flex-direction: column;position: relative;background-color: white;}#sk-cd587a2d-cd54-4238-9c7c-1f6615b7d558 div.sk-parallel-item:first-child::after {align-self: flex-end;width: 50%;}#sk-cd587a2d-cd54-4238-9c7c-1f6615b7d558 div.sk-parallel-item:last-child::after {align-self: flex-start;width: 50%;}#sk-cd587a2d-cd54-4238-9c7c-1f6615b7d558 div.sk-parallel-item:only-child::after {width: 0;}#sk-cd587a2d-cd54-4238-9c7c-1f6615b7d558 div.sk-dashed-wrapped {border: 1px dashed gray;margin: 0 0.4em 0.5em 0.4em;box-sizing: border-box;padding-bottom: 0.4em;background-color: white;position: relative;}#sk-cd587a2d-cd54-4238-9c7c-1f6615b7d558 div.sk-label label {font-family: monospace;font-weight: bold;background-color: white;display: inline-block;line-height: 1.2em;}#sk-cd587a2d-cd54-4238-9c7c-1f6615b7d558 div.sk-label-container {position: relative;z-index: 2;text-align: center;}#sk-cd587a2d-cd54-4238-9c7c-1f6615b7d558 div.sk-container {/* jupyter's `normalize.less` sets `[hidden] { display: none; }` but bootstrap.min.css set `[hidden] { display: none !important; }` so we also need the `!important` here to be able to override the default hidden behavior on the sphinx rendered scikit-learn.org. See: https://github.com/scikit-learn/scikit-learn/issues/21755 */display: inline-block !important;position: relative;}#sk-cd587a2d-cd54-4238-9c7c-1f6615b7d558 div.sk-text-repr-fallback {display: none;}</style><div id=\"sk-cd587a2d-cd54-4238-9c7c-1f6615b7d558\" class=\"sk-top-container\"><div class=\"sk-text-repr-fallback\"><pre>Pipeline(steps=[(&#x27;simpleimputer&#x27;, SimpleImputer(strategy=&#x27;median&#x27;))])</pre><b>Please rerun this cell to show the HTML repr or trust the notebook.</b></div><div class=\"sk-container\" hidden><div class=\"sk-item sk-dashed-wrapped\"><div class=\"sk-label-container\"><div class=\"sk-label sk-toggleable\"><input class=\"sk-toggleable__control sk-hidden--visually\" id=\"bbf095ca-d260-40cf-83e3-9da4facb9edb\" type=\"checkbox\" ><label for=\"bbf095ca-d260-40cf-83e3-9da4facb9edb\" class=\"sk-toggleable__label sk-toggleable__label-arrow\">Pipeline</label><div class=\"sk-toggleable__content\"><pre>Pipeline(steps=[(&#x27;simpleimputer&#x27;, SimpleImputer(strategy=&#x27;median&#x27;))])</pre></div></div></div><div class=\"sk-serial\"><div class=\"sk-item\"><div class=\"sk-estimator sk-toggleable\"><input class=\"sk-toggleable__control sk-hidden--visually\" id=\"40c74ab3-0078-444b-ba25-fc069e5856ac\" type=\"checkbox\" ><label for=\"40c74ab3-0078-444b-ba25-fc069e5856ac\" class=\"sk-toggleable__label sk-toggleable__label-arrow\">SimpleImputer</label><div class=\"sk-toggleable__content\"><pre>SimpleImputer(strategy=&#x27;median&#x27;)</pre></div></div></div></div></div></div></div>"
            ]
          },
          "metadata": {},
          "execution_count": 38
        }
      ]
    },
    {
      "cell_type": "code",
      "source": [
        "num_pipeline.named_steps[\"simpleimputer\"]"
      ],
      "metadata": {
        "colab": {
          "base_uri": "https://localhost:8080/",
          "height": 75
        },
        "id": "G3DL-NrxGlPZ",
        "outputId": "61a01bd4-588f-4c42-e6e7-139ec9bbba9c"
      },
      "execution_count": 40,
      "outputs": [
        {
          "output_type": "execute_result",
          "data": {
            "text/plain": [
              "SimpleImputer(strategy='median')"
            ],
            "text/html": [
              "<style>#sk-ed628f81-8adf-4fe0-81df-415dfda8ec62 {color: black;background-color: white;}#sk-ed628f81-8adf-4fe0-81df-415dfda8ec62 pre{padding: 0;}#sk-ed628f81-8adf-4fe0-81df-415dfda8ec62 div.sk-toggleable {background-color: white;}#sk-ed628f81-8adf-4fe0-81df-415dfda8ec62 label.sk-toggleable__label {cursor: pointer;display: block;width: 100%;margin-bottom: 0;padding: 0.3em;box-sizing: border-box;text-align: center;}#sk-ed628f81-8adf-4fe0-81df-415dfda8ec62 label.sk-toggleable__label-arrow:before {content: \"▸\";float: left;margin-right: 0.25em;color: #696969;}#sk-ed628f81-8adf-4fe0-81df-415dfda8ec62 label.sk-toggleable__label-arrow:hover:before {color: black;}#sk-ed628f81-8adf-4fe0-81df-415dfda8ec62 div.sk-estimator:hover label.sk-toggleable__label-arrow:before {color: black;}#sk-ed628f81-8adf-4fe0-81df-415dfda8ec62 div.sk-toggleable__content {max-height: 0;max-width: 0;overflow: hidden;text-align: left;background-color: #f0f8ff;}#sk-ed628f81-8adf-4fe0-81df-415dfda8ec62 div.sk-toggleable__content pre {margin: 0.2em;color: black;border-radius: 0.25em;background-color: #f0f8ff;}#sk-ed628f81-8adf-4fe0-81df-415dfda8ec62 input.sk-toggleable__control:checked~div.sk-toggleable__content {max-height: 200px;max-width: 100%;overflow: auto;}#sk-ed628f81-8adf-4fe0-81df-415dfda8ec62 input.sk-toggleable__control:checked~label.sk-toggleable__label-arrow:before {content: \"▾\";}#sk-ed628f81-8adf-4fe0-81df-415dfda8ec62 div.sk-estimator input.sk-toggleable__control:checked~label.sk-toggleable__label {background-color: #d4ebff;}#sk-ed628f81-8adf-4fe0-81df-415dfda8ec62 div.sk-label input.sk-toggleable__control:checked~label.sk-toggleable__label {background-color: #d4ebff;}#sk-ed628f81-8adf-4fe0-81df-415dfda8ec62 input.sk-hidden--visually {border: 0;clip: rect(1px 1px 1px 1px);clip: rect(1px, 1px, 1px, 1px);height: 1px;margin: -1px;overflow: hidden;padding: 0;position: absolute;width: 1px;}#sk-ed628f81-8adf-4fe0-81df-415dfda8ec62 div.sk-estimator {font-family: monospace;background-color: #f0f8ff;border: 1px dotted black;border-radius: 0.25em;box-sizing: border-box;margin-bottom: 0.5em;}#sk-ed628f81-8adf-4fe0-81df-415dfda8ec62 div.sk-estimator:hover {background-color: #d4ebff;}#sk-ed628f81-8adf-4fe0-81df-415dfda8ec62 div.sk-parallel-item::after {content: \"\";width: 100%;border-bottom: 1px solid gray;flex-grow: 1;}#sk-ed628f81-8adf-4fe0-81df-415dfda8ec62 div.sk-label:hover label.sk-toggleable__label {background-color: #d4ebff;}#sk-ed628f81-8adf-4fe0-81df-415dfda8ec62 div.sk-serial::before {content: \"\";position: absolute;border-left: 1px solid gray;box-sizing: border-box;top: 2em;bottom: 0;left: 50%;}#sk-ed628f81-8adf-4fe0-81df-415dfda8ec62 div.sk-serial {display: flex;flex-direction: column;align-items: center;background-color: white;padding-right: 0.2em;padding-left: 0.2em;}#sk-ed628f81-8adf-4fe0-81df-415dfda8ec62 div.sk-item {z-index: 1;}#sk-ed628f81-8adf-4fe0-81df-415dfda8ec62 div.sk-parallel {display: flex;align-items: stretch;justify-content: center;background-color: white;}#sk-ed628f81-8adf-4fe0-81df-415dfda8ec62 div.sk-parallel::before {content: \"\";position: absolute;border-left: 1px solid gray;box-sizing: border-box;top: 2em;bottom: 0;left: 50%;}#sk-ed628f81-8adf-4fe0-81df-415dfda8ec62 div.sk-parallel-item {display: flex;flex-direction: column;position: relative;background-color: white;}#sk-ed628f81-8adf-4fe0-81df-415dfda8ec62 div.sk-parallel-item:first-child::after {align-self: flex-end;width: 50%;}#sk-ed628f81-8adf-4fe0-81df-415dfda8ec62 div.sk-parallel-item:last-child::after {align-self: flex-start;width: 50%;}#sk-ed628f81-8adf-4fe0-81df-415dfda8ec62 div.sk-parallel-item:only-child::after {width: 0;}#sk-ed628f81-8adf-4fe0-81df-415dfda8ec62 div.sk-dashed-wrapped {border: 1px dashed gray;margin: 0 0.4em 0.5em 0.4em;box-sizing: border-box;padding-bottom: 0.4em;background-color: white;position: relative;}#sk-ed628f81-8adf-4fe0-81df-415dfda8ec62 div.sk-label label {font-family: monospace;font-weight: bold;background-color: white;display: inline-block;line-height: 1.2em;}#sk-ed628f81-8adf-4fe0-81df-415dfda8ec62 div.sk-label-container {position: relative;z-index: 2;text-align: center;}#sk-ed628f81-8adf-4fe0-81df-415dfda8ec62 div.sk-container {/* jupyter's `normalize.less` sets `[hidden] { display: none; }` but bootstrap.min.css set `[hidden] { display: none !important; }` so we also need the `!important` here to be able to override the default hidden behavior on the sphinx rendered scikit-learn.org. See: https://github.com/scikit-learn/scikit-learn/issues/21755 */display: inline-block !important;position: relative;}#sk-ed628f81-8adf-4fe0-81df-415dfda8ec62 div.sk-text-repr-fallback {display: none;}</style><div id=\"sk-ed628f81-8adf-4fe0-81df-415dfda8ec62\" class=\"sk-top-container\"><div class=\"sk-text-repr-fallback\"><pre>SimpleImputer(strategy=&#x27;median&#x27;)</pre><b>Please rerun this cell to show the HTML repr or trust the notebook.</b></div><div class=\"sk-container\" hidden><div class=\"sk-item\"><div class=\"sk-estimator sk-toggleable\"><input class=\"sk-toggleable__control sk-hidden--visually\" id=\"e52b5206-def7-462d-b3e9-410757575d22\" type=\"checkbox\" checked><label for=\"e52b5206-def7-462d-b3e9-410757575d22\" class=\"sk-toggleable__label sk-toggleable__label-arrow\">SimpleImputer</label><div class=\"sk-toggleable__content\"><pre>SimpleImputer(strategy=&#x27;median&#x27;)</pre></div></div></div></div></div>"
            ]
          },
          "metadata": {},
          "execution_count": 40
        }
      ]
    },
    {
      "cell_type": "code",
      "source": [
        "num_pipeline.set_params(simpleimputer__strategy=\"median\")"
      ],
      "metadata": {
        "colab": {
          "base_uri": "https://localhost:8080/",
          "height": 126
        },
        "id": "0dSvM0FQGt5A",
        "outputId": "27f3fbe1-43af-4eaa-9f2b-0016e675fdf6"
      },
      "execution_count": 41,
      "outputs": [
        {
          "output_type": "execute_result",
          "data": {
            "text/plain": [
              "Pipeline(steps=[('simpleimputer', SimpleImputer(strategy='median')),\n",
              "                ('standardscaler', StandardScaler())])"
            ],
            "text/html": [
              "<style>#sk-0a04dc63-3e9e-443b-b108-e10d0160cd28 {color: black;background-color: white;}#sk-0a04dc63-3e9e-443b-b108-e10d0160cd28 pre{padding: 0;}#sk-0a04dc63-3e9e-443b-b108-e10d0160cd28 div.sk-toggleable {background-color: white;}#sk-0a04dc63-3e9e-443b-b108-e10d0160cd28 label.sk-toggleable__label {cursor: pointer;display: block;width: 100%;margin-bottom: 0;padding: 0.3em;box-sizing: border-box;text-align: center;}#sk-0a04dc63-3e9e-443b-b108-e10d0160cd28 label.sk-toggleable__label-arrow:before {content: \"▸\";float: left;margin-right: 0.25em;color: #696969;}#sk-0a04dc63-3e9e-443b-b108-e10d0160cd28 label.sk-toggleable__label-arrow:hover:before {color: black;}#sk-0a04dc63-3e9e-443b-b108-e10d0160cd28 div.sk-estimator:hover label.sk-toggleable__label-arrow:before {color: black;}#sk-0a04dc63-3e9e-443b-b108-e10d0160cd28 div.sk-toggleable__content {max-height: 0;max-width: 0;overflow: hidden;text-align: left;background-color: #f0f8ff;}#sk-0a04dc63-3e9e-443b-b108-e10d0160cd28 div.sk-toggleable__content pre {margin: 0.2em;color: black;border-radius: 0.25em;background-color: #f0f8ff;}#sk-0a04dc63-3e9e-443b-b108-e10d0160cd28 input.sk-toggleable__control:checked~div.sk-toggleable__content {max-height: 200px;max-width: 100%;overflow: auto;}#sk-0a04dc63-3e9e-443b-b108-e10d0160cd28 input.sk-toggleable__control:checked~label.sk-toggleable__label-arrow:before {content: \"▾\";}#sk-0a04dc63-3e9e-443b-b108-e10d0160cd28 div.sk-estimator input.sk-toggleable__control:checked~label.sk-toggleable__label {background-color: #d4ebff;}#sk-0a04dc63-3e9e-443b-b108-e10d0160cd28 div.sk-label input.sk-toggleable__control:checked~label.sk-toggleable__label {background-color: #d4ebff;}#sk-0a04dc63-3e9e-443b-b108-e10d0160cd28 input.sk-hidden--visually {border: 0;clip: rect(1px 1px 1px 1px);clip: rect(1px, 1px, 1px, 1px);height: 1px;margin: -1px;overflow: hidden;padding: 0;position: absolute;width: 1px;}#sk-0a04dc63-3e9e-443b-b108-e10d0160cd28 div.sk-estimator {font-family: monospace;background-color: #f0f8ff;border: 1px dotted black;border-radius: 0.25em;box-sizing: border-box;margin-bottom: 0.5em;}#sk-0a04dc63-3e9e-443b-b108-e10d0160cd28 div.sk-estimator:hover {background-color: #d4ebff;}#sk-0a04dc63-3e9e-443b-b108-e10d0160cd28 div.sk-parallel-item::after {content: \"\";width: 100%;border-bottom: 1px solid gray;flex-grow: 1;}#sk-0a04dc63-3e9e-443b-b108-e10d0160cd28 div.sk-label:hover label.sk-toggleable__label {background-color: #d4ebff;}#sk-0a04dc63-3e9e-443b-b108-e10d0160cd28 div.sk-serial::before {content: \"\";position: absolute;border-left: 1px solid gray;box-sizing: border-box;top: 2em;bottom: 0;left: 50%;}#sk-0a04dc63-3e9e-443b-b108-e10d0160cd28 div.sk-serial {display: flex;flex-direction: column;align-items: center;background-color: white;padding-right: 0.2em;padding-left: 0.2em;}#sk-0a04dc63-3e9e-443b-b108-e10d0160cd28 div.sk-item {z-index: 1;}#sk-0a04dc63-3e9e-443b-b108-e10d0160cd28 div.sk-parallel {display: flex;align-items: stretch;justify-content: center;background-color: white;}#sk-0a04dc63-3e9e-443b-b108-e10d0160cd28 div.sk-parallel::before {content: \"\";position: absolute;border-left: 1px solid gray;box-sizing: border-box;top: 2em;bottom: 0;left: 50%;}#sk-0a04dc63-3e9e-443b-b108-e10d0160cd28 div.sk-parallel-item {display: flex;flex-direction: column;position: relative;background-color: white;}#sk-0a04dc63-3e9e-443b-b108-e10d0160cd28 div.sk-parallel-item:first-child::after {align-self: flex-end;width: 50%;}#sk-0a04dc63-3e9e-443b-b108-e10d0160cd28 div.sk-parallel-item:last-child::after {align-self: flex-start;width: 50%;}#sk-0a04dc63-3e9e-443b-b108-e10d0160cd28 div.sk-parallel-item:only-child::after {width: 0;}#sk-0a04dc63-3e9e-443b-b108-e10d0160cd28 div.sk-dashed-wrapped {border: 1px dashed gray;margin: 0 0.4em 0.5em 0.4em;box-sizing: border-box;padding-bottom: 0.4em;background-color: white;position: relative;}#sk-0a04dc63-3e9e-443b-b108-e10d0160cd28 div.sk-label label {font-family: monospace;font-weight: bold;background-color: white;display: inline-block;line-height: 1.2em;}#sk-0a04dc63-3e9e-443b-b108-e10d0160cd28 div.sk-label-container {position: relative;z-index: 2;text-align: center;}#sk-0a04dc63-3e9e-443b-b108-e10d0160cd28 div.sk-container {/* jupyter's `normalize.less` sets `[hidden] { display: none; }` but bootstrap.min.css set `[hidden] { display: none !important; }` so we also need the `!important` here to be able to override the default hidden behavior on the sphinx rendered scikit-learn.org. See: https://github.com/scikit-learn/scikit-learn/issues/21755 */display: inline-block !important;position: relative;}#sk-0a04dc63-3e9e-443b-b108-e10d0160cd28 div.sk-text-repr-fallback {display: none;}</style><div id=\"sk-0a04dc63-3e9e-443b-b108-e10d0160cd28\" class=\"sk-top-container\"><div class=\"sk-text-repr-fallback\"><pre>Pipeline(steps=[(&#x27;simpleimputer&#x27;, SimpleImputer(strategy=&#x27;median&#x27;)),\n",
              "                (&#x27;standardscaler&#x27;, StandardScaler())])</pre><b>Please rerun this cell to show the HTML repr or trust the notebook.</b></div><div class=\"sk-container\" hidden><div class=\"sk-item sk-dashed-wrapped\"><div class=\"sk-label-container\"><div class=\"sk-label sk-toggleable\"><input class=\"sk-toggleable__control sk-hidden--visually\" id=\"b3b43944-823f-4098-860b-aa6e0828f100\" type=\"checkbox\" ><label for=\"b3b43944-823f-4098-860b-aa6e0828f100\" class=\"sk-toggleable__label sk-toggleable__label-arrow\">Pipeline</label><div class=\"sk-toggleable__content\"><pre>Pipeline(steps=[(&#x27;simpleimputer&#x27;, SimpleImputer(strategy=&#x27;median&#x27;)),\n",
              "                (&#x27;standardscaler&#x27;, StandardScaler())])</pre></div></div></div><div class=\"sk-serial\"><div class=\"sk-item\"><div class=\"sk-estimator sk-toggleable\"><input class=\"sk-toggleable__control sk-hidden--visually\" id=\"245f592e-fc37-437b-97b2-4c000dfa8965\" type=\"checkbox\" ><label for=\"245f592e-fc37-437b-97b2-4c000dfa8965\" class=\"sk-toggleable__label sk-toggleable__label-arrow\">SimpleImputer</label><div class=\"sk-toggleable__content\"><pre>SimpleImputer(strategy=&#x27;median&#x27;)</pre></div></div></div><div class=\"sk-item\"><div class=\"sk-estimator sk-toggleable\"><input class=\"sk-toggleable__control sk-hidden--visually\" id=\"3b9ba27e-2ffa-442f-974e-e894928ec4ca\" type=\"checkbox\" ><label for=\"3b9ba27e-2ffa-442f-974e-e894928ec4ca\" class=\"sk-toggleable__label sk-toggleable__label-arrow\">StandardScaler</label><div class=\"sk-toggleable__content\"><pre>StandardScaler()</pre></div></div></div></div></div></div></div>"
            ]
          },
          "metadata": {},
          "execution_count": 41
        }
      ]
    },
    {
      "cell_type": "code",
      "source": [
        "#Column transformer\n",
        "from sklearn.compose import ColumnTransformer\n",
        "from sklearn.preprocessing import OneHotEncoder\n",
        "num_attribs = [\"longitude\", \"latitude\", \"housing_median_age\", \"total_rooms\",\n",
        "               \"total_bedrooms\", \"population\", \"households\", \"median_income\"]\n",
        "cat_attribs = [\"ocean_proximity\"]\n",
        "\n",
        "cat_pipeline = make_pipeline(\n",
        "    SimpleImputer(strategy=\"most_frequent\"),\n",
        "    OneHotEncoder(handle_unknown=\"ignore\"))\n",
        "\n",
        "preprocessing = ColumnTransformer([\n",
        "    (\"num\", num_pipeline, num_attribs),\n",
        "    (\"cat\", cat_pipeline, cat_attribs),\n",
        "])"
      ],
      "metadata": {
        "id": "iBPbC-DJGv9e"
      },
      "execution_count": 45,
      "outputs": []
    },
    {
      "cell_type": "code",
      "source": [
        "#using make_column_selector()\n",
        "from sklearn.compose import make_column_selector, make_column_transformer\n",
        "\n",
        "preprocessing = make_column_transformer(\n",
        "    (num_pipeline, make_column_selector(dtype_include=np.number)),\n",
        "    (cat_pipeline, make_column_selector(dtype_include=object)),\n",
        ")"
      ],
      "metadata": {
        "id": "LDdTOKkjHH8T"
      },
      "execution_count": 46,
      "outputs": []
    },
    {
      "cell_type": "code",
      "source": [
        "housing_prepared = preprocessing.fit_transform(housing)"
      ],
      "metadata": {
        "id": "VyThF2nFHirP"
      },
      "execution_count": 49,
      "outputs": []
    },
    {
      "cell_type": "code",
      "source": [
        "def column_ratio(X):\n",
        "    return X[:, [0]] / X[:, [1]]\n",
        "\n",
        "def ratio_name(function_transformer, feature_names_in):\n",
        "    return [\"ratio\"]  # feature names out\n",
        "\n",
        "def ratio_pipeline():\n",
        "    return make_pipeline(SimpleImputer(strategy=\"median\"), FunctionTransformer(column_ratio), StandardScaler())\n",
        "\n",
        "log_pipeline = make_pipeline(SimpleImputer(strategy=\"median\"), FunctionTransformer(np.log), StandardScaler())\n",
        "\n",
        "cluster_simil = ClusterSimilarity(n_clusters=10, gamma=1., random_state=42)\n",
        "default_num_pipeline = make_pipeline(SimpleImputer(strategy=\"median\"), StandardScaler())\n",
        "\n",
        "preprocessing = ColumnTransformer([(\"bedrooms\", ratio_pipeline(), [\"total_bedrooms\", \"total_rooms\"]),\n",
        "        (\"rooms_per_house\", ratio_pipeline(), [\"total_rooms\", \"households\"]),\n",
        "        (\"people_per_house\", ratio_pipeline(), [\"population\", \"households\"]),\n",
        "        (\"log\", log_pipeline, [\"total_bedrooms\", \"total_rooms\", \"population\", \"households\", \"median_income\"]),\n",
        "        (\"geo\", cluster_simil, [\"latitude\", \"longitude\"]),\n",
        "        (\"cat\", cat_pipeline, make_column_selector(dtype_include=object)),\n",
        "    ], remainder=default_num_pipeline)  # one column remaining: housing_median_age"
      ],
      "metadata": {
        "id": "2A2HSqU1HyiB"
      },
      "execution_count": 54,
      "outputs": []
    },
    {
      "cell_type": "code",
      "source": [
        "housing_prepared = preprocessing.fit_transform(housing)\n",
        "housing_prepared.shape"
      ],
      "metadata": {
        "colab": {
          "base_uri": "https://localhost:8080/"
        },
        "id": "R1qJJ-U-I_fu",
        "outputId": "054802d6-d88e-416e-9f81-538cc05e4d86"
      },
      "execution_count": 55,
      "outputs": [
        {
          "output_type": "execute_result",
          "data": {
            "text/plain": [
              "(20640, 26)"
            ]
          },
          "metadata": {},
          "execution_count": 55
        }
      ]
    },
    {
      "cell_type": "code",
      "source": [],
      "metadata": {
        "id": "Fj-ZpuScJQNu"
      },
      "execution_count": null,
      "outputs": []
    }
  ]
}